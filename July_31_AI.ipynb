{
 "cells": [
  {
   "cell_type": "markdown",
   "metadata": {},
   "source": [
    "## chap 14"
   ]
  },
  {
   "cell_type": "markdown",
   "metadata": {},
   "source": [
    "web crawling -> getting the documents\n",
    "web scrapping -> getting the information from the documents\n"
   ]
  },
  {
   "cell_type": "code",
   "execution_count": 2,
   "metadata": {},
   "outputs": [
    {
     "name": "stdout",
     "output_type": "stream",
     "text": [
      "<h1 class=\"site-headline\">\n",
      "<a href=\"/\"><img alt=\"python™\" class=\"python-logo\" src=\"/static/img/python-logo.png\"/></a>\n",
      "</h1>\n"
     ]
    }
   ],
   "source": [
    "from urllib.request import urlopen\n",
    "from bs4 import BeautifulSoup\n",
    "a = urlopen(\"http://python.org\")\n",
    "soup = BeautifulSoup(a.read(),\"html.parser\")\n",
    "print(soup.h1)"
   ]
  },
  {
   "cell_type": "code",
   "execution_count": 4,
   "metadata": {},
   "outputs": [
    {
     "name": "stdout",
     "output_type": "stream",
     "text": [
      "Start download\n",
      "End download\n"
     ]
    }
   ],
   "source": [
    "import urllib.request\n",
    "url = \"http://storage.googleapis.com/patents/grant_full_text/2014/ipg140107.zip\"\n",
    "\n",
    "print(\"Start download\")\n",
    "fname, header = urllib.request.urlretrieve(url,'ipg140107.zip')\n",
    "\n",
    "print(\"End download\") #downloads in the same file"
   ]
  },
  {
   "cell_type": "code",
   "execution_count": 11,
   "metadata": {},
   "outputs": [
    {
     "name": "stdout",
     "output_type": "stream",
     "text": [
      "================\n",
      "<div>\n",
      "<p>A</p>\n",
      "</div>\n",
      "================\n",
      "[<div>\n",
      "<p>A</p>\n",
      "</div>, <div class=\"ABC_class\">\n",
      "<p>B</p>\n",
      "</div>, <div id=\"ABC_id\">\n",
      "<p>C</p>\n",
      "</div>]\n",
      "================\n",
      "<div id=\"ABC_id\">\n",
      "<p>C</p>\n",
      "</div>\n",
      "================\n",
      "\n",
      "C\n",
      "\n"
     ]
    }
   ],
   "source": [
    "with open(\"example.html\") as f:\n",
    "    soup = BeautifulSoup(f,'html.parser')\n",
    "print(\"================\")\n",
    "a = soup.find(\"div\")\n",
    "print(a)\n",
    "print(\"================\")\n",
    "a = soup.find_all(\"div\")\n",
    "print(a)\n",
    "print(\"================\")\n",
    "a = soup.find('div',{'id':'ABC_id'})\n",
    "print(a)\n",
    "print(\"================\")\n",
    "a = soup.find('div',{'id':'ABC_id'}).text\n",
    "print(a)"
   ]
  },
  {
   "cell_type": "code",
   "execution_count": 19,
   "metadata": {
    "scrolled": true
   },
   "outputs": [
    {
     "name": "stdout",
     "output_type": "stream",
     "text": [
      "<title>랭킹 : 네이버 영화</title>\n",
      "Rank 1: 반도\n",
      "Rank 2: 강철비2: 정상회담\n",
      "Rank 3: #살아있다\n",
      "Rank 4: 다만 악에서 구하소서\n",
      "Rank 5: 팬데믹\n",
      "Rank 6: 알라딘\n",
      "Rank 7: 밤쉘: 세상을 바꾼 폭탄선언\n",
      "Rank 8: 소년시절의 너\n",
      "Rank 9: 존 윅\n",
      "Rank 10: 키싱 부스 2\n",
      "Rank 11: 블루 아워\n",
      "Rank 12: 프리즈너\n",
      "Rank 13: 에베레스트\n",
      "Rank 14: 파리의 인어\n",
      "Rank 15: 강철비\n",
      "Rank 16: 온워드: 단 하루의 기적\n",
      "Rank 17: 1942: 언노운 배틀\n",
      "Rank 18: 세인트 주디\n",
      "Rank 19: 부산행\n",
      "Rank 20: 올드 가드\n",
      "Rank 21: 테넷\n",
      "Rank 22: 마티아스와 막심\n",
      "Rank 23: 비바리움\n",
      "Rank 24: 키싱 부스\n",
      "Rank 25: 결백\n",
      "Rank 26: 빅샤크3: 젤리몬스터 대소동\n",
      "Rank 27: 정도\n",
      "Rank 28: 모탈: 레전드 오브 토르\n",
      "Rank 29: 기기괴괴 성형수\n",
      "Rank 30: 위대한 쇼맨\n",
      "Rank 31: 불량한 가족\n",
      "Rank 32: 슈퍼 레이스\n",
      "Rank 33: 컨택트 2020\n",
      "Rank 34: 모든 것을 벗어던진 특별한 여행\n",
      "Rank 35: 인베이젼 2020\n",
      "Rank 36: 국제수사\n",
      "Rank 37: 욕창\n",
      "Rank 38: 소리꾼\n",
      "Rank 39: 아카이브\n",
      "Rank 40: 킹스맨: 퍼스트 에이전트\n",
      "Rank 41: 아디오스\n",
      "Rank 42: 사라진 시간\n",
      "Rank 43: 블랙아웃 : 인베이젼 어스\n",
      "Rank 44: 카오산 탱고\n",
      "Rank 45: 오케이 마담\n",
      "Rank 46: 소년 아메드\n",
      "Rank 47: 야구소녀\n",
      "Rank 48: 그레이하운드\n",
      "Rank 49: 우리집 똥멍청이\n",
      "Rank 50: 가버나움\n"
     ]
    }
   ],
   "source": [
    "from urllib.request import urlopen\n",
    "from bs4 import BeautifulSoup\n",
    "\n",
    "# BeautifulSoup is a python library that helps parsing the html, xml documnets\n",
    "#used with urllib.request module\n",
    "a = urlopen(\"https://movie.naver.com/movie/sdb/rank/rmovie.nhn\")\n",
    "soup = BeautifulSoup(a.read(),\"html.parser\")\n",
    "print(soup.title)\n",
    "movie = soup.find_all('div',{'class':'tit3'})\n",
    "# movie = soup.find_all('div',tit3')  => the same. \n",
    "i = 1\n",
    "for a in movie:\n",
    "    print(\"Rank {}: {}\".format(i,a.find('a').text))\n",
    "    i += 1\n",
    "# in the html file, the title is wrapped in <a> </a> "
   ]
  },
  {
   "cell_type": "code",
   "execution_count": 29,
   "metadata": {
    "scrolled": true
   },
   "outputs": [
    {
     "name": "stdout",
     "output_type": "stream",
     "text": [
      "type in the keyword:moana\n",
      "number of crawling (max 50)3\n",
      "1\n",
      "2\n",
      "3\n",
      "image crawling is done\n"
     ]
    }
   ],
   "source": [
    "# how to do web crawling (downloading image files )\n",
    "from bs4 import BeautifulSoup as bs\n",
    "from urllib.request import urlopen\n",
    "from urllib.parse import quote_plus #useful tool for searching in korean\n",
    "\n",
    "baseUrl = 'https://search.naver.com/search.naver?where=image&sm=tab_jum&query='\n",
    "plusUrl = input(\"type in the keyword:\")\n",
    "crawl_num = int(input(\"number of crawling (max 50)\"))\n",
    "\n",
    "url = baseUrl + quote_plus(plusUrl) \n",
    "html = urlopen(url)\n",
    "soup = bs(html,'html.parser')\n",
    "img = soup.find_all(class_='_img')\n",
    "#print(img) saves the whole page?\n",
    "\n",
    "n = 1\n",
    "for i in img:\n",
    "    #print(i)\n",
    "    print(n)\n",
    "    imgUrl = i['data-source']\n",
    "    with urlopen(imgUrl) as f:\n",
    "        with open('images/img' + str(n) + '.jpg','wb') as h: #write binary for image\n",
    "            img = f.read()\n",
    "            h.write(img)\n",
    "        n += 1\n",
    "        if n>crawl_num:\n",
    "            break\n",
    "print(\"image crawling is done\")"
   ]
  },
  {
   "cell_type": "markdown",
   "metadata": {},
   "source": [
    "# chap 16 - Numpy, Matplotlib"
   ]
  },
  {
   "cell_type": "code",
   "execution_count": 54,
   "metadata": {
    "scrolled": true
   },
   "outputs": [
    {
     "name": "stdout",
     "output_type": "stream",
     "text": [
      "[[0.87247454 0.21233268]\n",
      " [0.04070962 0.39719446]\n",
      " [0.2331322  0.84174072]\n",
      " [0.20708234 0.74246953]\n",
      " [0.39215413 0.18225652]]\n",
      "==========================\n",
      "[[0.65358959 0.11500694]\n",
      " [0.95028286 0.4821914 ]]\n",
      "[[0.65358959 0.11500694]\n",
      " [0.95028286 0.4821914 ]]\n"
     ]
    }
   ],
   "source": [
    "# numpy array's size can not be changed. different to python list.\n",
    "# to make the calculation fast\n",
    "# pip intall numpy\n",
    "\n",
    "#creating random number is an important\n",
    "import numpy as np\n",
    "a = np.random.rand(5,2) #create 0-1  value array 5 X 2\n",
    "print(a)\n",
    "#for numpy, random number is already 'random', it uses seed to keep it the same.\n",
    "# opposite of C lang.\n",
    "print('==========================') #shoing the same result \n",
    "np.random.seed(1000)\n",
    "q = np.random.rand(2,2)\n",
    "print(q)\n",
    "np.random.seed(1000)\n",
    "o = np.random.rand(2,2)\n",
    "print(o)"
   ]
  },
  {
   "cell_type": "code",
   "execution_count": 34,
   "metadata": {},
   "outputs": [
    {
     "name": "stdout",
     "output_type": "stream",
     "text": [
      "[0 1 2 3 4 5]\n"
     ]
    },
    {
     "data": {
      "text/plain": [
       "array([[ 0,  1,  2],\n",
       "       [ 3,  4,  5],\n",
       "       [ 6,  7,  8],\n",
       "       [ 9, 10, 11]])"
      ]
     },
     "execution_count": 34,
     "metadata": {},
     "output_type": "execute_result"
    }
   ],
   "source": [
    "print(np.arange(6)) #making array with range(6)\n",
    "np.arange(12).reshape(4,3) # can change diagram"
   ]
  },
  {
   "cell_type": "code",
   "execution_count": 40,
   "metadata": {},
   "outputs": [
    {
     "name": "stdout",
     "output_type": "stream",
     "text": [
      "[0 5] [ 0.   2.5  5.   7.5 10. ]\n"
     ]
    }
   ],
   "source": [
    "a = np.arange(0,10,5) #from 0 to 10-1, add 5(step)\n",
    "b = np.linspace(0,10,5) # from 0 to 10, make 5\n",
    "print(a,b)"
   ]
  },
  {
   "cell_type": "code",
   "execution_count": 47,
   "metadata": {},
   "outputs": [
    {
     "name": "stdout",
     "output_type": "stream",
     "text": [
      "[[1 4 6]\n",
      " [1 3 6]\n",
      " [5 6 2]]\n",
      "[[ 1.4626675  -0.06565448 -0.12472081]\n",
      " [ 0.07840289  0.00301084  1.67861827]\n",
      " [-0.00530184  0.82322861 -0.61816226]]\n"
     ]
    }
   ],
   "source": [
    "k = np.random.randint(1,10,(3,3))\n",
    "print(k)\n",
    "q = np.random.randn(3,3)\n",
    "print(q)"
   ]
  },
  {
   "cell_type": "code",
   "execution_count": 55,
   "metadata": {},
   "outputs": [
    {
     "data": {
      "text/plain": [
       "<matplotlib.legend.Legend at 0x1e143898e08>"
      ]
     },
     "execution_count": 55,
     "metadata": {},
     "output_type": "execute_result"
    },
    {
     "data": {
      "image/png": "[encoded data removed]",
      "text/plain": [
       "<Figure size 432x288 with 1 Axes>"
      ]
     },
     "metadata": {
      "needs_background": "light"
     },
     "output_type": "display_data"
    }
   ],
   "source": [
    "import matplotlib.pyplot as plt\n",
    "sqr = [10**2, 11**2, 12**2]\n",
    "MyNum = [90,105,130]\n",
    "\n",
    "plt.plot(sqr, linewidth = 10)\n",
    "plt.plot(MyNum, linewidth = 5)\n",
    "\n",
    "plt.title(\"10 to 12 square numbers\")\n",
    "plt.xlabel(\"Order\")\n",
    "plt.ylabel(\"square numbers.\",fontsize = 15)\n",
    "plt.legend(['sqr number','MyNum'])\n",
    "\n",
    "\n",
    "\n"
   ]
  },
  {
   "cell_type": "code",
   "execution_count": 56,
   "metadata": {},
   "outputs": [
    {
     "data": {
      "image/png": "[encoded data removed]",
      "text/plain": [
       "<Figure size 432x288 with 2 Axes>"
      ]
     },
     "metadata": {
      "needs_background": "light"
     },
     "output_type": "display_data"
    }
   ],
   "source": [
    "numX = range(1,11)\n",
    "numY = range(10,0,-1)\n",
    "\n",
    "plt.scatter(numX,numY, s=50,c=numX)\n",
    "plt.title(\"scatter graph\")\n",
    "plt.xlabel(\"X label\")\n",
    "plt.ylabel(\"Y label\")\n",
    "plt.colorbar()\n",
    "plt.show()"
   ]
  },
  {
   "cell_type": "code",
   "execution_count": 62,
   "metadata": {},
   "outputs": [
    {
     "data": {
      "image/png": "[encoded data removed]",
      "text/plain": [
       "<Figure size 432x288 with 1 Axes>"
      ]
     },
     "metadata": {
      "needs_background": "light"
     },
     "output_type": "display_data"
    }
   ],
   "source": [
    "x = range(1,4)\n",
    "a = np.array([10,15,20])\n",
    "b = np.array([30,40,260])\n",
    "c = np.array([100,115,120])\n",
    "\n",
    "plt.bar(x,a,color = 'pink')\n",
    "plt.bar(x,b,color = 'g', bottom = a)\n",
    "plt.bar(x,c,color = 'r', bottom = a+b) #green, red all possible\n",
    "\n",
    "plt.show()"
   ]
  },
  {
   "cell_type": "code",
   "execution_count": 63,
   "metadata": {},
   "outputs": [
    {
     "data": {
      "image/png": "[encoded data removed]",
      "text/plain": [
       "<Figure size 432x288 with 1 Axes>"
      ]
     },
     "metadata": {},
     "output_type": "display_data"
    }
   ],
   "source": [
    "ratio = [30,30,30,30] # just the values, not ratio.\n",
    "plt.pie(ratio)\n",
    "plt.show()"
   ]
  },
  {
   "cell_type": "code",
   "execution_count": 66,
   "metadata": {},
   "outputs": [
    {
     "data": {
      "image/png": "[encoded data removed]",
      "text/plain": [
       "<Figure size 432x288 with 1 Axes>"
      ]
     },
     "metadata": {
      "needs_background": "light"
     },
     "output_type": "display_data"
    }
   ],
   "source": [
    "# randn -> around 0 it will create more\n",
    "\n",
    "a = np.random.randn(100) # avergae 0, 100 numbers\n",
    "plt.hist(a,bins=40) # choosing 40 out of 100\n",
    "plt.show()\n",
    "\n"
   ]
  },
  {
   "cell_type": "code",
   "execution_count": 67,
   "metadata": {},
   "outputs": [
    {
     "data": {
      "image/png": "[encoded data removed]",
      "text/plain": [
       "<Figure size 432x288 with 1 Axes>"
      ]
     },
     "metadata": {
      "needs_background": "light"
     },
     "output_type": "display_data"
    }
   ],
   "source": [
    "a = np.random.normal(10,3,500) # from -1 to 1, more around 0, 100 numbers\n",
    "plt.hist(a,bins=40,color = 'pink') # choosing 40 out of 100\n",
    "plt.show()\n"
   ]
  },
  {
   "cell_type": "markdown",
   "metadata": {},
   "source": [
    "## A.I chap 20"
   ]
  },
  {
   "cell_type": "code",
   "execution_count": 3,
   "metadata": {},
   "outputs": [
    {
     "name": "stdout",
     "output_type": "stream",
     "text": [
      "================top 5 lines===================\n",
      "   pregnant  plasma  pressure  thickness  insulin   BMI  pedigree  age  class\n",
      "0         6     148        72         35        0  33.6     0.627   50      1\n",
      "1         1      85        66         29        0  26.6     0.351   31      0\n",
      "2         8     183        64          0        0  23.3     0.672   32      1\n",
      "3         1      89        66         23       94  28.1     0.167   21      0\n",
      "4         0     137        40         35      168  43.1     2.288   33      1\n",
      "================general info===================\n",
      "<class 'pandas.core.frame.DataFrame'>\n",
      "RangeIndex: 768 entries, 0 to 767\n",
      "Data columns (total 9 columns):\n",
      " #   Column     Non-Null Count  Dtype  \n",
      "---  ------     --------------  -----  \n",
      " 0   pregnant   768 non-null    int64  \n",
      " 1   plasma     768 non-null    int64  \n",
      " 2   pressure   768 non-null    int64  \n",
      " 3   thickness  768 non-null    int64  \n",
      " 4   insulin    768 non-null    int64  \n",
      " 5   BMI        768 non-null    float64\n",
      " 6   pedigree   768 non-null    float64\n",
      " 7   age        768 non-null    int64  \n",
      " 8   class      768 non-null    int64  \n",
      "dtypes: float64(2), int64(7)\n",
      "memory usage: 54.1 KB\n",
      "None\n",
      "================column info===================\n",
      "         pregnant      plasma    pressure   thickness     insulin         BMI  \\\n",
      "count  768.000000  768.000000  768.000000  768.000000  768.000000  768.000000   \n",
      "mean     3.845052  120.894531   69.105469   20.536458   79.799479   31.992578   \n",
      "std      3.369578   31.972618   19.355807   15.952218  115.244002    7.884160   \n",
      "min      0.000000    0.000000    0.000000    0.000000    0.000000    0.000000   \n",
      "25%      1.000000   99.000000   62.000000    0.000000    0.000000   27.300000   \n",
      "50%      3.000000  117.000000   72.000000   23.000000   30.500000   32.000000   \n",
      "75%      6.000000  140.250000   80.000000   32.000000  127.250000   36.600000   \n",
      "max     17.000000  199.000000  122.000000   99.000000  846.000000   67.100000   \n",
      "\n",
      "         pedigree         age       class  \n",
      "count  768.000000  768.000000  768.000000  \n",
      "mean     0.471876   33.240885    0.348958  \n",
      "std      0.331329   11.760232    0.476951  \n",
      "min      0.078000   21.000000    0.000000  \n",
      "25%      0.243750   24.000000    0.000000  \n",
      "50%      0.372500   29.000000    0.000000  \n",
      "75%      0.626250   41.000000    1.000000  \n",
      "max      2.420000   81.000000    1.000000  \n",
      "================plasma and class===================\n",
      "     plasma  class\n",
      "0       148      1\n",
      "1        85      0\n",
      "2       183      1\n",
      "3        89      0\n",
      "4       137      1\n",
      "..      ...    ...\n",
      "763     101      0\n",
      "764     122      0\n",
      "765     121      0\n",
      "766     126      1\n",
      "767      93      0\n",
      "\n",
      "[768 rows x 2 columns]\n",
      "================graph ===================\n"
     ]
    },
    {
     "data": {
      "image/png": "[encoded data removed]",
      "text/plain": [
       "<Figure size 864x864 with 2 Axes>"
      ]
     },
     "metadata": {
      "needs_background": "light"
     },
     "output_type": "display_data"
    },
    {
     "data": {
      "image/png": "[encoded data removed]",
      "text/plain": [
       "<Figure size 432x216 with 2 Axes>"
      ]
     },
     "metadata": {
      "needs_background": "light"
     },
     "output_type": "display_data"
    },
    {
     "name": "stdout",
     "output_type": "stream",
     "text": [
      "Train on 768 samples\n",
      "Epoch 1/200\n",
      "768/768 [==============================] - 1s 1ms/sample - loss: 10.9665 - accuracy: 0.6224\n",
      "Epoch 2/200\n",
      "768/768 [==============================] - 0s 166us/sample - loss: 5.9693 - accuracy: 0.6107\n",
      "Epoch 3/200\n",
      "768/768 [==============================] - 0s 166us/sample - loss: 3.3368 - accuracy: 0.5208\n",
      "Epoch 4/200\n",
      "768/768 [==============================] - 0s 149us/sample - loss: 1.9847 - accuracy: 0.5169\n",
      "Epoch 5/200\n",
      "768/768 [==============================] - 0s 156us/sample - loss: 1.1698 - accuracy: 0.5391\n",
      "Epoch 6/200\n",
      "768/768 [==============================] - 0s 156us/sample - loss: 0.8547 - accuracy: 0.5482\n",
      "Epoch 7/200\n",
      "768/768 [==============================] - 0s 161us/sample - loss: 0.7792 - accuracy: 0.5521\n",
      "Epoch 8/200\n",
      "768/768 [==============================] - 0s 193us/sample - loss: 0.7455 - accuracy: 0.5638\n",
      "Epoch 9/200\n",
      "768/768 [==============================] - 0s 205us/sample - loss: 0.7130 - accuracy: 0.6536\n",
      "Epoch 10/200\n",
      "768/768 [==============================] - 0s 216us/sample - loss: 0.6870 - accuracy: 0.6562\n",
      "Epoch 11/200\n",
      "768/768 [==============================] - 0s 166us/sample - loss: 0.6544 - accuracy: 0.6732\n",
      "Epoch 12/200\n",
      "768/768 [==============================] - 0s 148us/sample - loss: 0.6338 - accuracy: 0.6706\n",
      "Epoch 13/200\n",
      "768/768 [==============================] - 0s 197us/sample - loss: 0.6137 - accuracy: 0.6992\n",
      "Epoch 14/200\n",
      "768/768 [==============================] - 0s 178us/sample - loss: 0.5960 - accuracy: 0.6914\n",
      "Epoch 15/200\n",
      "768/768 [==============================] - 0s 174us/sample - loss: 0.5814 - accuracy: 0.7083\n",
      "Epoch 16/200\n",
      "768/768 [==============================] - 0s 175us/sample - loss: 0.5783 - accuracy: 0.6966\n",
      "Epoch 17/200\n",
      "768/768 [==============================] - 0s 183us/sample - loss: 0.5731 - accuracy: 0.7188\n",
      "Epoch 18/200\n",
      "768/768 [==============================] - 0s 174us/sample - loss: 0.5693 - accuracy: 0.7174\n",
      "Epoch 19/200\n",
      "768/768 [==============================] - 0s 157us/sample - loss: 0.5629 - accuracy: 0.7174\n",
      "Epoch 20/200\n",
      "768/768 [==============================] - 0s 149us/sample - loss: 0.5678 - accuracy: 0.7253\n",
      "Epoch 21/200\n",
      "768/768 [==============================] - 0s 170us/sample - loss: 0.5599 - accuracy: 0.7253\n",
      "Epoch 22/200\n",
      "768/768 [==============================] - 0s 182us/sample - loss: 0.5530 - accuracy: 0.7253\n",
      "Epoch 23/200\n",
      "768/768 [==============================] - 0s 147us/sample - loss: 0.5577 - accuracy: 0.7279\n",
      "Epoch 24/200\n",
      "768/768 [==============================] - 0s 144us/sample - loss: 0.5554 - accuracy: 0.7227\n",
      "Epoch 25/200\n",
      "768/768 [==============================] - 0s 171us/sample - loss: 0.5523 - accuracy: 0.7292\n",
      "Epoch 26/200\n",
      "768/768 [==============================] - 0s 162us/sample - loss: 0.5501 - accuracy: 0.7266\n",
      "Epoch 27/200\n",
      "768/768 [==============================] - 0s 171us/sample - loss: 0.5498 - accuracy: 0.7214\n",
      "Epoch 28/200\n",
      "768/768 [==============================] - 0s 167us/sample - loss: 0.5464 - accuracy: 0.7370\n",
      "Epoch 29/200\n",
      "768/768 [==============================] - 0s 178us/sample - loss: 0.5490 - accuracy: 0.7240\n",
      "Epoch 30/200\n",
      "768/768 [==============================] - 0s 179us/sample - loss: 0.5432 - accuracy: 0.7253\n",
      "Epoch 31/200\n",
      "768/768 [==============================] - 0s 177us/sample - loss: 0.5482 - accuracy: 0.7318\n",
      "Epoch 32/200\n",
      "768/768 [==============================] - 0s 217us/sample - loss: 0.5455 - accuracy: 0.7344\n",
      "Epoch 33/200\n",
      "768/768 [==============================] - 0s 220us/sample - loss: 0.5425 - accuracy: 0.7331\n",
      "Epoch 34/200\n",
      "768/768 [==============================] - 0s 261us/sample - loss: 0.5514 - accuracy: 0.7174\n",
      "Epoch 35/200\n",
      "768/768 [==============================] - 0s 183us/sample - loss: 0.5377 - accuracy: 0.7344\n",
      "Epoch 36/200\n",
      "768/768 [==============================] - 0s 182us/sample - loss: 0.5375 - accuracy: 0.7370\n",
      "Epoch 37/200\n",
      "768/768 [==============================] - 0s 195us/sample - loss: 0.5399 - accuracy: 0.7266\n",
      "Epoch 38/200\n",
      "768/768 [==============================] - 0s 149us/sample - loss: 0.5404 - accuracy: 0.7357\n",
      "Epoch 39/200\n",
      "768/768 [==============================] - 0s 152us/sample - loss: 0.5343 - accuracy: 0.7344\n",
      "Epoch 40/200\n",
      "768/768 [==============================] - 0s 175us/sample - loss: 0.5425 - accuracy: 0.7266\n",
      "Epoch 41/200\n",
      "768/768 [==============================] - 0s 164us/sample - loss: 0.5355 - accuracy: 0.7292\n",
      "Epoch 42/200\n",
      "768/768 [==============================] - 0s 151us/sample - loss: 0.5338 - accuracy: 0.7448\n",
      "Epoch 43/200\n",
      "768/768 [==============================] - 0s 169us/sample - loss: 0.5357 - accuracy: 0.7422\n",
      "Epoch 44/200\n",
      "768/768 [==============================] - 0s 171us/sample - loss: 0.5331 - accuracy: 0.7435\n",
      "Epoch 45/200\n",
      "768/768 [==============================] - 0s 161us/sample - loss: 0.5463 - accuracy: 0.7253\n",
      "Epoch 46/200\n",
      "768/768 [==============================] - 0s 178us/sample - loss: 0.5376 - accuracy: 0.7383\n",
      "Epoch 47/200\n",
      "768/768 [==============================] - 0s 164us/sample - loss: 0.5283 - accuracy: 0.7357\n",
      "Epoch 48/200\n",
      "768/768 [==============================] - 0s 147us/sample - loss: 0.5249 - accuracy: 0.7422\n",
      "Epoch 49/200\n",
      "768/768 [==============================] - 0s 173us/sample - loss: 0.5339 - accuracy: 0.7409\n",
      "Epoch 50/200\n",
      "768/768 [==============================] - 0s 168us/sample - loss: 0.5243 - accuracy: 0.7344\n",
      "Epoch 51/200\n",
      "768/768 [==============================] - 0s 151us/sample - loss: 0.5259 - accuracy: 0.7409\n",
      "Epoch 52/200\n",
      "768/768 [==============================] - 0s 186us/sample - loss: 0.5265 - accuracy: 0.7357\n",
      "Epoch 53/200\n",
      "768/768 [==============================] - 0s 192us/sample - loss: 0.5227 - accuracy: 0.7474\n",
      "Epoch 54/200\n",
      "768/768 [==============================] - 0s 162us/sample - loss: 0.5251 - accuracy: 0.7422\n",
      "Epoch 55/200\n",
      "768/768 [==============================] - 0s 171us/sample - loss: 0.5206 - accuracy: 0.7344\n",
      "Epoch 56/200\n",
      "768/768 [==============================] - 0s 164us/sample - loss: 0.5221 - accuracy: 0.7461\n",
      "Epoch 57/200\n",
      "768/768 [==============================] - 0s 161us/sample - loss: 0.5208 - accuracy: 0.7552\n",
      "Epoch 58/200\n",
      "768/768 [==============================] - 0s 269us/sample - loss: 0.5319 - accuracy: 0.7344\n",
      "Epoch 59/200\n",
      "768/768 [==============================] - 0s 183us/sample - loss: 0.5226 - accuracy: 0.7396\n",
      "Epoch 60/200\n",
      "768/768 [==============================] - 0s 179us/sample - loss: 0.5252 - accuracy: 0.7435\n",
      "Epoch 61/200\n",
      "768/768 [==============================] - 0s 230us/sample - loss: 0.5180 - accuracy: 0.7396\n",
      "Epoch 62/200\n",
      "768/768 [==============================] - 0s 197us/sample - loss: 0.5177 - accuracy: 0.7422\n",
      "Epoch 63/200\n",
      "768/768 [==============================] - 0s 170us/sample - loss: 0.5240 - accuracy: 0.7344\n",
      "Epoch 64/200\n",
      "768/768 [==============================] - 0s 169us/sample - loss: 0.5195 - accuracy: 0.7435\n",
      "Epoch 65/200\n",
      "768/768 [==============================] - 0s 189us/sample - loss: 0.5172 - accuracy: 0.7422\n",
      "Epoch 66/200\n",
      "768/768 [==============================] - 0s 201us/sample - loss: 0.5161 - accuracy: 0.7383\n",
      "Epoch 67/200\n",
      "768/768 [==============================] - 0s 155us/sample - loss: 0.5199 - accuracy: 0.7370\n",
      "Epoch 68/200\n",
      "768/768 [==============================] - 0s 143us/sample - loss: 0.5177 - accuracy: 0.7435\n",
      "Epoch 69/200\n",
      "768/768 [==============================] - 0s 160us/sample - loss: 0.5168 - accuracy: 0.7409\n",
      "Epoch 70/200\n",
      "768/768 [==============================] - 0s 161us/sample - loss: 0.5132 - accuracy: 0.7513\n",
      "Epoch 71/200\n",
      "768/768 [==============================] - 0s 153us/sample - loss: 0.5150 - accuracy: 0.7448\n",
      "Epoch 72/200\n",
      "768/768 [==============================] - 0s 147us/sample - loss: 0.5124 - accuracy: 0.7474\n",
      "Epoch 73/200\n",
      "768/768 [==============================] - 0s 149us/sample - loss: 0.5069 - accuracy: 0.7500\n",
      "Epoch 74/200\n",
      "768/768 [==============================] - 0s 168us/sample - loss: 0.5159 - accuracy: 0.7435\n",
      "Epoch 75/200\n",
      "768/768 [==============================] - 0s 192us/sample - loss: 0.5107 - accuracy: 0.7409\n",
      "Epoch 76/200\n",
      "768/768 [==============================] - 0s 168us/sample - loss: 0.5163 - accuracy: 0.7422\n",
      "Epoch 77/200\n",
      "768/768 [==============================] - 0s 182us/sample - loss: 0.5049 - accuracy: 0.7500\n",
      "Epoch 78/200\n"
     ]
    },
    {
     "name": "stdout",
     "output_type": "stream",
     "text": [
      "768/768 [==============================] - 0s 173us/sample - loss: 0.5057 - accuracy: 0.7578\n",
      "Epoch 79/200\n",
      "768/768 [==============================] - 0s 147us/sample - loss: 0.5132 - accuracy: 0.7383\n",
      "Epoch 80/200\n",
      "768/768 [==============================] - 0s 145us/sample - loss: 0.5019 - accuracy: 0.7409\n",
      "Epoch 81/200\n",
      "768/768 [==============================] - 0s 140us/sample - loss: 0.5046 - accuracy: 0.7487\n",
      "Epoch 82/200\n",
      "768/768 [==============================] - 0s 192us/sample - loss: 0.5115 - accuracy: 0.7357\n",
      "Epoch 83/200\n",
      "768/768 [==============================] - 0s 200us/sample - loss: 0.5022 - accuracy: 0.7539\n",
      "Epoch 84/200\n",
      "768/768 [==============================] - 0s 149us/sample - loss: 0.5021 - accuracy: 0.7422\n",
      "Epoch 85/200\n",
      "768/768 [==============================] - 0s 199us/sample - loss: 0.5007 - accuracy: 0.7500\n",
      "Epoch 86/200\n",
      "768/768 [==============================] - 0s 179us/sample - loss: 0.5081 - accuracy: 0.7474\n",
      "Epoch 87/200\n",
      "768/768 [==============================] - 0s 184us/sample - loss: 0.4979 - accuracy: 0.7461\n",
      "Epoch 88/200\n",
      "768/768 [==============================] - 0s 358us/sample - loss: 0.4992 - accuracy: 0.7526\n",
      "Epoch 89/200\n",
      "768/768 [==============================] - 0s 223us/sample - loss: 0.4964 - accuracy: 0.7604\n",
      "Epoch 90/200\n",
      "768/768 [==============================] - 0s 187us/sample - loss: 0.4934 - accuracy: 0.7591\n",
      "Epoch 91/200\n",
      "768/768 [==============================] - ETA: 0s - loss: 0.5097 - accuracy: 0.74 - 0s 189us/sample - loss: 0.4973 - accuracy: 0.7526\n",
      "Epoch 92/200\n",
      "768/768 [==============================] - 0s 204us/sample - loss: 0.4978 - accuracy: 0.7500\n",
      "Epoch 93/200\n",
      "768/768 [==============================] - 0s 168us/sample - loss: 0.4949 - accuracy: 0.7591\n",
      "Epoch 94/200\n",
      "768/768 [==============================] - 0s 156us/sample - loss: 0.5030 - accuracy: 0.7552\n",
      "Epoch 95/200\n",
      "768/768 [==============================] - 0s 145us/sample - loss: 0.4923 - accuracy: 0.7604\n",
      "Epoch 96/200\n",
      "768/768 [==============================] - 0s 142us/sample - loss: 0.4953 - accuracy: 0.7526\n",
      "Epoch 97/200\n",
      "768/768 [==============================] - 0s 140us/sample - loss: 0.4933 - accuracy: 0.7539\n",
      "Epoch 98/200\n",
      "768/768 [==============================] - 0s 143us/sample - loss: 0.5013 - accuracy: 0.7435\n",
      "Epoch 99/200\n",
      "768/768 [==============================] - 0s 142us/sample - loss: 0.4974 - accuracy: 0.7526\n",
      "Epoch 100/200\n",
      "768/768 [==============================] - 0s 143us/sample - loss: 0.4914 - accuracy: 0.7539\n",
      "Epoch 101/200\n",
      "768/768 [==============================] - 0s 149us/sample - loss: 0.4976 - accuracy: 0.7578\n",
      "Epoch 102/200\n",
      "768/768 [==============================] - 0s 140us/sample - loss: 0.4939 - accuracy: 0.7604\n",
      "Epoch 103/200\n",
      "768/768 [==============================] - 0s 144us/sample - loss: 0.4856 - accuracy: 0.7760\n",
      "Epoch 104/200\n",
      "768/768 [==============================] - 0s 142us/sample - loss: 0.4969 - accuracy: 0.7435\n",
      "Epoch 105/200\n",
      "768/768 [==============================] - 0s 143us/sample - loss: 0.4925 - accuracy: 0.7591\n",
      "Epoch 106/200\n",
      "768/768 [==============================] - 0s 177us/sample - loss: 0.4900 - accuracy: 0.7591\n",
      "Epoch 107/200\n",
      "768/768 [==============================] - 0s 204us/sample - loss: 0.4864 - accuracy: 0.7461\n",
      "Epoch 108/200\n",
      "768/768 [==============================] - 0s 152us/sample - loss: 0.4884 - accuracy: 0.7474\n",
      "Epoch 109/200\n",
      "768/768 [==============================] - 0s 156us/sample - loss: 0.4797 - accuracy: 0.7669\n",
      "Epoch 110/200\n",
      "768/768 [==============================] - 0s 143us/sample - loss: 0.4891 - accuracy: 0.7500\n",
      "Epoch 111/200\n",
      "768/768 [==============================] - 0s 143us/sample - loss: 0.4856 - accuracy: 0.7643\n",
      "Epoch 112/200\n",
      "768/768 [==============================] - 0s 147us/sample - loss: 0.4922 - accuracy: 0.7591\n",
      "Epoch 113/200\n",
      "768/768 [==============================] - 0s 142us/sample - loss: 0.4900 - accuracy: 0.7526\n",
      "Epoch 114/200\n",
      "768/768 [==============================] - 0s 151us/sample - loss: 0.4894 - accuracy: 0.7552\n",
      "Epoch 115/200\n",
      "768/768 [==============================] - 0s 148us/sample - loss: 0.4889 - accuracy: 0.7604\n",
      "Epoch 116/200\n",
      "768/768 [==============================] - 0s 144us/sample - loss: 0.4863 - accuracy: 0.7604\n",
      "Epoch 117/200\n",
      "768/768 [==============================] - 0s 135us/sample - loss: 0.4902 - accuracy: 0.7591\n",
      "Epoch 118/200\n",
      "768/768 [==============================] - 0s 151us/sample - loss: 0.4832 - accuracy: 0.7721\n",
      "Epoch 119/200\n",
      "768/768 [==============================] - 0s 152us/sample - loss: 0.4789 - accuracy: 0.7708\n",
      "Epoch 120/200\n",
      "768/768 [==============================] - 0s 148us/sample - loss: 0.4961 - accuracy: 0.7539\n",
      "Epoch 121/200\n",
      "768/768 [==============================] - 0s 143us/sample - loss: 0.4805 - accuracy: 0.7682\n",
      "Epoch 122/200\n",
      "768/768 [==============================] - 0s 145us/sample - loss: 0.4814 - accuracy: 0.7552\n",
      "Epoch 123/200\n",
      "768/768 [==============================] - 0s 143us/sample - loss: 0.4823 - accuracy: 0.7578\n",
      "Epoch 124/200\n",
      "768/768 [==============================] - 0s 143us/sample - loss: 0.4811 - accuracy: 0.7643\n",
      "Epoch 125/200\n",
      "768/768 [==============================] - 0s 145us/sample - loss: 0.4832 - accuracy: 0.7630\n",
      "Epoch 126/200\n",
      "768/768 [==============================] - 0s 136us/sample - loss: 0.4830 - accuracy: 0.7708\n",
      "Epoch 127/200\n",
      "768/768 [==============================] - 0s 142us/sample - loss: 0.4804 - accuracy: 0.7617\n",
      "Epoch 128/200\n",
      "768/768 [==============================] - 0s 153us/sample - loss: 0.4769 - accuracy: 0.7630\n",
      "Epoch 129/200\n",
      "768/768 [==============================] - 0s 149us/sample - loss: 0.4847 - accuracy: 0.7591\n",
      "Epoch 130/200\n",
      "768/768 [==============================] - 0s 144us/sample - loss: 0.4857 - accuracy: 0.7669\n",
      "Epoch 131/200\n",
      "768/768 [==============================] - 0s 138us/sample - loss: 0.4778 - accuracy: 0.7617\n",
      "Epoch 132/200\n",
      "768/768 [==============================] - 0s 145us/sample - loss: 0.4816 - accuracy: 0.7682\n",
      "Epoch 133/200\n",
      "768/768 [==============================] - 0s 135us/sample - loss: 0.4772 - accuracy: 0.7734\n",
      "Epoch 134/200\n",
      "768/768 [==============================] - 0s 156us/sample - loss: 0.4757 - accuracy: 0.7656\n",
      "Epoch 135/200\n",
      "768/768 [==============================] - 0s 190us/sample - loss: 0.4789 - accuracy: 0.7591\n",
      "Epoch 136/200\n",
      "768/768 [==============================] - 0s 171us/sample - loss: 0.4802 - accuracy: 0.7643\n",
      "Epoch 137/200\n",
      "768/768 [==============================] - 0s 165us/sample - loss: 0.4787 - accuracy: 0.7682\n",
      "Epoch 138/200\n",
      "768/768 [==============================] - 0s 155us/sample - loss: 0.4775 - accuracy: 0.7734\n",
      "Epoch 139/200\n",
      "768/768 [==============================] - 0s 153us/sample - loss: 0.4655 - accuracy: 0.7786\n",
      "Epoch 140/200\n",
      "768/768 [==============================] - 0s 143us/sample - loss: 0.4765 - accuracy: 0.7643\n",
      "Epoch 141/200\n",
      "768/768 [==============================] - 0s 148us/sample - loss: 0.4704 - accuracy: 0.7656\n",
      "Epoch 142/200\n",
      "768/768 [==============================] - 0s 153us/sample - loss: 0.4811 - accuracy: 0.7617\n",
      "Epoch 143/200\n",
      "768/768 [==============================] - 0s 167us/sample - loss: 0.4733 - accuracy: 0.7708\n",
      "Epoch 144/200\n",
      "768/768 [==============================] - 0s 157us/sample - loss: 0.4695 - accuracy: 0.7760\n",
      "Epoch 145/200\n",
      "768/768 [==============================] - 0s 162us/sample - loss: 0.4695 - accuracy: 0.7708\n",
      "Epoch 146/200\n",
      "768/768 [==============================] - 0s 163us/sample - loss: 0.4698 - accuracy: 0.7786\n",
      "Epoch 147/200\n",
      "768/768 [==============================] - 0s 145us/sample - loss: 0.4733 - accuracy: 0.7721\n",
      "Epoch 148/200\n",
      "768/768 [==============================] - 0s 149us/sample - loss: 0.4654 - accuracy: 0.7773\n",
      "Epoch 149/200\n",
      "768/768 [==============================] - 0s 204us/sample - loss: 0.4653 - accuracy: 0.7760\n",
      "Epoch 150/200\n",
      "768/768 [==============================] - 0s 158us/sample - loss: 0.4677 - accuracy: 0.7812\n",
      "Epoch 151/200\n",
      "768/768 [==============================] - 0s 143us/sample - loss: 0.4684 - accuracy: 0.7708\n",
      "Epoch 152/200\n",
      "768/768 [==============================] - 0s 147us/sample - loss: 0.4767 - accuracy: 0.7708\n",
      "Epoch 153/200\n",
      "768/768 [==============================] - 0s 137us/sample - loss: 0.4695 - accuracy: 0.7695\n",
      "Epoch 154/200\n"
     ]
    },
    {
     "name": "stdout",
     "output_type": "stream",
     "text": [
      "768/768 [==============================] - 0s 216us/sample - loss: 0.4695 - accuracy: 0.7747\n",
      "Epoch 155/200\n",
      "768/768 [==============================] - 0s 205us/sample - loss: 0.4694 - accuracy: 0.7643\n",
      "Epoch 156/200\n",
      "768/768 [==============================] - 0s 181us/sample - loss: 0.4677 - accuracy: 0.7721\n",
      "Epoch 157/200\n",
      "768/768 [==============================] - 0s 169us/sample - loss: 0.4732 - accuracy: 0.7786\n",
      "Epoch 158/200\n",
      "768/768 [==============================] - 0s 142us/sample - loss: 0.4621 - accuracy: 0.7786\n",
      "Epoch 159/200\n",
      "768/768 [==============================] - 0s 140us/sample - loss: 0.4675 - accuracy: 0.7747\n",
      "Epoch 160/200\n",
      "768/768 [==============================] - 0s 168us/sample - loss: 0.4629 - accuracy: 0.7799\n",
      "Epoch 161/200\n",
      "768/768 [==============================] - 0s 214us/sample - loss: 0.4701 - accuracy: 0.7682 - loss: 0.4711 - accuracy: 0.76\n",
      "Epoch 162/200\n",
      "768/768 [==============================] - 0s 169us/sample - loss: 0.4778 - accuracy: 0.7708\n",
      "Epoch 163/200\n",
      "768/768 [==============================] - 0s 140us/sample - loss: 0.4620 - accuracy: 0.7839\n",
      "Epoch 164/200\n",
      "768/768 [==============================] - 0s 136us/sample - loss: 0.4638 - accuracy: 0.7682\n",
      "Epoch 165/200\n",
      "768/768 [==============================] - 0s 147us/sample - loss: 0.4617 - accuracy: 0.7852\n",
      "Epoch 166/200\n",
      "768/768 [==============================] - 0s 148us/sample - loss: 0.4664 - accuracy: 0.7839\n",
      "Epoch 167/200\n",
      "768/768 [==============================] - 0s 152us/sample - loss: 0.4691 - accuracy: 0.7682\n",
      "Epoch 168/200\n",
      "768/768 [==============================] - 0s 148us/sample - loss: 0.4547 - accuracy: 0.7799\n",
      "Epoch 169/200\n",
      "768/768 [==============================] - 0s 152us/sample - loss: 0.4634 - accuracy: 0.7760\n",
      "Epoch 170/200\n",
      "768/768 [==============================] - 0s 178us/sample - loss: 0.4567 - accuracy: 0.7786\n",
      "Epoch 171/200\n",
      "768/768 [==============================] - 0s 179us/sample - loss: 0.4809 - accuracy: 0.7630\n",
      "Epoch 172/200\n",
      "768/768 [==============================] - 0s 151us/sample - loss: 0.4606 - accuracy: 0.7760\n",
      "Epoch 173/200\n",
      "768/768 [==============================] - 0s 156us/sample - loss: 0.4581 - accuracy: 0.7812\n",
      "Epoch 174/200\n",
      "768/768 [==============================] - 0s 156us/sample - loss: 0.4587 - accuracy: 0.7799\n",
      "Epoch 175/200\n",
      "768/768 [==============================] - 0s 155us/sample - loss: 0.4578 - accuracy: 0.7839\n",
      "Epoch 176/200\n",
      "768/768 [==============================] - 0s 149us/sample - loss: 0.4684 - accuracy: 0.7839\n",
      "Epoch 177/200\n",
      "768/768 [==============================] - 0s 151us/sample - loss: 0.4553 - accuracy: 0.7799\n",
      "Epoch 178/200\n",
      "768/768 [==============================] - 0s 147us/sample - loss: 0.4584 - accuracy: 0.7865\n",
      "Epoch 179/200\n",
      "768/768 [==============================] - 0s 153us/sample - loss: 0.4537 - accuracy: 0.7865\n",
      "Epoch 180/200\n",
      "768/768 [==============================] - 0s 175us/sample - loss: 0.4561 - accuracy: 0.7747\n",
      "Epoch 181/200\n",
      "768/768 [==============================] - 0s 157us/sample - loss: 0.4604 - accuracy: 0.7812\n",
      "Epoch 182/200\n",
      "768/768 [==============================] - 0s 153us/sample - loss: 0.4585 - accuracy: 0.7865\n",
      "Epoch 183/200\n",
      "768/768 [==============================] - 0s 153us/sample - loss: 0.4580 - accuracy: 0.7734\n",
      "Epoch 184/200\n",
      "768/768 [==============================] - 0s 160us/sample - loss: 0.4577 - accuracy: 0.7734\n",
      "Epoch 185/200\n",
      "768/768 [==============================] - 0s 149us/sample - loss: 0.4556 - accuracy: 0.7812\n",
      "Epoch 186/200\n",
      "768/768 [==============================] - 0s 153us/sample - loss: 0.4541 - accuracy: 0.7865\n",
      "Epoch 187/200\n",
      "768/768 [==============================] - 0s 193us/sample - loss: 0.4591 - accuracy: 0.7760\n",
      "Epoch 188/200\n",
      "768/768 [==============================] - 0s 229us/sample - loss: 0.4511 - accuracy: 0.7839\n",
      "Epoch 189/200\n",
      "768/768 [==============================] - 0s 149us/sample - loss: 0.4548 - accuracy: 0.7839\n",
      "Epoch 190/200\n",
      "768/768 [==============================] - 0s 154us/sample - loss: 0.4611 - accuracy: 0.7695\n",
      "Epoch 191/200\n",
      "768/768 [==============================] - 0s 153us/sample - loss: 0.4616 - accuracy: 0.7799\n",
      "Epoch 192/200\n",
      "768/768 [==============================] - 0s 156us/sample - loss: 0.4567 - accuracy: 0.7826\n",
      "Epoch 193/200\n",
      "768/768 [==============================] - 0s 152us/sample - loss: 0.4564 - accuracy: 0.7760\n",
      "Epoch 194/200\n",
      "768/768 [==============================] - 0s 174us/sample - loss: 0.4574 - accuracy: 0.7826\n",
      "Epoch 195/200\n",
      "768/768 [==============================] - 0s 155us/sample - loss: 0.4576 - accuracy: 0.7656\n",
      "Epoch 196/200\n",
      "768/768 [==============================] - 0s 143us/sample - loss: 0.4558 - accuracy: 0.7826\n",
      "Epoch 197/200\n",
      "768/768 [==============================] - 0s 160us/sample - loss: 0.4605 - accuracy: 0.7799\n",
      "Epoch 198/200\n",
      "768/768 [==============================] - 0s 151us/sample - loss: 0.4569 - accuracy: 0.7904\n",
      "Epoch 199/200\n",
      "768/768 [==============================] - 0s 148us/sample - loss: 0.4531 - accuracy: 0.7826\n",
      "Epoch 200/200\n",
      "768/768 [==============================] - 0s 153us/sample - loss: 0.4558 - accuracy: 0.7786\n",
      "768/768 [==============================] - 0s 161us/sample - loss: 0.4393 - accuracy: 0.7878\n",
      "\n",
      " Accuracy: 0.7878\n"
     ]
    }
   ],
   "source": [
    "import pandas as pd\n",
    "import matplotlib.pyplot as plt\n",
    "import seaborn as sns\n",
    "\n",
    "df = pd.read_csv(\"Artificial_Intelligence/Data_set/pima-indians-diabetes.csv\", \\\n",
    "                names = ['pregnant','plasma','pressure','thickness','insulin','BMI',\\\n",
    "                        'pedigree','age','class'])\n",
    "\n",
    "print(\"================top 5 lines===================\")\n",
    "print(df.head(5))\n",
    "\n",
    "print(\"================general info===================\")\n",
    "print(df.info())\n",
    "\n",
    "print(\"================column info===================\")\n",
    "print(df.describe())\n",
    "\n",
    "print(\"================plasma and class===================\")\n",
    "print(df[['plasma','class']])\n",
    "\n",
    "print(\"================graph ===================\")\n",
    "colormap = plt.cm.gist_heat\n",
    "plt.figure(figsize = (12,12))\n",
    "\n",
    "sns.heatmap(df.corr(),linewidths=0.1,vmax=0.5,cmap=colormap,linecolor='white',annot=True )\n",
    "plt.show()\n",
    "\n",
    "grid = sns.FacetGrid(df, col='class')\n",
    "grid.map(plt.hist,'plasma',bins=10)\n",
    "plt.show()\n",
    "\n",
    "import numpy\n",
    "import tensorflow as tf\n",
    "\n",
    "from tensorflow.keras.models import Sequential\n",
    "from tensorflow.keras.layers import Dense\n",
    "\n",
    "#this part has to be one with jupyter notebook virtual environment - that has tensorflow\n",
    "\n",
    "\n",
    "numpy.random.seed(3)\n",
    "tf.random.set_seed(3)\n",
    "\n",
    "dataset = numpy.loadtxt('Artificial_Intelligence/Data_set/pima-indians-diabetes.csv', delimiter = ',')\n",
    "X = dataset[:,0:8]\n",
    "Y = dataset[:,8]\n",
    "\n",
    "model = Sequential()\n",
    "model.add(Dense(12, input_dim =8, activation='relu'))\n",
    "model.add(Dense(8,activation='relu'))\n",
    "model.add(Dense(1,activation='sigmoid'))\n",
    "\n",
    "model.compile(loss='binary_crossentropy', optimizer='adam', metrics=['accuracy'])\n",
    "\n",
    "model.fit(X,Y,epochs=200,batch_size=10)\n",
    "\n",
    "print(\"\\n Accuracy: %.4f\" % (model.evaluate(X,Y)[1]))"
   ]
  },
  {
   "cell_type": "markdown",
   "metadata": {},
   "source": [
    "## chap 21 - CNN"
   ]
  },
  {
   "cell_type": "code",
   "execution_count": null,
   "metadata": {},
   "outputs": [],
   "source": []
  }
 ],
 "metadata": {
  "kernelspec": {
   "display_name": "Python 3",
   "language": "python",
   "name": "python3"
  },
  "language_info": {
   "codemirror_mode": {
    "name": "ipython",
    "version": 3
   },
   "file_extension": ".py",
   "mimetype": "text/x-python",
   "name": "python",
   "nbconvert_exporter": "python",
   "pygments_lexer": "ipython3",
   "version": "3.7.7"
  }
 },
 "nbformat": 4,
 "nbformat_minor": 4
}
