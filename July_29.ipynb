{
 "cells": [
  {
   "cell_type": "code",
   "execution_count": 32,
   "metadata": {},
   "outputs": [
    {
     "name": "stdout",
     "output_type": "stream",
     "text": [
      "100\n",
      "my name is soyoung and my name age is 26\n",
      "my salary is 100 and my hire date is July\n"
     ]
    }
   ],
   "source": [
    "# OOP -> class SoccerPlayer(object) -> object doesn't mean anything. we can skip.\n",
    "# when inherit attributes, use super().__init__(name,age,gender) + new things \n",
    "# method overriding (same name, same variable) -> def about_me(self)\n",
    "# method overloading(same name, different variable)\n",
    "\n",
    "class Person(object):\n",
    "    def __init__(self, name, age, gender):\n",
    "        self.name = name\n",
    "        self.age = age\n",
    "        self.gender = gender\n",
    "    \n",
    "    def about_me(self):\n",
    "        print(\"my name is {} and my name age is {}\".format(self.name,self.age))\n",
    "\n",
    "class Employee(Person):\n",
    "    def __init__(self, name, age, gender, salary, hire_date):\n",
    "        super().__init__(name, age, gender)\n",
    "        self.salary = salary\n",
    "        self.hire_date = hire_date\n",
    "        \n",
    "    def do_work(self):\n",
    "        print(\"work hard.\")\n",
    "        \n",
    "    def about_me(self):\n",
    "        super().about_me()\n",
    "        print(\"my salary is {} and my hire date is {}\".format(self.salary, self.hire_date))\n",
    "        \n",
    "\n",
    "em1 = Employee(\"soyoung\",26,\"Female\",100,\"July\")\n",
    "print(em1.salary)\n",
    "em1.about_me()"
   ]
  },
  {
   "cell_type": "code",
   "execution_count": 31,
   "metadata": {},
   "outputs": [
    {
     "name": "stdout",
     "output_type": "stream",
     "text": [
      "car =Tesla,white,Model S,10000\n",
      "payload = 2000\n"
     ]
    }
   ],
   "source": [
    "#__getattr__ => when it's not defined\n",
    "class Vehicle():\n",
    "    def __init__(self, maker, model, color, price):\n",
    "        self.maker = maker\n",
    "        self.model = model\n",
    "        self.color = color\n",
    "        self.price = price\n",
    "        \n",
    "    def set_make(self,maker):\n",
    "        self.maker = maker\n",
    "    def get_maker(self):\n",
    "        return self.maker\n",
    "    \n",
    "    def get_desc(self):\n",
    "        print(\"car =\"+self.maker+\",\"+self.color+\",\"+self.model+\",\"+str(self.price))\n",
    "    \n",
    "class Truck(Vehicle):\n",
    "    def __init__(self, make, model, color, price, payload):\n",
    "        super().__init__(make, model,color, price)\n",
    "        self.payload = payload\n",
    "        \n",
    "    def set_payload(self,payload):\n",
    "        self.payload = payload\n",
    "        \n",
    "    def get_payload(self):\n",
    "        return self.payload\n",
    "    \n",
    "    def get_desc(self):\n",
    "        super().get_desc()\n",
    "        print(\"payload =\",self.payload)\n",
    "\n",
    "def main():\n",
    "    my_truck = Truck('Tisla','Model S','white',10000,20000)\n",
    "    my_truck.set_make(\"Tesla\")\n",
    "    my_truck.set_payload(2000)\n",
    "    my_truck.get_desc()\n",
    "    \n",
    "main()"
   ]
  },
  {
   "cell_type": "code",
   "execution_count": 41,
   "metadata": {},
   "outputs": [
    {
     "name": "stdout",
     "output_type": "stream",
     "text": [
      "python has worked for 7years.\n",
      "python income is  4270\n",
      "since you have a degree, your income is  5470\n",
      "wrong input\n",
      "python 5470\n"
     ]
    }
   ],
   "source": [
    "class NewEmployee():\n",
    "    def __init__(self,name,year):\n",
    "        self.name = name\n",
    "        self.year = year\n",
    "        print(\"{} has worked for {}years.\".format(self.name,self.year))\n",
    "    def salary(self): #이름이 달라야해 함수랑 안에 사용하는 변수랑 \n",
    "        self.salary_d = 0\n",
    "        if self.year <= 5:\n",
    "            self.salary_d = 3000 + self.year*100\n",
    "        elif self.year <=10:\n",
    "            self.salary_d = 3500 + self.year*110\n",
    "        else:\n",
    "            self.salary_d = 4000 + self.year*130\n",
    "        print(\"{} income is \".format(self.name),self.salary_d)\n",
    "    def degree(self):\n",
    "        self.salary_d += 1200\n",
    "        print(\"since you have a degree, your income is \",self.salary_d)\n",
    "    def __getattr__(self,name):\n",
    "        print(\"wrong input\")\n",
    "    \n",
    "a = NewEmployee(\"python\",7)     \n",
    "a.salary()\n",
    "a.degree()\n",
    "a.money\n",
    "print(a.name,a.salary_d)"
   ]
  },
  {
   "cell_type": "code",
   "execution_count": 44,
   "metadata": {},
   "outputs": [
    {
     "name": "stdout",
     "output_type": "stream",
     "text": [
      "Missy:Meow!\n",
      "Mr.Mistoffelees:Meow!\n",
      "Sky:Woof! Woof!\n"
     ]
    }
   ],
   "source": [
    "# polymorphism -> same name function can be used for different object \n",
    "# like len(dic), len(list), len(str)\n",
    "\n",
    "class Animal:\n",
    "    def __init__(self,name):\n",
    "        self.name = name\n",
    "        def talk(self):\n",
    "            raise NotImplemeentedError(\"Subclass must implement abstract method\")\n",
    "            \n",
    "class Cat(Animal):\n",
    "    def talk(self):\n",
    "        return 'Meow!'\n",
    "class Dog(Animal):\n",
    "    def talk(self):\n",
    "        return 'Woof! Woof!'\n",
    "    \n",
    "animals = [Cat('Missy'),Cat('Mr.Mistoffelees'),Dog(\"Sky\")]\n",
    "\n",
    "for animal in animals:\n",
    "    print(animal.name + ':' + animal.talk())"
   ]
  },
  {
   "cell_type": "code",
   "execution_count": 52,
   "metadata": {},
   "outputs": [
    {
     "name": "stdout",
     "output_type": "stream",
     "text": [
      "new item added\n",
      "new item added\n",
      "2\n"
     ]
    }
   ],
   "source": [
    "# visibility -> some attributes are only approachable by method, not directly\n",
    "# self.__items = [] -> private attribute!\n",
    "class Product(object):\n",
    "    pass\n",
    "\n",
    "class Inventory(object):\n",
    "    def __init__(self):\n",
    "        self.__items = [] #private list created\n",
    "        \n",
    "    def add_new_item(self,product):\n",
    "        if type(product)==Product:\n",
    "            self.__items.append(product)\n",
    "            print(\"new item added\")\n",
    "        else:\n",
    "            raise ValueError(\"Invalid Item\")\n",
    "    def get_number_of_items(self):\n",
    "        return len(self.__items)\n",
    "   \n",
    "    @property\n",
    "    def items(self):\n",
    "        return self.__items\n",
    "\n",
    "mine = Inventory()\n",
    "mine.add_new_item(Product())\n",
    "mine.add_new_item(Product())\n",
    "print(mine.get_number_of_items())\n",
    "\n",
    "#mine.__items # not possible since __items is the private\n",
    "\n",
    "#with @property\n",
    "items = mine.items\n",
    "items.append(Product())\n"
   ]
  },
  {
   "cell_type": "code",
   "execution_count": 54,
   "metadata": {},
   "outputs": [
    {
     "name": "stdout",
     "output_type": "stream",
     "text": [
      "20\n"
     ]
    }
   ],
   "source": [
    "# setter and getter\n",
    "\n",
    "class Person:\n",
    "    def __init__(self):\n",
    "        self.__age = 0\n",
    "        \n",
    "    def get_age(self):\n",
    "        return self.__age\n",
    "    \n",
    "    def set_age(self,value):\n",
    "        self.__age = value\n",
    "        \n",
    "james = Person()\n",
    "james.set_age(20)\n",
    "print(james.get_age())"
   ]
  },
  {
   "cell_type": "code",
   "execution_count": 60,
   "metadata": {},
   "outputs": [
    {
     "name": "stdout",
     "output_type": "stream",
     "text": [
      "0\n",
      "20\n"
     ]
    }
   ],
   "source": [
    "# setter and getter and property\n",
    "\n",
    "class Person:\n",
    "    def __init__(self):\n",
    "        self.__age = 0\n",
    "        \n",
    "    @property\n",
    "    def age(self):\n",
    "        return self.__age\n",
    "    \n",
    "    @age.setter\n",
    "    def age(self,value):\n",
    "        self.__age = value\n",
    "        \n",
    "james = Person()\n",
    "print(james.age)\n",
    "james.age = 20\n",
    "print(james.age)"
   ]
  },
  {
   "cell_type": "code",
   "execution_count": 62,
   "metadata": {},
   "outputs": [
    {
     "name": "stdout",
     "output_type": "stream",
     "text": [
      "b'\\n<!DOCTYPE html>\\n\\n<html lang=\"en\" >\\n<head>\\n    <meta name=\"viewport\" content=\"width=device-width, initial-scale=1\">\\n    <meta charset=\"utf-8\">\\n    <meta http-equiv=\"X-UA-Compatible\" content=\"IE=edge\">\\n    <meta name=\"viewport\" content=\"width=device-width, initial-scale=1\">\\n\\n    <meta name=\"google-site-verification\" content=\"G2VLkBUdzMmAi7kS-9GeCx-ESlMXY8eEP-bZ2JAUDIs\" />\\n    <meta name=\"naver-site-verification\" content=\"df151477b72efef8b8692460f205e24077232064\"/>\\n\\n    <meta property=\"og:type\" content=\"website\">\\n    <meta property=\"og:title\" content=\"TEAMLAB | Gachon University\">\\n    <meta property=\"og:description\" content=\"\\xea\\xb0\\x80\\xec\\xb2\\x9c\\xeb\\x8c\\x80\\xed\\x95\\x99\\xea\\xb5\\x90 \\xec\\x82\\xb0\\xec\\x97\\x85\\xea\\xb2\\xbd\\xec\\x98\\x81\\xea\\xb3\\xb5\\xed\\x95\\x99\\xea\\xb3\\xbc \\xeb\\x8d\\xb0\\xec\\x9d\\xb4\\xed\\x84\\xb0 \\xea\\xb3\\xbc\\xed\\x95\\x99 \\xec\\x97\\xb0\\xea\\xb5\\xac\\xec\\x8b\\xa4 \\xed\\x8e\\x98\\xec\\x9d\\xb4\\xec\\xa7\\x80\\xec\\x9e\\x85\\xeb\\x8b\\x88\\xeb\\x8b\\xa4. We are Technology and Management Laboratory in School of Industrial Management Engineering at Gachon University, Korea.\">\\n    <meta property=\"og:image\" content=\"/static/logo/Teamlab_logo_500x375.jpg\">\\n    <meta property=\"og:image:width\" content=\"500\">\\n    <meta property=\"og:image:height\" content=\"375\">\\n    <meta property=\"og:url\" content=\"http://theteamlab.io\">\\n\\n    <meta name=\"author\" content=\"\\xea\\xb0\\x80\\xec\\xb2\\x9c\\xeb\\x8c\\x80\\xed\\x95\\x99\\xea\\xb5\\x90 \\xec\\x82\\xb0\\xec\\x97\\x85\\xea\\xb2\\xbd\\xec\\x98\\x81\\xea\\xb3\\xb5\\xed\\x95\\x99\\xea\\xb3\\xbc Teamlab,python,OR\">\\n    <meta name=\"description\" content=\"\\xea\\xb0\\x80\\xec\\xb2\\x9c\\xeb\\x8c\\x80\\xed\\x95\\x99\\xea\\xb5\\x90 \\xec\\x82\\xb0\\xec\\x97\\x85\\xea\\xb2\\xbd\\xec\\x98\\x81\\xea\\xb3\\xb5\\xed\\x95\\x99\\xea\\xb3\\xbc \\xeb\\x8d\\xb0\\xec\\x9d\\xb4\\xed\\x84\\xb0 \\xea\\xb3\\xbc\\xed\\x95\\x99 \\xec\\x97\\xb0\\xea\\xb5\\xac\\xec\\x8b\\xa4 \\xed\\x8e\\x98\\xec\\x9d\\xb4\\xec\\xa7\\x80\\xec\\x9e\\x85\\xeb\\x8b\\x88\\xeb\\x8b\\xa4,Operation Research with Python\\xea\\xb3\\xbc \\xeb\\x8d\\xb0\\xec\\x9d\\xb4\\xed\\x84\\xb0\\xea\\xb3\\xbc\\xed\\x95\\x99\\xec\\x9d\\x84 \\xec\\x9c\\x84\\xed\\x95\\x9c \\xed\\x8c\\x8c\\xec\\x9d\\xb4\\xec\\x8d\\xac(python) \\xec\\x9e\\x85\\xeb\\xac\\xb8 \\xec\\x88\\x98\\xec\\x97\\x85\\xec\\x9d\\x84 \\xeb\\xb0\\xb0\\xec\\x9b\\x81\\xeb\\x8b\\x88\\xeb\\x8b\\xa4.\">\\n    <meta name=\"keywords\" content=\"Teamlab,Python,OR,\\xed\\x8c\\x8c\\xec\\x9d\\xb4\\xec\\x8d\\xac,\\xea\\xb2\\xbd\\xec\\x98\\x81\\xea\\xb3\\xbc\\xed\\x95\\x99,\\xea\\xb0\\x80\\xec\\xb2\\x9c\\xeb\\x8c\\x80\\xed\\x95\\x99\\xea\\xb5\\x90,\\xec\\x82\\xb0\\xec\\x97\\x85\\xea\\xb2\\xbd\\xec\\x98\\x81\\xea\\xb3\\xb5\\xed\\x95\\x99\\xea\\xb3\\xbc\">\\n\\n    <title>TEAMLAB | Gachon University </title>\\n    <script src=\"https://ajax.googleapis.com/ajax/libs/jquery/1.12.0/jquery.min.js\"></script>\\n    <script src=\"/static/js/semantic.min.js\"></script>\\n    <link href=\"https://fonts.googleapis.com/css?family=Russo+One|Rokkitt|Noto+Sans\" rel=\"stylesheet\" />\\n    <link href=\"https://fonts.googleapis.com/icon?family=Material+Icons\" rel=\"stylesheet\">\\n    <link rel=\"stylesheet\" href=\"/static/css/semantic.min.css\" />\\n    <link rel=\"stylesheet\" href=\"/static/css/github-markdown.css\" />\\n    <link rel=\"stylesheet\" href=\"/static/css/semantic-extension.css?1595994206\" />\\n    <link rel=\"stylesheet\" href=\"//netdna.bootstrapcdn.com/font-awesome/4.1.0/css/font-awesome.css\" />\\n    \\n    <link href=\"https://fonts.googleapis.com/css?family=Russo+One|Rokkitt\" rel=\"stylesheet\">\\n    <link rel=\"stylesheet\" media=\"screen\" href=\\'/static/css/main.css\\'>\\n\\n    \\n    \\n\\n    <script>\\n        (function(i,s,o,g,r,a,m){i[\\'GoogleAnalyticsObject\\']=r;i[r]=i[r]||function(){\\n            (i[r].q=i[r].q||[]).push(arguments)},i[r].l=1*new Date();a=s.createElement(o),\\n            m=s.getElementsByTagName(o)[0];a.async=1;a.src=g;m.parentNode.insertBefore(a,m)\\n        })(window,document,\\'script\\',\\'https://www.google-analytics.com/analytics.js\\',\\'ga\\');\\n        ga(\\'create\\', \\'UA-97238298-1\\', \\'auto\\');\\n        ga(\\'send\\', \\'pageview\\');\\n    </script>\\n    <script src=\"http://code.jquery.com/jquery-1.11.2.min.js\"></script>\\n    <script src=\"/static/js/base.js\"></script>\\n</head>\\n<body>\\n\\n\\n<div class=\"pusher\">\\n    \\n        <!-- Fixed navbar -->\\n        <div role=\"navigation\">\\n            <div class=\"extends ui large top menu\">\\n                <div id=\\'nav\\' class=\"ui container\">\\n                    <div class=\"header extends item\">\\n                        <a class=\"ui logo icon image\" href=\"/\">\\n                            <img src=\"/static/logo/small-white.png\" alt=\"Smiley face\" height=\"50\" width=\"170\">\\n                        </a>\\n                    </div>\\n                    <ul class=\"menu\">\\n                        <li id=\\'menu-li\\'>\\n                            <a class=\"mobile item\" href=\"javascript:void(0)\"\\n                               style=\"font-size:23px; color:white; margin-left:auto; height:55px; line-height:55px; padding: 0 15px 0 0; text-align:right;\">\\xe2\\x98\\xb0</a>\\n                            <ul class=\"sub\" style=\"display: block\">\\n                                <li class=\"labtop\">\\n                                    <div class=\"dropdown-div\" id=\"teaching\">\\n                                        <a class=\"menu-content dropbtn extends item\">Teaching</a>\\n                                        <ul class=\"sub\">\\n                                            <div class=\"dropdown-item\">\\n                                                <li><a class=\"menu-content dropbtn extends item\" href=\"/course/\"target=\"_blank\">Course</a>\\n                                                    <a class=\"menu-content dropbtn extends item\" href=\"/video/\">Video</a></li>\\n                                            </div>\\n                                        </ul>\\n                                    </div>\\n                                </li>\\n\\n\\n                                <li class=\"labtop-l\"><a class=\"menu-content dropbtn extends item\" href=\"/course/\" target=\"_blank\">Course</a></li>\\n                                <li class=\"labtop-l\"><a class=\"menu-content dropbtn extends item\" href=\"/video/\">Video</a></li>\\n\\n                                <li>\\n                                    <div class=\"dropdown-div\" id=\"member\">\\n                                        <a class=\"menu-content dropbtn extends item\">Members</a>\\n                                        <ul class=\"sub\">\\n                                            <div class=\"dropdown-item\">\\n                                                <li><a class=\"menu-content extends item\" href=\"/lab/professor/\">Professor</a>\\n                                                    <a class=\"menu-content extends item\" href=\"/lab/\">Researchers</a></li>\\n                                            </div>\\n                                        </ul>\\n                                    </div>\\n                                </li>\\n                                <li><a class=\"menu-content dropbtn extends item\" href=\"https://teamlab.github.io/jekyllDecent/\" target=\\'_blank\\'>Blog</a></li>\\n                                <li><a class=\"menu-content dropbtn extends item\" href=\"/paper/\">Paper</a></li>\\n                                <li>\\n                                    <div class=\"dropdown-div\" id=\"project\">\\n                                        <a class=\"menu-content dropbtn extends item\">Project</a>\\n                                        <ul class=\"sub\">\\n                                            <div class=\"dropdown-item\">\\n                                                <li><a class=\"menu-content extends item\" href=\"/project/ongoing\">Ongoing <span class=\"mobile-text\"> Projects</span></a>\\n                                                    <a class=\"menu-content extends item\" href=\"/project/finish\">Finished <span class=\"mobile-text\"> Projects</span></a></li>\\n                                            </div>\\n                                        </ul>\\n                                    </div>\\n                                </li>\\n                                <li>\\n                                    <div class=\"dropdown-div labtop\" id=\"user\">\\n                                        <a class=\"menu-content dropbtn extends item\">USER&nbsp;\\n                                            <i class=\"material-icons\" style=\"font-size:32px;color:white\">account_circle</i>\\n                                        </a>\\n                                        <ul class=\"sub\">\\n                                            <div class=\"dropdown-item\">\\n                                                \\n                                                    <li><a class=\"menu-content dropbtn extends item\" href=\"/accounts/login/\">\\xeb\\xa1\\x9c\\xea\\xb7\\xb8\\xec\\x9d\\xb8</a>\\n                                                        <a class=\"menu-content dropbtn extends item\" href=\"/accounts/signup/\">\\xed\\x9a\\x8c\\xec\\x9b\\x90\\xea\\xb0\\x80\\xec\\x9e\\x85</a></li>\\n                                                \\n                                            </div>\\n                                        </ul>\\n                                    </div>\\n                                </li>\\n\\n                                \\n\\n                                    <li class=\"auth labtop-l\"><a class=\"menu-content dropbtn extends item\" href=\"/accounts/login/\">\\xeb\\xa1\\x9c\\xea\\xb7\\xb8\\xec\\x9d\\xb8</a></li>\\n                                    <li class=\"labtop-l\"><a class=\"menu-content dropbtn extends item\" href=\"/accounts/signup/\">\\xed\\x9a\\x8c\\xec\\x9b\\x90\\xea\\xb0\\x80\\xec\\x9e\\x85</a></li>\\n\\n                                \\n\\n                            </ul>\\n                        </li>\\n                    </ul>\\n                </div>\\n            </div>\\n        </div>\\n\\n    \\n\\n    <!-- only for main page -->\\n    \\n    <style>\\n     .masthead h1.ui.header {\\n\\t margin-top: 3em;\\n     }\\n    .description {\\n\\tdisplay: -webkit-box; -webkit-line-clamp: 3; -webkit-box-orient: vertical;\\n\\toverflow: hidden;\\n\\ttext-overflow: ellipsis;\\n\\tdisplay: -webkit-box;\\n\\tword-wrap:break-word; \\n    }\\n    #news-desc {\\n    \\tline-height: 1.2em;\\n    \\theight: 3.3em;\\n    }\\n    </style>\\n    <div id=\"particles-js\" class=\"ui inverted vertical masthead center aligned segment\" style=\"background-image:linear-gradient(135deg,#0E48A2 30%,#1E88E5 80%);\">\\n\\t<div class=\"ui text container\">\\n\\t    <h1 class=\"ui inverted header\" style=\"color:#fff; font-size:70px;\">TEAM LAB</h1>\\n\\t    <h2 style=\"color:#fff; font-family:\\'Rokkittt\\'\">Human knowledge belongs to the world.</h2>\\n\\t    <h3 style=\"color:#fff; font-family:\\'Rokkittt\\'; text-align:right;\">- AntiTrust</h3>\\n\\t</div>\\n    </div>\\n    <script src=\"https://cdn.jsdelivr.net/particles.js/2.0.0/particles.min.js\"></script>\\n    <script>\\n     particlesJS.load(\\'particles-js\\', \\'/static/js/particles-config.json\\', function() {\\n\\t console.log(\\'callback - particles.js config loaded\\');\\n     });\\n    </script>\\n\\n    <div class=\"ui container segments\" style=\"margin-top: 100px; margin-bottom:70px; border:none; box-shadow: none;\">\\n        <div class=\"ui segment\" style=\"border:none; margin-bottom:20px;\">\\n            <div class=\"ui three column stackable grid\">\\n                <!-- News List -->\\n                <div class=\"ten wide column\">\\n                    <div class=\"ui header\"><a href=\"lab/news\" style=\"color:rgba(0,0,0,.87)\">News</a></div>\\n                    <div class=\"ui celled list\">\\n                        \\n                        <div class=\"item\">\\n                            <div class=\" ui middle aligned small image\">\\n                                <img src=\"static/img/\\xe1\\x84\\x91\\xe1\\x85\\xad\\xe1\\x84\\x8c\\xe1\\x85\\xb5.png\" />\\n                            </div>\\n                            <div class=\"content\">\\n                                <div class=\"header\" style=\"display:inline;\">\\n                                    <a href=\"/lab/news/38\">IE \\xeb\\xa7\\xa4\\xea\\xb1\\xb0\\xec\\xa7\\x84 \\xec\\x97\\xac\\xeb\\xa6\\x84\\xed\\x98\\xb8 \\xec\\x9b\\x90\\xea\\xb3\\xa0 \\xea\\xb8\\xb0\\xea\\xb3\\xa0 - \\xea\\xb5\\x90\\xec\\x9c\\xa1\\xec\\x9d\\x98 \\xeb\\xaf\\xb8\\xeb\\x9e\\x98</a>\\n                                </div>\\n                                <div class=\"meta\" style=\"color:rgba(0,0,0,.55)\">\\n                                    <span>2020\\xeb\\x85\\x84 7\\xec\\x9b\\x94 26\\xec\\x9d\\xbc</span>\\n                                </div>\\n                                <div id=\"news-desc\" class=\"description\">\\n\\t\\t\\t\\t    \\xec\\x97\\xb0\\xea\\xb5\\xac\\xec\\x8b\\xa4\\xec\\x9d\\x98 Director\\xec\\x9d\\xb8 \\xec\\xb5\\x9c\\xec\\x84\\xb1\\xec\\xb2\\xa0 \\xea\\xb5\\x90\\xec\\x88\\x98\\xeb\\x8b\\x98\\xea\\xbb\\x98\\xec\\x84\\x9c \\xeb\\x8c\\x80\\xed\\x95\\x9c\\xec\\x82\\xb0\\xec\\x97\\x85\\xea\\xb3\\xb5\\xed\\x95\\x99\\xed\\x9a\\x8c\\xec\\x97\\x90\\xec\\x84\\x9c \\xeb\\xb0\\x9c\\xed\\x96\\x89\\xed\\x95\\x98\\xeb\\x8a\\x94 IE \\xeb\\xa7\\xa4\\xea\\xb1\\xb0\\xec\\xa7\\x84\\xec\\x97\\x90 &quot;\\xea\\xb5\\x90\\xec\\x9c\\xa1\\xec\\x9d\\x98 \\xeb\\xaf\\xb8\\xeb\\x9e\\x98&quot;\\xeb\\x9d\\xbc\\xeb\\x8a\\x94 \\xec\\x9b\\x90\\xea\\xb3\\xa0\\xeb\\xa5\\xbc \\xea\\xb8\\xb0\\xea\\xb3\\xa0\\xed\\x95\\x98\\xec\\x85\\xa8\\xec\\x8a\\xb5\\xeb\\x8b\\x88\\xeb\\x8b\\xa4.\\n\\xec\\x95\\x84\\xeb\\x9e\\x98 \\xeb\\xa7\\x81\\xed\\x81\\xac\\xeb\\xa1\\x9c \\xea\\xb0\\x80\\xec\\x8b\\x9c\\xeb\\xa9\\xb4 \\xed\\x95\\xb4\\xeb\\x8b\\xb9 \\xea\\xb8\\xb0\\xea\\xb3\\xa0\\xeb\\xac\\xb8\\xec\\x9d\\x84 \\xec\\x9d\\xbd\\xec\\x9c\\xbc\\xec\\x8b\\xa4 \\xec\\x88\\x98 \\xec\\x9e\\x88\\xec\\x8a\\xb5\\xeb\\x8b\\x88\\xeb\\x8b\\xa4.\\n\\xeb\\xa7\\x81\\xed\\x81\\xac\\n                                </div>\\n                            </div>\\n                        </div>\\n                        \\n                        <div class=\"item\">\\n                            <div class=\" ui middle aligned small image\">\\n                                <img src=\"static/img/scientometrics_9LAXhcB.jpg\" />\\n                            </div>\\n                            <div class=\"content\">\\n                                <div class=\"header\" style=\"display:inline;\">\\n                                    <a href=\"/lab/news/37\">Paper Accepted - A Context-Aware Citation Recommendation Model with BERT and Graph Convolutional Networks (Scientometrics, IF 2.77)</a>\\n                                </div>\\n                                <div class=\"meta\" style=\"color:rgba(0,0,0,.55)\">\\n                                    <span>2020\\xeb\\x85\\x84 6\\xec\\x9b\\x94 8\\xec\\x9d\\xbc</span>\\n                                </div>\\n                                <div id=\"news-desc\" class=\"description\">\\n\\t\\t\\t\\t    \\xec\\x97\\xb0\\xea\\xb5\\xac\\xec\\x8b\\xa4\\xec\\x9d\\x98 \\xed\\x95\\x99\\xec\\x82\\xac\\xea\\xb3\\xbc\\xec\\xa0\\x95 \\xec\\xa1\\xb8\\xec\\x97\\x85\\xec\\x83\\x9d\\xec\\x9d\\xb8 \\xec\\xa0\\x95\\xec\\xb0\\xac\\xec\\x9a\\xb0\\xeb\\x8b\\x98\\xea\\xb3\\xbc \\xec\\x84\\x9d\\xec\\x82\\xac\\xea\\xb3\\xbc\\xec\\xa0\\x95\\xec\\x9d\\xb8 \\xec\\x9e\\xa5\\xec\\x8b\\x9c\\xec\\x98\\xa8\\xeb\\x8b\\x98\\xec\\x9d\\xb4 \\xec\\x93\\xb0\\xec\\x8b\\xa0 &quot;A Context-Aware Citation Recommendation Model with BERT and Graph Convolutional Networks&quot;\\xec\\x9d\\xb4 Scientometrics\\xec\\x97\\x90 accept \\xeb\\x90\\x98\\xec\\x97\\x88\\xec\\x8a\\xb5\\xeb\\x8b\\x88\\xeb\\x8b\\xa4. \\xec\\xb6\\x95\\xed\\x95\\x98\\xeb\\x93\\x9c\\xeb\\xa6\\xbd\\xeb\\x8b\\x88\\xeb\\x8b\\xa4!\\nDear Mr. Choi,\\nWe are pleased to i\\n                                </div>\\n                            </div>\\n                        </div>\\n                        \\n                        <div class=\"item\">\\n                            <div class=\" ui middle aligned small image\">\\n                                <img src=\"static/img/scientometrics.jpg\" />\\n                            </div>\\n                            <div class=\"content\">\\n                                <div class=\"header\" style=\"display:inline;\">\\n                                    <a href=\"/lab/news/36\">Paper Accepted -  Patent Document Clustering with Deep Embeddings (Scientometrics, IF 2.77)</a>\\n                                </div>\\n                                <div class=\"meta\" style=\"color:rgba(0,0,0,.55)\">\\n                                    <span>2020\\xeb\\x85\\x84 2\\xec\\x9b\\x94 18\\xec\\x9d\\xbc</span>\\n                                </div>\\n                                <div id=\"news-desc\" class=\"description\">\\n\\t\\t\\t\\t    \\xec\\x97\\xb0\\xea\\xb5\\xac\\xec\\x8b\\xa4\\xec\\x9d\\x98 \\xec\\x84\\x9d\\xec\\x82\\xac\\xea\\xb3\\xbc\\xec\\xa0\\x95\\xec\\x9d\\xb8 \\xea\\xb9\\x80\\xec\\x9e\\xac\\xec\\x98\\x81\\xed\\x95\\x99\\xec\\x83\\x9d\\xec\\x9d\\xb4 \\xec\\x93\\xb4 &quot;Patent Document Clustering with Deep Embeddings&quot;\\xec\\x9d\\xb4 Scientometrics\\xec\\x97\\x90 accept \\xeb\\x90\\x98\\xec\\x97\\x88\\xec\\x8a\\xb5\\xeb\\x8b\\x88\\xeb\\x8b\\xa4. \\xec\\xb6\\x95\\xed\\x95\\x98\\xeb\\x93\\x9c\\xeb\\xa6\\xbd\\xeb\\x8b\\x88\\xeb\\x8b\\xa4!\\nRef.:SCIM-D-18-00494R3\\nPatent Document Clustering with Deep Embeddings\\nScientometrics\\nDear \\n                                </div>\\n                            </div>\\n                        </div>\\n                        \\n                    </div>\\n                </div>\\n                <!-- Notice List -->\\n                <div class=\"six wide column\">\\n                    <div class=\"ui header\"><a href=\"lab/notice\" style=\"color:rgba(0,0,0,.87)\">Notice</a></div>\\n                    <div class=\"ui celled list\">\\n                        \\n                        <div class=\"item\" style=\"padding-top:10px; padding-bottom:10px\">\\n                            <div class=\"header\" style=\"display:inline;\">\\n                                <a href=\"/lab/notice/56\">[\\xed\\x94\\x84\\xeb\\xa1\\x9c\\xea\\xb7\\xb8\\xeb\\x9e\\x98\\xeb\\xb0\\x8d \\xec\\x96\\xb8\\xec\\x96\\xb4] Lab 8 &amp; 9 \\xea\\xb3\\xb5\\xec\\xa7\\x80</a>\\n                            </div>\\n                            <div class=\"right floated content\" style=\"display:inline; color:rgba(0,0,0,.55)\">\\n                                2019\\xeb\\x85\\x84 11\\xec\\x9b\\x94 16\\xec\\x9d\\xbc\\n                            </div>\\n                        </div>\\n                        \\n                        <div class=\"item\" style=\"padding-top:10px; padding-bottom:10px\">\\n                            <div class=\"header\" style=\"display:inline;\">\\n                                <a href=\"/lab/notice/55\">[\\xed\\x94\\x84\\xeb\\xa1\\x9c\\xea\\xb7\\xb8\\xeb\\x9e\\x98\\xeb\\xb0\\x8d \\xec\\x96\\xb8\\xec\\x96\\xb4] Lab 6 &amp; 7 \\xea\\xb3\\xb5\\xec\\xa7\\x80</a>\\n                            </div>\\n                            <div class=\"right floated content\" style=\"display:inline; color:rgba(0,0,0,.55)\">\\n                                2019\\xeb\\x85\\x84 10\\xec\\x9b\\x94 25\\xec\\x9d\\xbc\\n                            </div>\\n                        </div>\\n                        \\n                        <div class=\"item\" style=\"padding-top:10px; padding-bottom:10px\">\\n                            <div class=\"header\" style=\"display:inline;\">\\n                                <a href=\"/lab/notice/54\">[\\xed\\x94\\x84\\xeb\\xa1\\x9c\\xea\\xb7\\xb8\\xeb\\x9e\\x98\\xeb\\xb0\\x8d \\xec\\x96\\xb8\\xec\\x96\\xb4] Lab 5 \\xea\\xb3\\xb5\\xec\\xa7\\x80</a>\\n                            </div>\\n                            <div class=\"right floated content\" style=\"display:inline; color:rgba(0,0,0,.55)\">\\n                                2019\\xeb\\x85\\x84 10\\xec\\x9b\\x94 10\\xec\\x9d\\xbc\\n                            </div>\\n                        </div>\\n                        \\n                        <div class=\"item\" style=\"padding-top:10px; padding-bottom:10px\">\\n                            <div class=\"header\" style=\"display:inline;\">\\n                                <a href=\"/lab/notice/53\">[\\xed\\x94\\x84\\xeb\\xa1\\x9c\\xea\\xb7\\xb8\\xeb\\x9e\\x98\\xeb\\xb0\\x8d \\xec\\x96\\xb8\\xec\\x96\\xb4] Lab 4 \\xea\\xb3\\xb5\\xec\\xa7\\x80</a>\\n                            </div>\\n                            <div class=\"right floated content\" style=\"display:inline; color:rgba(0,0,0,.55)\">\\n                                2019\\xeb\\x85\\x84 10\\xec\\x9b\\x94 3\\xec\\x9d\\xbc\\n                            </div>\\n                        </div>\\n                        \\n                        <div class=\"item\" style=\"padding-top:10px; padding-bottom:10px\">\\n                            <div class=\"header\" style=\"display:inline;\">\\n                                <a href=\"/lab/notice/52\">[\\xed\\x94\\x84\\xeb\\xa1\\x9c\\xea\\xb7\\xb8\\xeb\\x9e\\x98\\xeb\\xb0\\x8d \\xec\\x96\\xb8\\xec\\x96\\xb4] Lab 3 \\xea\\xb3\\xb5\\xec\\xa7\\x80</a>\\n                            </div>\\n                            <div class=\"right floated content\" style=\"display:inline; color:rgba(0,0,0,.55)\">\\n                                2019\\xeb\\x85\\x84 9\\xec\\x9b\\x94 26\\xec\\x9d\\xbc\\n                            </div>\\n                        </div>\\n                        \\n                        <div class=\"item\" style=\"padding-top:10px; padding-bottom:10px\">\\n                            <div class=\"header\" style=\"display:inline;\">\\n                                <a href=\"/lab/notice/51\">[\\xed\\x94\\x84\\xeb\\xa1\\x9c\\xea\\xb7\\xb8\\xeb\\x9e\\x98\\xeb\\xb0\\x8d \\xec\\x96\\xb8\\xec\\x96\\xb4] Lab 1 &amp;2 \\xea\\xb3\\xb5\\xec\\xa7\\x80</a>\\n                            </div>\\n                            <div class=\"right floated content\" style=\"display:inline; color:rgba(0,0,0,.55)\">\\n                                2019\\xeb\\x85\\x84 9\\xec\\x9b\\x94 19\\xec\\x9d\\xbc\\n                            </div>\\n                        </div>\\n                        \\n                        <div class=\"item\" style=\"padding-top:10px; padding-bottom:10px\">\\n                            <div class=\"header\" style=\"display:inline;\">\\n                                <a href=\"/lab/notice/50\">[\\xea\\xb3\\xb5\\xec\\xa7\\x80] Python MOOC Lab for Tough Week</a>\\n                            </div>\\n                            <div class=\"right floated content\" style=\"display:inline; color:rgba(0,0,0,.55)\">\\n                                2019\\xeb\\x85\\x84 6\\xec\\x9b\\x94 7\\xec\\x9d\\xbc\\n                            </div>\\n                        </div>\\n                        \\n                    </div>\\n                </div>\\n            </div>\\n        </div>\\n\\n        <!-- Course List -->\\n        <div class=\"ui segment\" style=\"border:none; margin-bottom:20px;\">\\n            <div class=\"ui header\"><a href=\"/course\" style=\"color:rgba(0,0,0,.87)\">Courses</a></div>\\n            <div class=\"ui three column stackable grid\">\\n                \\n                <div class=\"column\">\\n                    <div class=\"ui card\" style=\"border:none; width:100%; box-shadow:none;\">\\n                        <div class=\"image\">\\n                            <img src=\"static/img/python_kmooc_Au7IiJf.jpg\" style=\"max-height:300px;\">\\n                        </div>\\n                        <div class=\"content\">\\n                            <div class=\"header\"><a href=\"/course/1\">\\xeb\\x8d\\xb0\\xec\\x9d\\xb4\\xed\\x84\\xb0\\xea\\xb3\\xbc\\xed\\x95\\x99\\xec\\x9d\\x84 \\xec\\x9c\\x84\\xed\\x95\\x9c \\xed\\x8c\\x8c\\xec\\x9d\\xb4\\xec\\x8d\\xac \\xec\\x9e\\x85\\xeb\\xac\\xb8</a></div>\\n                            <div class=\"meta\">2017\\xeb\\x85\\x84 3\\xec\\x9b\\x94 10\\xec\\x9d\\xbc</div>\\n                            <div class=\"description\">\\n                              <p>Everybody in this country should learn to program a computer, because it teaches you how to think - Steve Jobs -\\r\\n\\r\\n\\xeb\\xb3\\xb8 \\xec\\x88\\x98\\xec\\x97\\x85\\xec\\x97\\x90\\xec\\x84\\x9c \\xec\\x9a\\xb0\\xeb\\xa6\\xac\\xeb\\x8a\\x94 \\xe2\\x80\\x9c\\xed\\x8c\\x8c\\xec\\x9d\\xb4\\xec\\x8d\\xac\\xe2\\x80\\x9d\\xec\\x9d\\xb4\\xeb\\x9d\\xbc\\xeb\\x8a\\x94 \\xec\\x96\\xb8\\xec\\x96\\xb4\\xeb\\xa5\\xbc \\xeb\\xb0\\xb0\\xec\\x9a\\xb4\\xeb\\x8b\\xa4.\\r\\n\\xed\\x94\\x84\\xeb\\xa1\\x9c\\xea\\xb7\\xb8\\xeb\\x9e\\xa8\\xeb\\xb0\\x8d\\xec\\x9d\\x84 \\xeb\\xb0\\xb0\\xec\\x9a\\xb4\\xeb\\x8b\\xa4\\xeb\\x8a\\x94 \\xea\\xb2\\x83\\xec\\x9d\\x80 \\xea\\xb2\\xb0\\xec\\xbd\\x94 \\xec\\x89\\xac\\xec\\x9a\\xb4 \\xec\\x9d\\xbc\\xec\\x9d\\x80 \\xec\\x95\\x84\\xeb\\x8b\\x88\\xeb\\x8b\\xa4. \\xea\\xb7\\xb8\\xeb\\x9f\\xac\\xeb\\x82\\x98 \\xec\\x9d\\xb4\\xea\\xb2\\x83\\xec\\x9d\\x80 \\xec\\x88\\x98\\xed\\x95\\x99, \\xec\\x98\\x81\\xec\\x96\\xb4, \\xec\\x9d\\x8c\\xec\\x95\\x85, \\xeb\\xaf\\xb8\\xec\\x88\\xa0, \\xec\\x9a\\xb4\\xeb\\x8f\\x99\\xec\\x9d\\x84 \\xeb\\xb0\\xb0\\xec\\x9a\\xb0\\xeb\\x8a\\x94 \\xea\\xb2\\x83\\xea\\xb3\\xbc \\xed\\x81\\xac\\xea\\xb2\\x8c \\xeb\\x8b\\xa4\\xeb\\xa5\\xb4\\xec\\xa7\\x80 \\xec\\x95\\x8a\\xeb\\x8b\\xa4. \\xec\\xb2\\x9c\\xec\\x9e\\xac\\xec\\xa0\\x81\\xec\\x9d\\xb8 \\xeb\\xaa\\x87 \\xeb\\xaa\\x85\\xec\\x9d\\x80 \\xec\\x9e\\x88\\xeb\\x8b\\xa4. \\xea\\xb7\\xb8\\xeb\\x9f\\xac\\xeb\\x82\\x98 \\xeb\\x88\\x84\\xea\\xb5\\xac\\xeb\\x82\\x98 \\xeb\\x85\\xb8\\xeb\\xa0\\xa5\\xed\\x95\\x98\\xeb\\xa9\\xb4 \\xec\\x9e\\x98 \\xed\\x95\\xa0 \\xec\\x88\\x98 \\xec\\x9e\\x88\\xeb\\x8a\\x94 \\xeb\\xb6\\x84\\xec\\x95\\xbc\\xec\\x9d\\xb4\\xeb\\x8b\\xa4.\\r\\n\\xec\\x83\\x88\\xeb\\xa1\\x9c\\xec\\x9a\\xb4 \\xea\\xb2\\x83\\xec\\x9d\\x84 \\xea\\xb3\\xb5\\xeb\\xb6\\x80 \\xed\\x95\\x9c\\xeb\\x8b\\xa4\\xeb\\x8a\\x94 \\xea\\xb2\\x83\\xec\\x9d\\x80 \\xeb\\xb6\\x84\\xeb\\xaa\\x85 \\xec\\x96\\xb4\\xeb\\xa0\\xb5\\xeb\\x8b\\xa4. \\xea\\xb7\\xb8\\xeb\\x9f\\xac\\xeb\\x82\\x98 \\xed\\x95\\x99\\xec\\xb0\\xbd\\xec\\x8b\\x9c\\xec\\xa0\\x88 \\xec\\x96\\xb4\\xeb\\xa0\\xa4\\xec\\x9a\\xb4 \\xeb\\xac\\xb8\\xec\\xa0\\x9c\\xeb\\xa5\\xbc \\xed\\x92\\x80\\xec\\x96\\xb4\\xea\\xb0\\x80\\xeb\\xa9\\xb4\\xec\\x84\\x9c \\xeb\\x8a\\x90\\xeb\\x81\\xbc\\xeb\\x8a\\x94 \\xed\\x9d\\xac\\xec\\x97\\xb4\\xec\\x9d\\x84 \\xec\\x97\\xac\\xeb\\x9f\\xac\\xeb\\xb6\\x84\\xec\\x9d\\x80 \\xea\\xb8\\xb0\\xec\\x96\\xb5\\xed\\x95\\xa0 \\xea\\xb2\\x83\\xec\\x9d\\xb4\\xeb\\x8b\\xa4. \\xeb\\xa7\\xa4\\xec\\xa3\\xbc \\xea\\xb7\\xb8 \\xed\\x9d\\xac\\xec\\x97\\xb4\\xec\\x9d\\x84 \\xeb\\x8a\\x90\\xeb\\x82\\x84 \\xec\\x88\\x98 \\xec\\x9e\\x88\\xeb\\x8f\\x84\\xeb\\xa1\\x9d \\xeb\\xb3\\xb8 \\xec\\x88\\x98\\xec\\x97\\x85\\xec\\x9d\\x80 \\xec\\x84\\xa4\\xea\\xb3\\x84\\xeb\\x90\\x98\\xec\\x97\\x88\\xeb\\x8b\\xa4.\\r\\n\\r\\n\\xec\\xa6\\x90\\xea\\xb1\\xb0\\xec\\x9a\\xb4 \\xea\\xb0\\x95\\xec\\x9d\\x98\\xeb\\xa5\\xbc \\xea\\xb8\\xb0\\xeb\\x8c\\x80\\xed\\x95\\x98\\xeb\\xa9\\xb0. Hello World!</p>\\n                            </div>\\n                        </div>\\n                    </div>\\n                </div>\\n                \\n            </div>\\n        </div>\\n\\n\\n        <!-- Video List -->\\n        <div class=\"ui segment\" style=\"border:none; margin-bottom:20px;\">\\n            <div class=\"ui header\"><a href=\"/video\" style=\"color:rgba(0,0,0,.87)\">Videos</a></div>\\n            <div class=\"ui four column stackable grid container\">\\n                \\n            </div>\\n        </div>\\n    </div>\\n\\n    \\n    \\n        <script src=\"http://code.jquery.com/jquery-latest.js\"></script>\\n        <script type=\"text/javascript\" src=\"/static/js/semantic.min.js\"></script>\\n        <script>\\n            $(document).ready(function () {\\n                $(\\'.ui.embed\\').embed();\\n                });\\n        </script>\\n    \\n\\n\\n    <!-- for the other cateogries -->\\n    <div style=\" padding-top:55px;\">\\n        \\n        \\n    </div>\\n\\n    \\n        <footer class=\"extends ui inverted vertical footer segment\">\\n            <div class=\"ui center aligned container\">\\n                <div class=\"ui very relaxed horizontal list\">\\n                    <div class=\"item\">\\n                        <a href=\"https://www.facebook.com/GachonCS50\" target=\"_\"><i class=\"fa fa fa-facebook-square\" aria-hidden=\"true\"></i></a>\\n                    </div>\\n                    <div class=\"item\">\\n                       <a href=\"https://www.instagram.com/teamlab_research/\" target=\"_\"><i class=\"fa fa-instagram fa-2x\" aria-hidden=\"true\"></i></a>\\n                    </div>\\n                    <div class=\"item\">\\n                        <a href=\"https://github.com/TeamLab\" target=\"_\"><i class=\"fa fa-github\" aria-hidden=\"true\"></i></a>\\n                    </div>\\n                    <div class=\"item\">\\n                        <a href=\"https://www.youtube.com/channel/UC_kvhNYJtP1-Ap67byTbfuw\" target=\"_\"><i class=\"fa fa-youtube\" aria-hidden=\"true\"></i></a>\\n                    </div>\\n                </div>\\n                <p class=muted><a href=\"/accounts/policy/\">\\xec\\x9d\\xb4\\xec\\x9a\\xa9\\xec\\x95\\xbd\\xea\\xb4\\x80</a> | <a href=\"/accounts/privacy/\">\\xea\\xb0\\x9c\\xec\\x9d\\xb8\\xec\\xa0\\x95\\xeb\\xb3\\xb4\\xec\\xb2\\x98\\xeb\\xa6\\xac\\xeb\\xb0\\xa9\\xec\\xb9\\xa8</a>\\n<br />\\nCopyright &copy; TeamLab @ Gachon University all rights reserved 2016\\n\\n</p>\\n            </div>\\n        </footer>\\n    \\n</div>\\n</body>\\n</html>'\n"
     ]
    }
   ],
   "source": [
    "# module and package\n",
    "# package has __init__.py and sub-packages\n",
    "\n",
    "import urllib.request\n",
    "response = urllib.request.urlopen(\"http://theteamlab.io\")\n",
    "print(response.read())\n",
    "#brings the HTML info of the website"
   ]
  },
  {
   "cell_type": "code",
   "execution_count": null,
   "metadata": {},
   "outputs": [],
   "source": []
  },
  {
   "cell_type": "code",
   "execution_count": 2,
   "metadata": {},
   "outputs": [
    {
     "data": {
      "text/plain": [
       "True"
      ]
     },
     "execution_count": 2,
     "metadata": {},
     "output_type": "execute_result"
    }
   ],
   "source": [
    "import webbrowser\n",
    "webbrowser.open(\"http://computing.or.kr\") #open the website"
   ]
  },
  {
   "cell_type": "markdown",
   "metadata": {},
   "source": []
  },
  {
   "cell_type": "code",
   "execution_count": null,
   "metadata": {},
   "outputs": [],
   "source": []
  }
 ],
 "metadata": {
  "kernelspec": {
   "display_name": "Python 3",
   "language": "python",
   "name": "python3"
  },
  "language_info": {
   "codemirror_mode": {
    "name": "ipython",
    "version": 3
   },
   "file_extension": ".py",
   "mimetype": "text/x-python",
   "name": "python",
   "nbconvert_exporter": "python",
   "pygments_lexer": "ipython3",
   "version": "3.7.6"
  }
 },
 "nbformat": 4,
 "nbformat_minor": 4
}
