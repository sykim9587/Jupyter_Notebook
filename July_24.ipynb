{
 "cells": [
  {
   "cell_type": "markdown",
   "metadata": {},
   "source": [
    "# chapter 7"
   ]
  },
  {
   "cell_type": "code",
   "execution_count": 1,
   "metadata": {},
   "outputs": [
    {
     "name": "stdout",
     "output_type": "stream",
     "text": [
      "True\n",
      "True\n",
      "False\n"
     ]
    }
   ],
   "source": [
    "# lab 1 - chaecking if it's parlindrome\n",
    "\n",
    "def check_par (a):\n",
    "    a = a.lower()\n",
    "    new_stack = []\n",
    "    new_queue = []\n",
    "    for i in a:\n",
    "        if i.isalpha():\n",
    "            new_stack.append(i)\n",
    "            new_queue.append(i)\n",
    "\n",
    "    for i in range(len(new_stack)):\n",
    "        if new_stack.pop() != new_queue.pop(0):\n",
    "            return False\n",
    "    return True\n",
    "    \n",
    "\n",
    "print(check_par(\"Wow\"))\n",
    "print(check_par(\"Madam, I'm Adam.\"))\n",
    "print(check_par(\"Madam, I am Adam.\"))\n",
    "\n"
   ]
  },
  {
   "cell_type": "code",
   "execution_count": 2,
   "metadata": {},
   "outputs": [
    {
     "name": "stdout",
     "output_type": "stream",
     "text": [
      "{'name': '기사', 'hp': 200, 'mp': 30, 'level': 5}\n"
     ]
    }
   ],
   "source": [
    "key_list = [\"name\", \"hp\", \"mp\", \"level\"]\n",
    "value_list = [\"기사\",200,30,5]\n",
    "\n",
    "character = {}\n",
    "j=0\n",
    "for i in key_list:\n",
    "    character[i]=value_list[j]\n",
    "    j+=1\n",
    "print(character)"
   ]
  },
  {
   "cell_type": "code",
   "execution_count": 3,
   "metadata": {},
   "outputs": [
    {
     "data": {
      "text/plain": [
       "1"
      ]
     },
     "execution_count": 3,
     "metadata": {},
     "output_type": "execute_result"
    }
   ],
   "source": [
    "# tuple -> cmp(t1,t2) comparing and returns 0 when it's same\n",
    "# max(t), min(t), tuple(seq)-> chaning the list to tuple\n",
    "t1 = (1,2,6)\n",
    "t2 = (1,2,3)\n",
    "#cmp(t1, t2) -> not in pyton 3\n",
    "def cmp(a, b):\n",
    "    return (a > b) - (a < b) \n",
    "\n",
    "cmp(t1,t2) #returns 0 when it's the same"
   ]
  },
  {
   "cell_type": "code",
   "execution_count": 4,
   "metadata": {},
   "outputs": [
    {
     "name": "stdout",
     "output_type": "stream",
     "text": [
      "tuple ver 1\n",
      "type in the data for creating a tuple. use space\n",
      "s\n",
      "choose the menu\n",
      "q=quit, s=slicing, c=count, i=in:q\n",
      "quit the program.\n"
     ]
    }
   ],
   "source": [
    "print(\"tuple ver 1\")\n",
    "print(\"type in the data for creating a tuple. use space\")\n",
    "a = input()\n",
    "a = tuple(a.split())\n",
    "\n",
    "while True:\n",
    "    b = input(\"choose the menu\\nq=quit, s=slicing, c=count, i=in:\")\n",
    "    \n",
    "    if b=='q':\n",
    "        print(\"quit the program.\")\n",
    "        break\n",
    "    elif b == 's':\n",
    "        b1=int(input(\"From:\"))\n",
    "        b2=int(input(\"To:\"))\n",
    "        print(a[b1:b2])\n",
    "    elif b == 'c':\n",
    "        c1 = input(\"letter you want to find and count:\")\n",
    "        print(a.count(c1),\"times appearing\")\n",
    "    elif b == 'i':\n",
    "        i1 = input(\"letter you want to find:\")\n",
    "        print(i1 in a)\n",
    "    "
   ]
  },
  {
   "cell_type": "code",
   "execution_count": 5,
   "metadata": {},
   "outputs": [
    {
     "name": "stdout",
     "output_type": "stream",
     "text": [
      "{1, 2, 3, 5}\n",
      "{1, 2, 3, 4, 5, 6, 7}\n",
      "{1, 2, 3, 4, 5, 6, 7}\n",
      "{3, 4, 5}\n",
      "{3, 4, 5}\n",
      "{1, 2}\n",
      "{1, 2}\n",
      "True\n"
     ]
    },
    {
     "data": {
      "text/plain": [
       "{1, 2, 3, 4, 5}"
      ]
     },
     "execution_count": 5,
     "metadata": {},
     "output_type": "execute_result"
    }
   ],
   "source": [
    "#set mutable -> no index, {}, unique set\n",
    "#.discard -> no error, remove -> error when they don't have it\n",
    "\n",
    "s = {1,5}\n",
    "s.update([1,2,3]) #adding several at the same time\n",
    "print(s)\n",
    "\n",
    "s1 = set([1,2,3,4,5])\n",
    "s2 = set([3,4,5,6,7])\n",
    "\n",
    "print(s1.union(s2))\n",
    "print(s1 | s2)\n",
    "print(s1.intersection(s2))\n",
    "print(s1 & s2)\n",
    "print(s1.difference(s2))\n",
    "print(s1-s2)\n",
    "\n",
    "a = set([1,2,3,4,5])\n",
    "b = set([3,4,5])\n",
    "print(a.issuperset(b)) #including b set \n",
    "set.union(a,b) #this is also possible -> all"
   ]
  },
  {
   "cell_type": "code",
   "execution_count": 6,
   "metadata": {},
   "outputs": [
    {
     "name": "stdout",
     "output_type": "stream",
     "text": [
      "set()\n",
      "set()\n"
     ]
    }
   ],
   "source": [
    "a = set([1,2,3])\n",
    "a.pop() #returns random!\n",
    "a.clear()\n",
    "print(a) #empty\n",
    "#del a\n",
    "print(a) #deletes! so error"
   ]
  },
  {
   "cell_type": "code",
   "execution_count": 7,
   "metadata": {},
   "outputs": [
    {
     "name": "stdout",
     "output_type": "stream",
     "text": [
      "file name:proverbs.txt\n",
      "used words: 18\n",
      "{'well', 'flock', 'of', 'is', 'ends', 'that', 'travels', 'begun', 'half', 'together', 'fast', 'bad', 'done', 'news', 'birds', 'feather', 'alls', 'a'}\n"
     ]
    }
   ],
   "source": [
    "# proverb problem - checking the number of words\n",
    "def process(w): #making the words lower case \n",
    "    output = \"\"\n",
    "    for ch in w:\n",
    "        if(ch.isalpha()):\n",
    "            output += ch\n",
    "    return output.lower()\n",
    "\n",
    "words = set()\n",
    "\n",
    "fname = input(\"file name:\")\n",
    "file = open(fname,\"r\")\n",
    "#print(file) -> just returns object info. need to use f.readlines() to see the content\n",
    "\n",
    "for line in file:\n",
    "    lineWords = line.split()\n",
    "    #print(lineWords) -> create list\n",
    "    for word in lineWords:\n",
    "        words.add(process(word))\n",
    "\n",
    "print(\"used words:\",len(words))\n",
    "print(words)\n",
    "    \n",
    "\n",
    "    "
   ]
  },
  {
   "cell_type": "code",
   "execution_count": 8,
   "metadata": {},
   "outputs": [
    {
     "name": "stdout",
     "output_type": "stream",
     "text": [
      "key a\n",
      "value 1\n",
      "key b\n",
      "value 2\n"
     ]
    }
   ],
   "source": [
    "#dictionary -> d = {} or d=dict()\n",
    "# d.keys() -> all keys in list!\n",
    "# d.values() -> all values in list\n",
    "# d.items() -> dict_items([('a',1),('b',2)]) -> tuple in list \n",
    "\n",
    "dictio = {'a':1, \"b\":2}\n",
    "\n",
    "for k,v in dictio.items():\n",
    "    print(\"key\",k)\n",
    "    print(\"value\",v)\n"
   ]
  },
  {
   "cell_type": "code",
   "execution_count": 9,
   "metadata": {},
   "outputs": [
    {
     "name": "stdout",
     "output_type": "stream",
     "text": [
      "student number:123\n",
      "name:so\n",
      "birthday:July \n",
      "phone number:010\n",
      "address:Daejeon\n",
      "1 studnet done {'student number': 123, 'name': 'so', 'birthday': 'July ', 'phone number:': '010', 'address': 'Daejeon'}\n",
      "student number:0\n",
      "program finish.\n"
     ]
    }
   ],
   "source": [
    "# student registration program -> make dictionary\n",
    "student = [] #if it's dictionary, we can't use index! therefore list\n",
    "n=0\n",
    "while True:\n",
    "    n += 1\n",
    "    number = int(input(\"student number:\"))\n",
    "    if number == 0:\n",
    "        print(\"program finish.\")\n",
    "        break\n",
    "    name = input(\"name:\")\n",
    "    birth = input(\"birthday:\")\n",
    "    phone = input(\"phone number:\")\n",
    "    address = input(\"address:\")\n",
    "    student.append({\"student number\":number, \"name\":name, \"birthday\":birth, \\\n",
    "                    \"phone number:\":phone, \"address\":address})\n",
    "    print(\"%d studnet done %s\"%(n,student[n-1]))"
   ]
  },
  {
   "cell_type": "code",
   "execution_count": 10,
   "metadata": {},
   "outputs": [
    {
     "name": "stdout",
     "output_type": "stream",
     "text": [
      "Things to buy= {'mix': 1, 'coffee stick': 2}\n",
      "money needed for each item= {'mix': 6000, 'coffee stick': 6000}\n"
     ]
    }
   ],
   "source": [
    "# lab 2 question\n",
    "product = {\"mix\": 2, \"cup\": 3, \"coffee stick\":1}\n",
    "price = {\"mix\":6000,\"cup\":15000,\"coffee stick\":3000}\n",
    "\n",
    "product_buy = {}\n",
    "price_buy = {}\n",
    "for k,v in product.items():\n",
    "    if v<3:\n",
    "        product_buy[k]=3-v\n",
    "        price_buy[k]=price[k]*product_buy[k]\n",
    "print(\"Things to buy=\", product_buy)\n",
    "print(\"money needed for each item=\",price_buy)"
   ]
  },
  {
   "cell_type": "code",
   "execution_count": 11,
   "metadata": {},
   "outputs": [],
   "source": [
    "store = {\"mix\":[2,6000]} # -> try again with this data structure!"
   ]
  },
  {
   "cell_type": "code",
   "execution_count": 12,
   "metadata": {},
   "outputs": [
    {
     "name": "stdout",
     "output_type": "stream",
     "text": [
      "Is group 2 included in group 1?:  True\n",
      "delete group 2, now group 1 is:  {'e', 'a'}\n"
     ]
    }
   ],
   "source": [
    "#using set\n",
    "group_1 = {\"a\",\"b\",\"c\",\"d\",\"e\"}\n",
    "group_2 = {\"b\",\"c\",\"d\"}\n",
    "\n",
    "print(\"Is group 2 included in group 1?: \",group_1.issuperset(group_2))\n",
    "print(\"delete group 2, now group 1 is: \", group_1.difference(group_2))"
   ]
  },
  {
   "cell_type": "code",
   "execution_count": 13,
   "metadata": {},
   "outputs": [
    {
     "name": "stdout",
     "output_type": "stream",
     "text": [
      "adding 142, value gets bigger than 10000 and the value is 10011\n"
     ]
    }
   ],
   "source": [
    "limit = 10000\n",
    "i = 1\n",
    "sum_val = 0\n",
    "\n",
    "while sum_val < limit:\n",
    "    sum_val += i\n",
    "    i += 1\n",
    "print(\"adding {}, value gets bigger than {} and the value is {}\".format(i,limit,sum_val))"
   ]
  },
  {
   "cell_type": "code",
   "execution_count": 14,
   "metadata": {},
   "outputs": [
    {
     "name": "stdout",
     "output_type": "stream",
     "text": [
      "deque([0, 1, 2, 3, 4])\n",
      "deque([4, 3, 2, 1, 0])\n"
     ]
    }
   ],
   "source": [
    "# collections! -> module for data structure\n",
    "# deque module\n",
    "from collections import deque\n",
    "\n",
    "deque_list = deque()\n",
    "for i in range(5):\n",
    "    deque_list.append(i)\n",
    "    \n",
    "print(deque_list)\n",
    "\n",
    "deque_list2 = deque()\n",
    "for i in range(5):\n",
    "    deque_list2.appendleft(i)\n",
    "    \n",
    "print(deque_list2)"
   ]
  },
  {
   "cell_type": "code",
   "execution_count": 15,
   "metadata": {},
   "outputs": [
    {
     "name": "stdout",
     "output_type": "stream",
     "text": [
      "deque([4, 3, 2, 1, 0])\n",
      "deque([7, 6, 5, 4, 3, 2, 1, 0])\n"
     ]
    }
   ],
   "source": [
    "# deque -> linked list and it's circular \n",
    "# rotate(n) -> to the right two times\n",
    "deque_list2 = deque()\n",
    "for i in range(5):\n",
    "    deque_list2.appendleft(i)\n",
    "    \n",
    "print(deque_list2)\n",
    "deque_list2.extendleft([5,6,7])\n",
    "print(deque_list2) #check the side!"
   ]
  },
  {
   "cell_type": "code",
   "execution_count": 16,
   "metadata": {},
   "outputs": [
    {
     "name": "stdout",
     "output_type": "stream",
     "text": [
      "[('k', 300), ('x', 100), ('z', 200)]\n",
      "k 300\n",
      "x 100\n",
      "z 200\n",
      "[('x', 100), ('z', 200), ('k', 300)]\n",
      "x 100\n",
      "z 200\n",
      "k 300\n"
     ]
    }
   ],
   "source": [
    "# OrderedDict module\n",
    "from collections import OrderedDict\n",
    "\n",
    "d=OrderedDict()\n",
    "d['x'] = 100\n",
    "d['z'] = 200\n",
    "d['k'] = 300\n",
    "\n",
    "def sort_by_key(t): #by putting them in tuple\n",
    "    return t[0] #returning only keys!\n",
    "\n",
    "print(sorted(d.items(), key = sort_by_key)) \n",
    "\n",
    "for k,v in OrderedDict(sorted(d.items(),key=sort_by_key)).items():\n",
    "    print(k,v)\n",
    "    \n",
    "\n",
    "def sort_by_val(t): #by putting them in tuple\n",
    "    return t[1] #returning only keys!\n",
    "\n",
    "print(sorted(d.items(), key = sort_by_val)) \n",
    "\n",
    "for k,v in OrderedDict(sorted(d.items(),key=sort_by_val)).items():\n",
    "    print(k,v)"
   ]
  },
  {
   "cell_type": "code",
   "execution_count": 17,
   "metadata": {},
   "outputs": [
    {
     "name": "stdout",
     "output_type": "stream",
     "text": [
      "0\n"
     ]
    }
   ],
   "source": [
    "# defaultdict module\n",
    "# any key will have default value \n",
    "\n",
    "from collections import defaultdict\n",
    "\n",
    "d=defaultdict(lambda:0)\n",
    "print(d[\"first\"]) "
   ]
  },
  {
   "cell_type": "code",
   "execution_count": 18,
   "metadata": {},
   "outputs": [],
   "source": [
    "#d = defaultdict(list) #getting list \n",
    "\n",
    "#d[k].append(v) possible!"
   ]
  },
  {
   "cell_type": "code",
   "execution_count": 19,
   "metadata": {},
   "outputs": [
    {
     "name": "stdout",
     "output_type": "stream",
     "text": [
      "['g', 'a', 'l', 'l', 'a', 'h', 'a', 'd']\n",
      "Counter({'a': 3, 'l': 2, 'g': 1, 'h': 1, 'd': 1})\n",
      "['g', 'a', 'a', 'a', 'l', 'l', 'h', 'd']\n",
      "Counter({'g': 0, 'a': 0, 'l': 0, 'h': 0, 'd': 0})\n"
     ]
    }
   ],
   "source": [
    "#counter module\n",
    "# as dictionary form, it counts the character\n",
    "\n",
    "from collections import Counter\n",
    "\n",
    "text = list(\"gallahad\")\n",
    "print(text)\n",
    "\n",
    "c=Counter(text)\n",
    "print(c)\n",
    "\n",
    "# we can also use elements() and make a list\n",
    "print(list(c.elements()))\n",
    "\n",
    "#counter can do subtract, +, &, |(bigger value return)\n",
    "c.subtract(c)\n",
    "print(c)"
   ]
  },
  {
   "cell_type": "code",
   "execution_count": 20,
   "metadata": {},
   "outputs": [
    {
     "name": "stdout",
     "output_type": "stream",
     "text": [
      "Point(x=11, y=12)\n",
      "11\n",
      "11\n"
     ]
    }
   ],
   "source": [
    "#namedtuple\n",
    "# save dat in tuple (like a structure)\n",
    "\n",
    "from collections import namedtuple\n",
    "\n",
    "Point = namedtuple('Point',['x','y'])\n",
    "p = Point(11,12)\n",
    "print(p)\n",
    "print(p.x)\n",
    "print(p[0])"
   ]
  },
  {
   "cell_type": "code",
   "execution_count": 21,
   "metadata": {},
   "outputs": [
    {
     "name": "stdout",
     "output_type": "stream",
     "text": [
      "type in sentenses: dkd hello 1 1 djf dkjf aa aa\n",
      "1 2\n",
      "aa 2\n",
      "dkd 1\n",
      "hello 1\n",
      "djf 1\n",
      "dkjf 1\n"
     ]
    }
   ],
   "source": [
    "# Lab 3 text mining program\n",
    "\n",
    "text_file = input(\"type in sentenses: \").split()\n",
    "d = defaultdict(lambda: 0)\n",
    "\n",
    "for k in text_file:\n",
    "    d[k] += 1\n",
    "\n",
    "def sort_by_val(t): #by putting them in tuple\n",
    "    return t[1] #returning only keys!\n",
    "\n",
    "#key = lambda t: t[1] \n",
    "\n",
    "for k,v in OrderedDict(sorted(d.items(),key=sort_by_val, reverse=True)).items():\n",
    "    print(k,v)"
   ]
  },
  {
   "cell_type": "code",
   "execution_count": 22,
   "metadata": {},
   "outputs": [
    {
     "name": "stdout",
     "output_type": "stream",
     "text": [
      "type in names with spaces: tom tom mick mick jane ana\n",
      "{'tom', 'mick'}\n"
     ]
    }
   ],
   "source": [
    "# Lab 4 finding the same name\n",
    "\n",
    "#use dictionary (empty), check if it's there, increase one if it's there, if 2 then print\n",
    "\n",
    "def find_same_name(nl):\n",
    "    dic_name = defaultdict(lambda:0)  #otherwise dic_name is not there. \n",
    "    set_result = set()\n",
    "    for i in nl:\n",
    "        dic_name[i] += 1\n",
    "\n",
    "    \n",
    "    for k,v in dic_name.items(): #make it into items and check the value\n",
    "        if v >=2:\n",
    "            set_result.add(k)    #for set, it's add!\n",
    "    return set_result\n",
    "            \n",
    "        \n",
    "\n",
    "name_list = input(\"type in names with spaces: \").split()\n",
    "\n",
    "print(find_same_name(name_list))"
   ]
  },
  {
   "cell_type": "code",
   "execution_count": 23,
   "metadata": {},
   "outputs": [
    {
     "name": "stdout",
     "output_type": "stream",
     "text": [
      "max value : 50 * 50 = 2500\n"
     ]
    }
   ],
   "source": [
    "# calculating the max value of the multiplication\n",
    "\n",
    "max_value = 0\n",
    "a = 0\n",
    "b = 0\n",
    "\n",
    "for i in range(1,51):\n",
    "    j = 100-i\n",
    "    if max_value < i*j:\n",
    "        max_value = i*j\n",
    "        a = i\n",
    "        b = j\n",
    "        \n",
    "    \n",
    "    \n",
    "print(\"max value : {} * {} = {}\".format(a,b,max_value))"
   ]
  },
  {
   "cell_type": "code",
   "execution_count": 24,
   "metadata": {},
   "outputs": [
    {
     "name": "stdout",
     "output_type": "stream",
     "text": [
      "<list_reverseiterator object at 0x0000018AEEB81D88>\n"
     ]
    }
   ],
   "source": [
    "list_a = [1,2,3]\n",
    "sum(list_a) #adding all up\n",
    "\n",
    "print(reversed(list_a)) #just the object\n"
   ]
  },
  {
   "cell_type": "markdown",
   "metadata": {},
   "source": [
    "# python style code (chap 8)"
   ]
  },
  {
   "cell_type": "code",
   "execution_count": 25,
   "metadata": {},
   "outputs": [
    {
     "name": "stdout",
     "output_type": "stream",
     "text": [
      "[0, 1, 2, 3, 4, 5, 6, 7, 8, 9]\n"
     ]
    }
   ],
   "source": [
    "#list comprehension\n",
    "list_a = [i for i in range(10)]\n",
    "\n",
    "print(list_a)"
   ]
  },
  {
   "cell_type": "code",
   "execution_count": 26,
   "metadata": {},
   "outputs": [
    {
     "name": "stdout",
     "output_type": "stream",
     "text": [
      "[['ad', 'bd', 'cd'], ['ae', 'be', 'ce'], ['aa', 'ba', 'ca']]\n"
     ]
    }
   ],
   "source": [
    "# two dimensional list\n",
    "case_1 = [\"a\", \"b\", \"c\"]\n",
    "case_2 = [\"d\", \"e\", \"a\"]\n",
    "\n",
    "result = [[i+j for i in case_1]for j in case_2] #case 2 is outer for loop\n",
    "print(result)"
   ]
  },
  {
   "cell_type": "code",
   "execution_count": 27,
   "metadata": {},
   "outputs": [
    {
     "name": "stdout",
     "output_type": "stream",
     "text": [
      "{0: 'Team', 1: 'is', 2: 'an', 3: 'academic', 4: 'in', 5: 'south', 6: 'korea'}\n"
     ]
    }
   ],
   "source": [
    "dic_a = {i:j for i,j in enumerate(\"Team is an academic in south korea\".split())}\n",
    "print(dic_a)"
   ]
  },
  {
   "cell_type": "code",
   "execution_count": 28,
   "metadata": {},
   "outputs": [
    {
     "name": "stdout",
     "output_type": "stream",
     "text": [
      "<zip object at 0x0000018AEEA4B388>\n",
      "(1, 100)\n",
      "(2, 200)\n",
      "(3, 300)\n"
     ]
    }
   ],
   "source": [
    "# zip function\n",
    "\n",
    "a_list = [1,2,3]\n",
    "b_list = [100,200,300]\n",
    "\n",
    "c = zip(a_list,b_list)\n",
    "print(c) # just the address\n",
    "for i in c:\n",
    "    print(i) #tuple created"
   ]
  }
 ],
 "metadata": {
  "kernelspec": {
   "display_name": "Python 3",
   "language": "python",
   "name": "python3"
  },
  "language_info": {
   "codemirror_mode": {
    "name": "ipython",
    "version": 3
   },
   "file_extension": ".py",
   "mimetype": "text/x-python",
   "name": "python",
   "nbconvert_exporter": "python",
   "pygments_lexer": "ipython3",
   "version": "3.7.6"
  }
 },
 "nbformat": 4,
 "nbformat_minor": 4
}
