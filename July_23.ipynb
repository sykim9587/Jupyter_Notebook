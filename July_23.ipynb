{
 "cells": [
  {
   "cell_type": "markdown",
   "metadata": {},
   "source": [
    "# chapter 5 "
   ]
  },
  {
   "cell_type": "code",
   "execution_count": 1,
   "metadata": {},
   "outputs": [
    {
     "name": "stdout",
     "output_type": "stream",
     "text": [
      "(3, 4, [5])\n",
      "(3, 4, [5, 6, 10])\n"
     ]
    }
   ],
   "source": [
    "# * means unpacking -> print_numbers(* list_a) when print_numbers(a,b,c)\n",
    "\n",
    "#variable-length argument\n",
    "\n",
    "def ast_test(*args):\n",
    "    x,y,*z = args #so we can hold more arguments than 3\n",
    "    return x, y, z #return as tuple\n",
    "\n",
    "print(ast_test(3,4,5))\n",
    "b =(ast_test(3,4,5,6,10))   \n",
    "#b = list(b)\n",
    "#b[0]=8 #list inside tuple change possible, tuple change is not possible\n",
    "print(b)"
   ]
  },
  {
   "cell_type": "code",
   "execution_count": 3,
   "metadata": {},
   "outputs": [
    {
     "name": "stdout",
     "output_type": "stream",
     "text": [
      "홍길동\n"
     ]
    }
   ],
   "source": [
    "# **kwargs example 1 (when the dictionary data is presented)\n",
    "def pers_info(name,age,address): #the keywards have to match\n",
    "    print(name)\n",
    "    \n",
    "x = {'name':\"홍길동\",\"age\":30,\"address\":\"대전\"}\n",
    "pers_info(**x)"
   ]
  },
  {
   "cell_type": "code",
   "execution_count": 8,
   "metadata": {},
   "outputs": [
    {
     "name": "stdout",
     "output_type": "stream",
     "text": [
      "{'first': 3, 'second': 4, 'third': 5}\n",
      "first value is 3\n"
     ]
    }
   ],
   "source": [
    "def kwargs_test(**kwargs): #double *\n",
    "    print(kwargs) # **kwargs doens't work since it's unpackked.\n",
    "    print(\"first value is {first}\".format(**kwargs)) #** means unpacking! \n",
    "    \n",
    "kwargs_test(first=3,second =4, third=5)"
   ]
  },
  {
   "cell_type": "code",
   "execution_count": 9,
   "metadata": {},
   "outputs": [
    {
     "name": "stdout",
     "output_type": "stream",
     "text": [
      "15\n"
     ]
    }
   ],
   "source": [
    "def ast_test_2(a,b,*args):\n",
    "    return a+b+sum(args)\n",
    "\n",
    "print(ast_test_2(1,2,3,4,5))"
   ]
  },
  {
   "cell_type": "code",
   "execution_count": 18,
   "metadata": {},
   "outputs": [
    {
     "name": "stdout",
     "output_type": "stream",
     "text": [
      "type in the list:12 92 18 33 34 29 90\n",
      "max number value:  1\n"
     ]
    }
   ],
   "source": [
    "# by using already made functions, find the index of the biggest number\n",
    "\n",
    "list_a = list(input(\"type in the list:\").split())\n",
    "list_a = list(map(int, list_a))\n",
    "\n",
    "max_val =max(list_a)\n",
    "max_idx = list_a.index(max_val)\n",
    "print(\"max number value: \", max_idx)"
   ]
  },
  {
   "cell_type": "code",
   "execution_count": 19,
   "metadata": {},
   "outputs": [
    {
     "name": "stdout",
     "output_type": "stream",
     "text": [
      "type in the list:12 92 10 32 82 34\n",
      "max value, max index : 92 1\n"
     ]
    }
   ],
   "source": [
    "# by using the logic, find the index of the biggest number\n",
    "\n",
    "list_a = list(input(\"type in the list:\").split())\n",
    "list_a = list(map(int, list_a))\n",
    "max_val = list_a[0]\n",
    "max_index = 0\n",
    "for index, value in enumerate(list_a):\n",
    "    if value>max_val:\n",
    "        max_val= value\n",
    "        max_index = index\n",
    "print(\"max value, max index :\", max_val, max_index)"
   ]
  },
  {
   "cell_type": "code",
   "execution_count": 24,
   "metadata": {},
   "outputs": [
    {
     "name": "stdout",
     "output_type": "stream",
     "text": [
      "2\n",
      "3\n",
      "-1\n",
      "4\n"
     ]
    }
   ],
   "source": [
    "# Lab 4 -> finding the value, if it's not there return -1\n",
    "\n",
    "list_k = [17,92,18,33,58,5,33,42]\n",
    "\n",
    "def find_val(*args):\n",
    "    for i in args:\n",
    "        if i in list_k:\n",
    "            index = list_k.index(i)\n",
    "            print(index)\n",
    "        else:\n",
    "            print(-1)\n",
    "\n",
    "            \n",
    "find_val(18,33,900,58)\n",
    "\n",
    "\n"
   ]
  },
  {
   "cell_type": "code",
   "execution_count": 33,
   "metadata": {},
   "outputs": [
    {
     "name": "stdout",
     "output_type": "stream",
     "text": [
      "a 12\n",
      "a 12\n",
      "b 34\n",
      "b 34\n"
     ]
    }
   ],
   "source": [
    "dictionary = {\"a\": 12, \"b\": 34}\n",
    "dictionary[\"name\"]=\"wow\"\n",
    "del dictionary[\"name\"]\n",
    "\n",
    "for key in dictionary: #key, value unpack X , key is possible! \n",
    "    print(key, dictionary.get(key)) #key an be used. \n",
    "    print(key, dictionary[key])"
   ]
  },
  {
   "cell_type": "code",
   "execution_count": 44,
   "metadata": {},
   "outputs": [
    {
     "name": "stdout",
     "output_type": "stream",
     "text": [
      "구름 5살\n",
      "초코 5살\n",
      "아지 5살\n"
     ]
    }
   ],
   "source": [
    "pets = [{\"name\": \"구름\",\"age\":5},{\"name\": \"초코\",\"age\":5},{\"name\": \"아지\",\"age\":5}]\n",
    "\n",
    "for i in range(3):\n",
    "    print(pets[i][\"name\"], str(pets[i][\"age\"])+\"살\")"
   ]
  },
  {
   "cell_type": "code",
   "execution_count": 51,
   "metadata": {},
   "outputs": [
    {
     "name": "stdout",
     "output_type": "stream",
     "text": [
      "{1: 4, 2: 2, 3: 2, 4: 2, 6: 3, 7: 2, 8: 2, 5: 2, 9: 1}\n"
     ]
    }
   ],
   "source": [
    "numbers = [1,2,3,4,1,6,7,8,4,5,6,7,8,9,5,6,3,2,1,1]\n",
    "counter = {}\n",
    "\n",
    "for number in numbers:\n",
    "    if number in counter:\n",
    "        counter[number] += 1\n",
    "    else:\n",
    "        counter[number]=1\n",
    "print(counter)"
   ]
  },
  {
   "cell_type": "markdown",
   "metadata": {},
   "source": [
    "# chapter 6"
   ]
  },
  {
   "cell_type": "code",
   "execution_count": 53,
   "metadata": {},
   "outputs": [
    {
     "name": "stdout",
     "output_type": "stream",
     "text": [
      "50 51\n"
     ]
    }
   ],
   "source": [
    "import sys\n",
    "print(sys.getsizeof(\"a\"), sys.getsizeof(\"ab\")) # adding one char increase 1, \n",
    "#which means 49 are dufalut memory size!"
   ]
  },
  {
   "cell_type": "code",
   "execution_count": 55,
   "metadata": {},
   "outputs": [
    {
     "name": "stdout",
     "output_type": "stream",
     "text": [
      "type in the sentence, 'q' will end the program.\n",
      "오늘 하루는 어땠나요?\n",
      "오\n",
      "하\n",
      "어\n",
      "type in the sentence, 'q' will end the program.\n",
      "hello how are you\n",
      "h\n",
      "h\n",
      "a\n",
      "y\n",
      "type in the sentence, 'q' will end the program.\n",
      "q\n"
     ]
    }
   ],
   "source": [
    "str_in = input(\"type in the sentence, 'q' will end the program.\\n\")\n",
    "while str_in != 'q':\n",
    "    list_in = str_in.split()\n",
    "    for i in list_in:\n",
    "        print(i[0])\n",
    "    str_in = input(\"type in the sentence, 'q' will end the program.\\n\")"
   ]
  },
  {
   "cell_type": "code",
   "execution_count": 7,
   "metadata": {},
   "outputs": [
    {
     "name": "stdout",
     "output_type": "stream",
     "text": [
      "name : 기사\n",
      "level : 12\n",
      "sword : 불꽃의 검\n",
      "armor : 풀플레이트\n",
      "skill : 베기\n",
      "skill : 세게 베기\n",
      "skill : 아주 세게 베기\n"
     ]
    }
   ],
   "source": [
    "character = {\n",
    "    \"name\": \"기사\",\n",
    "    \"level\":12,\n",
    "    \"items\": {\n",
    "        \"sword\": \"불꽃의 검\",\n",
    "        \"armor\": \"풀플레이트\"\n",
    "    },\n",
    "    \"skill\":[\"베기\",\"세게 베기\",\"아주 세게 베기\"]\n",
    "    \n",
    "}\n",
    "\n",
    "for key in character:\n",
    "    if type(character[key]) == str or type(character[key]) == int:\n",
    "        print(key,\":\", character[key])\n",
    "    elif type(character[key]) == list:\n",
    "        for i in character[key]:\n",
    "            print(key,\":\",i)\n",
    "    elif type(character[key]) == dict:\n",
    "        for i in character[key]:\n",
    "            print(i,\":\",character[key][i])\n",
    "    "
   ]
  },
  {
   "cell_type": "code",
   "execution_count": 64,
   "metadata": {},
   "outputs": [
    {
     "name": "stdout",
     "output_type": "stream",
     "text": [
      "A--B--C--D\n"
     ]
    }
   ],
   "source": [
    "#title -> each word capital\n",
    "#capital -> only the first one\n",
    "# title.upper().count('A')\n",
    "\n",
    "a=\"--\"\n",
    "b = a.join([\"A\",\"B\",\"C\",\"D\"])\n",
    "print(b)\n"
   ]
  },
  {
   "cell_type": "code",
   "execution_count": 68,
   "metadata": {},
   "outputs": [
    {
     "name": "stdout",
     "output_type": "stream",
     "text": [
      "number of 'yesterday': 9\n"
     ]
    }
   ],
   "source": [
    "f = open(\"yesterday.txt\",'r')\n",
    "yesterday_lyric = f.readlines()\n",
    "#print(yesterday_lyric)\n",
    "f.close()\n",
    "\n",
    "contents = \"\"\n",
    "for line in yesterday_lyric:\n",
    "    contents = contents + line.strip() + \"\\n\" #since strip removes \\n !\n",
    "n_of_yesterday = contents.upper().count(\"YESTERDAY\")\n",
    "print(\"number of 'yesterday':\",n_of_yesterday)"
   ]
  },
  {
   "cell_type": "code",
   "execution_count": 83,
   "metadata": {},
   "outputs": [
    {
     "name": "stdout",
     "output_type": "stream",
     "text": [
      "type in the sentence :\n",
      "FINISHED FILES ARE THE RESULT OF YEARS OF SCIENTIFIC STUDY COMBINED WITH THE EXPERIENCE OF YEARS\n",
      "what char do you want to find?:F\n",
      "F 1 / 6\n",
      "F 10 / 6\n",
      "F 32 / 6\n",
      "F 41 / 6\n",
      "F 50 / 6\n",
      "F 90 / 6\n"
     ]
    }
   ],
   "source": [
    "str_in = input(\"type in the sentence :\\n\")\n",
    "letter = input(\"what char do you want to find?:\")\n",
    "count_letter = str_in.count(letter)\n",
    "index = 0\n",
    "index_p=0\n",
    "while True:\n",
    "    index = str_in.find(letter)\n",
    "    index_p = (index+1)+index_p\n",
    "    if index == -1: break\n",
    "    print(letter, index_p, \"/\", count_letter)\n",
    "    str_in = str_in[index+1:]\n",
    "    "
   ]
  },
  {
   "cell_type": "code",
   "execution_count": 10,
   "metadata": {},
   "outputs": [],
   "source": [
    "# find function find(word,seq) -> much easier\n"
   ]
  },
  {
   "cell_type": "code",
   "execution_count": 5,
   "metadata": {},
   "outputs": [
    {
     "name": "stdout",
     "output_type": "stream",
     "text": [
      "Type in Data:asklfja\n",
      "Type in Data:dskfjl\n",
      "Type in Data:sdkfj 111221 dkfj34\n",
      "['sdkfj', '111221', 'dkfj34']\n",
      "Type in Data:alkf\n",
      "Type in Data:1\n"
     ]
    }
   ],
   "source": [
    "data = list(input(\"Type in Data:\").split())\n",
    "while True:\n",
    "    if data == ['1']:\n",
    "        break\n",
    "    if len(data)==3 and data[0].isalpha() and data[1].isdigit() and data[2].isalnum():\n",
    "        print(data)\n",
    "    \n",
    "    data = list(input(\"Type in Data:\").split())\n",
    "\n",
    "    # when data = 1 -> still short circuit rule -> doesn't check later ones\n",
    "    "
   ]
  },
  {
   "cell_type": "code",
   "execution_count": 11,
   "metadata": {},
   "outputs": [
    {
     "name": "stdout",
     "output_type": "stream",
     "text": [
      "product: apple, price per unit: 5.24300\n"
     ]
    }
   ],
   "source": [
    "print(\"product: {name:>5s}, price per unit: {price:5.5f}\".format(name = \"apple\",price = 5.243))"
   ]
  },
  {
   "cell_type": "code",
   "execution_count": 2,
   "metadata": {},
   "outputs": [
    {
     "name": "stdout",
     "output_type": "stream",
     "text": [
      "win team:lg\n",
      "lost team:sam\n",
      "score:2:3\n",
      "game type(1,2,3):3\n",
      "MVP name:so young\n",
      "Today game between team lg and team sam. team lg won with 2:3. today's game was normal. player so young did the best\n"
     ]
    }
   ],
   "source": [
    "a = input(\"win team:\")\n",
    "b = input(\"lost team:\")\n",
    "c = input(\"score:\")\n",
    "d = int(input(\"game type(1,2,3):\"))\n",
    "if d ==1:\n",
    "    d = \"intense\"\n",
    "elif d == 2:\n",
    "    d = \"boring\"\n",
    "elif d == 3:\n",
    "    d = \"normal\"\n",
    "e = input(\"MVP name:\")\n",
    "print(\"Today game between team {0} and team {1}. team {0} won with {2}. \\\n",
    "today's game was {3}. player {4} did the best\".format(a,b,c,d,e))"
   ]
  },
  {
   "cell_type": "code",
   "execution_count": 8,
   "metadata": {},
   "outputs": [
    {
     "name": "stdout",
     "output_type": "stream",
     "text": [
      "Type in your number:9508072409328\n",
      "Pass\n"
     ]
    }
   ],
   "source": [
    "def id_check (a):\n",
    "    if len(a) is not 13:\n",
    "        return False\n",
    "    list_a = [2,3,4,5,6,7,8,9,2,3,4,5]\n",
    "    num = 0\n",
    "    for index,value in enumerate(list_a):\n",
    "        num += int(a[index])*value\n",
    "        #print(a[index],list_a[index])\n",
    "    num = num % 11\n",
    "    #print(\"num:\",num)\n",
    "    num = 11 - num\n",
    "    if int(a[-1])==num:\n",
    "        return True\n",
    "    else:\n",
    "        return False\n",
    "    \n",
    "\n",
    "id_number = input(\"Type in your number:\")\n",
    "if id_check(id_number):\n",
    "    print(\"Pass\")\n",
    "else:\n",
    "    print(\"Fail\")"
   ]
  },
  {
   "cell_type": "code",
   "execution_count": 6,
   "metadata": {
    "scrolled": true
   },
   "outputs": [
    {
     "name": "stdout",
     "output_type": "stream",
     "text": [
      "<typing game start! when you're ready, type in anything!>\n",
      "1595488866.8690877\n",
      "*Question 1\n",
      "< mouse >\n",
      "mouse\n",
      "PASS\n",
      "*Question 2\n",
      "< panda >\n",
      "panda\n",
      "PASS\n",
      "*Question 3\n",
      "< fox >\n",
      "fox\n",
      "PASS\n",
      "*Question 4\n",
      "< snake >\n",
      "snake\n",
      "PASS\n",
      "*Question 5\n",
      "< frog >\n",
      "frog\n",
      "PASS\n",
      "take taken: 7.21\n"
     ]
    }
   ],
   "source": [
    "import time\n",
    "import random\n",
    "\n",
    "w = [\"cat\", \"dog\", \"fox\", \"monkey\", \"mouse\", \"panda\", \"frog\", \"snake\", \"wolf\"]\n",
    "\n",
    "questions = []\n",
    "input(\"<typing game start! when you're ready, type in anything!>\")\n",
    "\n",
    "\n",
    "time_now = time.time()\n",
    "print(time_now)\n",
    "for i in range(5):\n",
    "    print(\"*Question {}\".format(i+1))\n",
    "    new = random.choice(w)\n",
    "    while new in questions: #getting words\n",
    "        new = random.choice(w)\n",
    "    questions.append(new)\n",
    "    while True:\n",
    "        print(\"<\",new,\">\")\n",
    "        new_type = input()\n",
    "        if new_type.lower() == new:\n",
    "            print(\"PASS\")\n",
    "            break\n",
    "            \n",
    "time_new = time.time()\n",
    "time_taken = time_new - time_now\n",
    "print(\"take taken:\", round(time_taken,2))\n",
    "            "
   ]
  },
  {
   "cell_type": "code",
   "execution_count": 7,
   "metadata": {},
   "outputs": [
    {
     "name": "stdout",
     "output_type": "stream",
     "text": [
      "[1, 3, 4]\n"
     ]
    }
   ],
   "source": [
    "a = [1,3,4]\n",
    "reversed(a) #doesn't change\n",
    "print(a)"
   ]
  },
  {
   "cell_type": "code",
   "execution_count": null,
   "metadata": {},
   "outputs": [],
   "source": [
    "# practicing removing + while\n",
    "\n",
    "list_test = [1,2,1,2]\n",
    "value = 2\n",
    "\n",
    "while value in list_test:\n",
    "    list_test.remove"
   ]
  },
  {
   "cell_type": "markdown",
   "metadata": {},
   "source": [
    "# chapter 7"
   ]
  },
  {
   "cell_type": "code",
   "execution_count": null,
   "metadata": {},
   "outputs": [],
   "source": [
    "# stack -> push : .append(val), pop: .pop()\n",
    "# queue -> push : append(val), pop: .pop(0)"
   ]
  }
 ],
 "metadata": {
  "kernelspec": {
   "display_name": "Python 3",
   "language": "python",
   "name": "python3"
  },
  "language_info": {
   "codemirror_mode": {
    "name": "ipython",
    "version": 3
   },
   "file_extension": ".py",
   "mimetype": "text/x-python",
   "name": "python",
   "nbconvert_exporter": "python",
   "pygments_lexer": "ipython3",
   "version": "3.7.6"
  }
 },
 "nbformat": 4,
 "nbformat_minor": 4
}
