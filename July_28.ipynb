{
 "cells": [
  {
   "cell_type": "markdown",
   "metadata": {},
   "source": [
    "# chapter 10"
   ]
  },
  {
   "cell_type": "code",
   "execution_count": 8,
   "metadata": {},
   "outputs": [
    {
     "name": "stdout",
     "output_type": "stream",
     "text": [
      "soyoung destructor called.\n",
      "Simon destructor called.\n",
      "soyoung\t182\t91.0\n",
      "Simon\t189\t94.5\n"
     ]
    }
   ],
   "source": [
    "# Object Oriented Programming, OOP\n",
    "# object has attribute(variable) and action(method) -> instances are created\n",
    "#capsule -> only the interface out \n",
    "\n",
    "class Student:\n",
    "    #constructor\n",
    "    def __init__(self,name,korean,math): #self {} always has to be includded\n",
    "        self.name = name\n",
    "        self.korean = korean\n",
    "        self.math = math\n",
    "        \n",
    "    def __del__(self):\n",
    "        print(\"{} destructor called.\".format(self.name))\n",
    "    \n",
    "    #member function, instance function (method)\n",
    "    def get_sum(self):\n",
    "        return self.korean + self.math\n",
    "    def get_avg(self):\n",
    "        return self.get_sum() / 2\n",
    "    def to_string(self):\n",
    "        return \"{}\\t{}\\t{}\".format(\\\n",
    "                                   self.name,\\\n",
    "                                  self.get_sum(),\\\n",
    "                                  self.get_avg())\n",
    "\n",
    "students = [\n",
    "    Student(\"soyoung\",95,87),\n",
    "    Student(\"Simon\",89,100)\n",
    "]\n",
    "\n",
    "for student in students:\n",
    "    print(student.to_string())"
   ]
  },
  {
   "cell_type": "code",
   "execution_count": 12,
   "metadata": {},
   "outputs": [
    {
     "name": "stdout",
     "output_type": "stream",
     "text": [
      "the block came from Seoul\n"
     ]
    }
   ],
   "source": [
    "class BlockFactory:\n",
    "    def __init__(self,company): #self has to be included to be used for instance\n",
    "        self.company = company\n",
    "block = BlockFactory(\"Seoul\")\n",
    "\n",
    "print(\"the block came from\", block.company)"
   ]
  },
  {
   "cell_type": "code",
   "execution_count": 15,
   "metadata": {},
   "outputs": [
    {
     "name": "stdout",
     "output_type": "stream",
     "text": [
      "current number : 10\n",
      "change the back number from 10 to 5\n",
      "current number : 5\n",
      "Hello My name is Soyoung, I play MF.\n"
     ]
    }
   ],
   "source": [
    "# __str__(), __init__() -> special keyword\n",
    "\n",
    "class SoccerPlayer(object): #object class is inherited\n",
    "    def __init__(self, name, position, back_number):\n",
    "        self.name = name \n",
    "        self.position = position\n",
    "        self.back_number = back_number\n",
    "        \n",
    "    def change_number(self, new_number):\n",
    "        print(\"change the back number from {} to {}\".format(self.back_number, \\\n",
    "                                                          new_number))\n",
    "        self.back_number = new_number\n",
    "    def __str__(self):\n",
    "        return \"Hello My name is {}, I play {}.\".format(self.name,self.position)\n",
    "    \n",
    "soyoung = SoccerPlayer(\"Soyoung\",\"MF\",10)\n",
    "\n",
    "print(\"current number :\",soyoung.back_number)\n",
    "soyoung.change_number(5)\n",
    "print(\"current number :\",soyoung.back_number)\n",
    "print(soyoung) # when __str__ is defined, we can print this instance"
   ]
  },
  {
   "cell_type": "code",
   "execution_count": 16,
   "metadata": {},
   "outputs": [
    {
     "name": "stdout",
     "output_type": "stream",
     "text": [
      "company: Gole\tcolor: blue\tshape: Oxford\n",
      "company: Gole\tcolor: black\tshape: red\n",
      "company: Oxford\tcolor: red\tshape: big\n"
     ]
    }
   ],
   "source": [
    "class Factory:\n",
    "    def __init__(self,company,color,shape):\n",
    "        self.company = company\n",
    "        self.color = color\n",
    "        self.shape = shape\n",
    "company_list = ['Gole','Gole','Oxford']\n",
    "color_list = ['blue','black','red']\n",
    "shape_list = ['Oxford','red','big']\n",
    "\n",
    "block_objects = [Factory(company,color,shape) for company,color,shape in \\\n",
    "                zip(company_list,color_list,shape_list)]\n",
    "\n",
    "for obj in block_objects:\n",
    "    print(\"company: {}\\tcolor: {}\\tshape: {}\".format(obj.company, obj.color, \\\n",
    "                                                    obj.shape))"
   ]
  },
  {
   "cell_type": "code",
   "execution_count": 17,
   "metadata": {},
   "outputs": [],
   "source": [
    "# Lab 1 - calculator"
   ]
  },
  {
   "cell_type": "code",
   "execution_count": 18,
   "metadata": {},
   "outputs": [],
   "source": [
    "# Lab 2 - counter"
   ]
  },
  {
   "cell_type": "code",
   "execution_count": 19,
   "metadata": {},
   "outputs": [],
   "source": [
    "# Lab 3 - Bank"
   ]
  },
  {
   "cell_type": "code",
   "execution_count": 20,
   "metadata": {},
   "outputs": [
    {
     "name": "stdout",
     "output_type": "stream",
     "text": [
      "0 \t 0\n",
      "1 \t 1\n",
      "2 \t 4\n",
      "3 \t 9\n",
      "4 \t 16\n",
      "my_rec.side = 5\n",
      "count = 5\n"
     ]
    }
   ],
   "source": [
    "#function can change the attributes of the object\n",
    "class Rectangle:\n",
    "    def __init__(self, side=0):\n",
    "        self.side = side\n",
    "    def get_area(self):\n",
    "        return self.side*self.side\n",
    "    \n",
    "def print_area(r,n):\n",
    "    while n >= 1:\n",
    "        print(r.side, \"\\t\", r.get_area())\n",
    "        r.side = r.side + 1\n",
    "        n = n-1\n",
    "        \n",
    "my_rec = Rectangle()\n",
    "count = 5\n",
    "print_area(my_rec,count)\n",
    "print(\"my_rec.side =\",my_rec.side)\n",
    "print(\"count =\",count)"
   ]
  },
  {
   "cell_type": "code",
   "execution_count": 21,
   "metadata": {},
   "outputs": [
    {
     "name": "stdout",
     "output_type": "stream",
     "text": [
      "1\n",
      "2\n"
     ]
    }
   ],
   "source": [
    "#정적 변수  - shared by every objects.\n",
    "class Television:\n",
    "    serial_number = 0\n",
    "    def __init__(self):\n",
    "        Television.serial_number += 1\n",
    "        self.number = Television.serial_number\n",
    "te1 = Television()\n",
    "te2 = Television()\n",
    "\n",
    "print(te1.number)\n",
    "print(te2.number)"
   ]
  },
  {
   "cell_type": "code",
   "execution_count": 23,
   "metadata": {},
   "outputs": [
    {
     "name": "stdout",
     "output_type": "stream",
     "text": [
      "they are the same.\n"
     ]
    }
   ],
   "source": [
    "#special method -> related to operation\n",
    "class Circle:\n",
    "    def __init__(self,radius):\n",
    "        self.radius = radius\n",
    "    def __eq__(self, other):\n",
    "        return self.radius == other.radius\n",
    "c1 = Circle(10)\n",
    "c2 = Circle(10)\n",
    "if c1 == c2:\n",
    "    print(\"they are the same.\")"
   ]
  },
  {
   "cell_type": "code",
   "execution_count": 25,
   "metadata": {},
   "outputs": [
    {
     "name": "stdout",
     "output_type": "stream",
     "text": [
      "1 1\n"
     ]
    }
   ],
   "source": [
    "class Vector2D:\n",
    "    def __init__(self,x,y):\n",
    "        self.x = x\n",
    "        self.y = y\n",
    "    def __add__(self,other):\n",
    "        return Vector2D(self.x + other.x, self.y + other.y)\n",
    "    def __str__(self):\n",
    "        return \"{} {}\".format(self.x,self.y)\n",
    "u = Vector2D(0,1)\n",
    "v = Vector2D(1,0)\n",
    "\n",
    "a = u + v\n",
    "print(a)"
   ]
  },
  {
   "cell_type": "code",
   "execution_count": null,
   "metadata": {},
   "outputs": [],
   "source": [
    "# Lab - notebook program"
   ]
  },
  {
   "cell_type": "code",
   "execution_count": 5,
   "metadata": {},
   "outputs": [
    {
     "name": "stdout",
     "output_type": "stream",
     "text": [
      "soyoung\n"
     ]
    }
   ],
   "source": [
    "# class Person(object): => base object, every variable is actually an object\n",
    "class PersonClass(object):\n",
    "    def __init__(self,name,age):\n",
    "        self.name = name\n",
    "        self.age = age\n",
    "        \n",
    "class Korean(PersonClass):\n",
    "    pass\n",
    "\n",
    "\n",
    "first_korean = Korean('soyoung',26)\n",
    "print(first_korean.name)\n"
   ]
  },
  {
   "cell_type": "code",
   "execution_count": null,
   "metadata": {},
   "outputs": [],
   "source": [
    "#pg 62"
   ]
  }
 ],
 "metadata": {
  "kernelspec": {
   "display_name": "Python 3",
   "language": "python",
   "name": "python3"
  },
  "language_info": {
   "codemirror_mode": {
    "name": "ipython",
    "version": 3
   },
   "file_extension": ".py",
   "mimetype": "text/x-python",
   "name": "python",
   "nbconvert_exporter": "python",
   "pygments_lexer": "ipython3",
   "version": "3.7.4"
  }
 },
 "nbformat": 4,
 "nbformat_minor": 2
}
