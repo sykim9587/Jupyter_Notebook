{
 "cells": [
  {
   "cell_type": "code",
   "execution_count": 3,
   "metadata": {},
   "outputs": [
    {
     "name": "stdout",
     "output_type": "stream",
     "text": [
      "Changing F to C\n",
      "Type in temperature in C\n",
      "100\n",
      "Celsius:  100\n",
      "Fahrenheit:  212.0\n"
     ]
    }
   ],
   "source": [
    "print(\"Changing F to C\")\n",
    "print(\"Type in temperature in C\")\n",
    "celsius = input()\n",
    "fah = (float(celsius)*1.8) + 32\n",
    "\n",
    "print(\"Celsius: \",celsius)\n",
    "print(\"Fahrenheit: \", fah)"
   ]
  },
  {
   "cell_type": "code",
   "execution_count": 12,
   "metadata": {},
   "outputs": [
    {
     "name": "stdout",
     "output_type": "stream",
     "text": [
      "The price of the product: 750\n",
      "1000 won : 1\n",
      "500 won : 0\n",
      "100 won: 0\n",
      "500 won:  0 ,100 won:  2 ,10 won:  5 ,1 won:  0\n"
     ]
    }
   ],
   "source": [
    "price = int(input(\"The price of the product: \"))\n",
    "thousand = input(\"1000 won : \")\n",
    "five_Hun = input(\"500 won : \")\n",
    "hundred = input(\"100 won: \")\n",
    "\n",
    "money = int(thousand) * 1000 + int(five_Hun) * 500 + int(hundred)* 100\n",
    "money -= price\n",
    "\n",
    "print(\"500 won: \", money//500,end=\" \" )\n",
    "money %= 500\n",
    "print(\",100 won: \", money//100,end=\" \" )\n",
    "money %= 100\n",
    "print(\",10 won: \", money//10,end=\" \" )\n",
    "money %= 10\n",
    "print(\",1 won: \", money)\n"
   ]
  },
  {
   "cell_type": "code",
   "execution_count": 4,
   "metadata": {},
   "outputs": [
    {
     "name": "stdout",
     "output_type": "stream",
     "text": [
      "Name :python\n",
      "Koeanr:95\n",
      "Math:98\n",
      "Social:84\n",
      "Science:90\n",
      "English:79\n",
      "python  grade is \n",
      "Sum is  446 Average is  89.2\n"
     ]
    }
   ],
   "source": [
    "name = input(\"Name :\")\n",
    "korean = int(input(\"Koeanr:\"))\n",
    "math = int(input(\"Math:\"))\n",
    "social = int(input(\"Social:\"))\n",
    "science = int(input(\"Science:\"))\n",
    "english = int(input(\"English:\"))\n",
    "                    \n",
    "Sum = korean+ math+ social + science+ english\n",
    "avg = (float(Sum))/5.0\n",
    "print(name, \" grade is \")\n",
    "print(\"Sum is \", Sum, \"Average is \", avg)"
   ]
  },
  {
   "cell_type": "code",
   "execution_count": 2,
   "metadata": {},
   "outputs": [
    {
     "name": "stdout",
     "output_type": "stream",
     "text": [
      "Type in three names : tim,jane,kate\n",
      "tim happy new year\n",
      "jane happy new year\n",
      "kate happy new year\n"
     ]
    }
   ],
   "source": [
    "name1, name2, name3 = input(\"Type in three names : \").split(\",\")\n",
    "print(name1, \"happy new year\")\n",
    "print(name2, \"happy new year\")\n",
    "print(name3, \"happy new year\")"
   ]
  },
  {
   "cell_type": "code",
   "execution_count": 1,
   "metadata": {},
   "outputs": [
    {
     "name": "stdout",
     "output_type": "stream",
     "text": [
      "Solving ax^2 + bx + c\n",
      "Value a: 3\n",
      "Value b: 4\n",
      "Value c: 1\n",
      "The solution :\n",
      "-4 ± 2.0\n",
      "-----------\n",
      "     6\n"
     ]
    }
   ],
   "source": [
    "print(\"Solving ax^2 + bx + c\")\n",
    "a = int(input(\"Value a: \"))\n",
    "b = int(input(\"Value b: \"))\n",
    "c = int(input(\"Value c: \"))\n",
    "print(\"The solution :\")\n",
    "val1 = -b\n",
    "val2 = (b**2 - 4*a*c)**0.5\n",
    "val3 = 2*a\n",
    "print(val1, \"±\", val2)\n",
    "print(\"-----------\")\n",
    "print(\"    \",val3)"
   ]
  },
  {
   "cell_type": "code",
   "execution_count": 4,
   "metadata": {},
   "outputs": [
    {
     "name": "stdout",
     "output_type": "stream",
     "text": [
      "1995 8 7 8 7 30\n",
      "1995-8-7\tT8:7:30\n"
     ]
    }
   ],
   "source": [
    "year, month, day, hour, minute, second = input().split()\n",
    "print(year, month, day, sep='-', end='\\tT')\n",
    "print(hour, minute, second, sep=':')"
   ]
  },
  {
   "cell_type": "code",
   "execution_count": 5,
   "metadata": {},
   "outputs": [
    {
     "name": "stdout",
     "output_type": "stream",
     "text": [
      "first word: Original\n",
      "second word: Sound\n",
      "third word: Track\n",
      "OST\n"
     ]
    }
   ],
   "source": [
    "word1 = input(\"first word: \")\n",
    "word2 = input(\"second word: \")\n",
    "word3 = input(\"third word: \")\n",
    "\n",
    "acronym = word1[0]+word2[0]+word3[0]\n",
    "print(acronym)"
   ]
  },
  {
   "cell_type": "code",
   "execution_count": 10,
   "metadata": {},
   "outputs": [
    {
     "data": {
      "text/plain": [
       "[1, 2, 3]"
      ]
     },
     "execution_count": 10,
     "metadata": {},
     "output_type": "execute_result"
    }
   ],
   "source": [
    "a = list([1,2,3]) #at most one argument \n",
    "a[:5] #a[5] is an error, but a[:5] is okay"
   ]
  },
  {
   "cell_type": "code",
   "execution_count": 13,
   "metadata": {},
   "outputs": [
    {
     "name": "stdout",
     "output_type": "stream",
     "text": [
      "['A', 'B', 'b', 'C']\n",
      "['A', ['F', 'H'], 'b', 'C']\n"
     ]
    }
   ],
   "source": [
    "a = [\"A\", \"B\", \"C\"]\n",
    "a[1:2] = [\"B\",\"b\"] #if it's range then it goes in like that\n",
    "print(a)\n",
    "a[1] = [\"F\",\"H\"] #if it's one element, it goes in like a list \n",
    "print(a)"
   ]
  },
  {
   "cell_type": "code",
   "execution_count": 17,
   "metadata": {},
   "outputs": [
    {
     "name": "stdout",
     "output_type": "stream",
     "text": [
      "[0, 1, 2, 3, 4, 5, 6, 7, 8, 9, 10, 11, 12, 13, 14, 15, 16, 17, 18, 19]\n",
      "[0, 2, 4, 6, 8, 10, 12, 14, 16, 18]\n"
     ]
    }
   ],
   "source": [
    "# range(0,10) can't be used seperately\n",
    "# always with list()\n",
    "\n",
    "new_list = list(range(0,10))+list(range(10,20))\n",
    "print(new_list)\n",
    "print(new_list[::2])"
   ]
  },
  {
   "cell_type": "code",
   "execution_count": 22,
   "metadata": {},
   "outputs": [
    {
     "name": "stdout",
     "output_type": "stream",
     "text": [
      "'안녀하세요'라고 말했습니다.\n",
      "\n",
      "hello\n",
      "how\n",
      "are\n",
      "you\n"
     ]
    }
   ],
   "source": [
    "print(\"'안녀하세요'라고 말했습니다.\") #can use ' or \" or \\' or \\\"\n",
    "print(\"\"\"\\ \n",
    "hello\n",
    "how\n",
    "are\n",
    "you\"\"\") #using three \", to show that the first new line is not right \\"
   ]
  },
  {
   "cell_type": "code",
   "execution_count": 30,
   "metadata": {},
   "outputs": [
    {
     "name": "stdout",
     "output_type": "stream",
     "text": [
      "1\n",
      "2\n",
      "[30, 20, 30, 20, 10]\n",
      "[30, 30, 20, 20, 10]\n",
      "[10, 20, 20, 30, 30]\n",
      "[]\n"
     ]
    }
   ],
   "source": [
    "#append ('one element')=> length only increase by one\n",
    "#extend([list!!]) => length increase by length of the list\n",
    "#insert (can choose the location)\n",
    "#remove('element')\n",
    "\n",
    "a=[10,20,30,20,30]\n",
    "print(a.index(20)) #returns the first one found\n",
    "print(a.count(20)) \n",
    "a.reverse()\n",
    "print(a)\n",
    "a.sort(reverse=True) #reverse = True : 내림차순, reverse = False 오름차순(default)\n",
    "print(a)\n",
    "a.sort(reverse=False)\n",
    "print(a)\n",
    "a.clear() #del a[:] is the same\n",
    "print(a)"
   ]
  },
  {
   "cell_type": "code",
   "execution_count": 34,
   "metadata": {
    "scrolled": false
   },
   "outputs": [
    {
     "name": "stdout",
     "output_type": "stream",
     "text": [
      "53.23424\n",
      "0.005323424\n"
     ]
    }
   ],
   "source": [
    "print(0.5323424e2) # 10^2\n",
    "print(0.5323424e-2)"
   ]
  },
  {
   "cell_type": "code",
   "execution_count": 35,
   "metadata": {},
   "outputs": [
    {
     "data": {
      "text/plain": [
       "(1, 2, 3)"
      ]
     },
     "execution_count": 35,
     "metadata": {},
     "output_type": "execute_result"
    }
   ],
   "source": [
    "#unpacking should have same number of values\n",
    "t=[1,2,3]\n",
    "a,b,c = t\n",
    "a,b,c"
   ]
  },
  {
   "cell_type": "code",
   "execution_count": 36,
   "metadata": {},
   "outputs": [
    {
     "name": "stdout",
     "output_type": "stream",
     "text": [
      "False\n",
      "True\n",
      "True\n",
      "True\n"
     ]
    }
   ],
   "source": [
    "# List doesn't save the value, it saves the address!! \n",
    "\n",
    "a = 300\n",
    "b = 300\n",
    "print(a is b) #checking memory address -> not in pycharm though\n",
    "print(a==b) #checking value\n",
    "\n",
    "a=1\n",
    "b=1\n",
    "print(a is b) #in python, -5 ~ 256 they are saved in special places\n",
    "print(a==b)"
   ]
  },
  {
   "cell_type": "code",
   "execution_count": 37,
   "metadata": {},
   "outputs": [
    {
     "name": "stdout",
     "output_type": "stream",
     "text": [
      "[5, 4, 3, 2, 1]\n",
      "[1, 2, 3, 4, 5]\n"
     ]
    }
   ],
   "source": [
    "a = [5,4,3,2,1]\n",
    "b = [1,2,3,4,5]\n",
    "\n",
    "b=a #gets the same address (not really the pointer)\n",
    "\n",
    "print(b)\n",
    "a.sort()\n",
    "print(b)"
   ]
  },
  {
   "cell_type": "code",
   "execution_count": 42,
   "metadata": {},
   "outputs": [
    {
     "name": "stdout",
     "output_type": "stream",
     "text": [
      "[10, 20, 30, 40, 50]\n",
      "[10, 20, 99, 40, 50]\n",
      "[10, 20, 30, 40, 50]\n",
      "[50, 40, 30, 20, 10]\n",
      "[10, 20, 30, 40, 50]\n"
     ]
    }
   ],
   "source": [
    "scores = [10,20,30,40,50]\n",
    "values = list(scores)    #creating new list (not just the address)\n",
    "values[2] = 99\n",
    "print(scores)\n",
    "print(values)\n",
    "\n",
    "b=scores.copy() #coppied so it's not the same\n",
    "print(b)\n",
    "scores.sort(reverse=True)\n",
    "print(scores)\n",
    "print(b)"
   ]
  },
  {
   "cell_type": "code",
   "execution_count": 2,
   "metadata": {},
   "outputs": [
    {
     "name": "stdout",
     "output_type": "stream",
     "text": [
      "1 2 3 4 5 6 7 8 9 10\n",
      "['1', '2', '3', '4', '5']\n"
     ]
    }
   ],
   "source": [
    "## LAB 5\n",
    "x = list(input().split())\n",
    "\n",
    "print(x[:-5])"
   ]
  },
  {
   "cell_type": "code",
   "execution_count": 7,
   "metadata": {},
   "outputs": [
    {
     "name": "stdout",
     "output_type": "stream",
     "text": [
      "Current students:  ['James', 'Sam', 'Anna']\n",
      "Who is new? Sally\n",
      "['James', 'Sam', 'Anna', 'Sally']\n",
      "Sorting ...\n",
      "1 Anna\n",
      "2 James\n",
      "3 Sally\n",
      "4 Sam\n"
     ]
    }
   ],
   "source": [
    "list_a = ['James', 'Sam', 'Anna']\n",
    "print(\"Current students: \",list_a)\n",
    "new = input(\"Who is new? \")\n",
    "list_a.append(new)\n",
    "print(list_a)\n",
    "print(\"Sorting ...\")\n",
    "list_a.sort()\n",
    "for i in range(4):\n",
    "    print(i+1,list_a[i])"
   ]
  },
  {
   "cell_type": "code",
   "execution_count": 13,
   "metadata": {},
   "outputs": [
    {
     "name": "stdout",
     "output_type": "stream",
     "text": [
      "radius: 5\n",
      "\n",
      "radius: 5\n",
      "cir:  31.400000000000002\n",
      "area:  78.5\n"
     ]
    }
   ],
   "source": [
    "str_input = input(\"radius: \")\n",
    "num_input = int(str_input)\n",
    "\n",
    "print()\n",
    "print(\"radius:\", num_input)\n",
    "print(\"cir: \", 2*3.14*num_input)\n",
    "print(\"area: \", 3.14*(num_input**2))\n"
   ]
  },
  {
   "cell_type": "code",
   "execution_count": 14,
   "metadata": {},
   "outputs": [
    {
     "name": "stdout",
     "output_type": "stream",
     "text": [
      "first word: hello\n",
      "second word: wow\n",
      "hello wow\n",
      "wow hello\n"
     ]
    }
   ],
   "source": [
    "a = input(\"first word: \")\n",
    "b = input(\"second word: \")\n",
    "\n",
    "print(a,b)\n",
    "a,b = b,a\n",
    "print(a,b)"
   ]
  },
  {
   "cell_type": "markdown",
   "metadata": {},
   "source": [
    "## chapter 4"
   ]
  },
  {
   "cell_type": "code",
   "execution_count": 15,
   "metadata": {},
   "outputs": [
    {
     "data": {
      "text/plain": [
       "True"
      ]
     },
     "execution_count": 15,
     "metadata": {},
     "output_type": "execute_result"
    }
   ],
   "source": [
    "(3>5)<10"
   ]
  },
  {
   "cell_type": "code",
   "execution_count": 18,
   "metadata": {},
   "outputs": [
    {
     "name": "stdout",
     "output_type": "stream",
     "text": [
      "Python\n",
      "False\n",
      "Python\n"
     ]
    }
   ],
   "source": [
    "#when it's compared with no logic value\n",
    "print(True and 'Python') #in pyton, and returns the later value\n",
    "\n",
    "\n",
    "\n",
    "#but 단락평가 일어나면 앞에만 보고 결정\n",
    "print(False and 'Python')\n",
    "\n",
    "#python is not zero so it's True\n",
    "print('Python' or True)"
   ]
  },
  {
   "cell_type": "code",
   "execution_count": 22,
   "metadata": {},
   "outputs": [
    {
     "name": "stdout",
     "output_type": "stream",
     "text": [
      "what is the weight?: 32\n",
      "Extra fee is 20,000\\\n",
      "Thank you\n"
     ]
    }
   ],
   "source": [
    "weight = int(input(\"what is the weight?: \"))\n",
    "if weight > 20:\n",
    "    print(\"Extra fee is 20,000\\\\\")\n",
    "else:\n",
    "    print(\"No extra fee\")\n",
    "print(\"Thank you\")\n"
   ]
  },
  {
   "cell_type": "code",
   "execution_count": 24,
   "metadata": {},
   "outputs": [
    {
     "name": "stdout",
     "output_type": "stream",
     "text": [
      "credits taken: 140\n",
      "average gpa: 3.5\n",
      "You can graduate\n"
     ]
    }
   ],
   "source": [
    "credits = float(input('credits taken: '))\n",
    "gpa = float(input('average gpa: '))\n",
    "if credits>=140 and gpa >=2.0:\n",
    "    print(\"You can graduate\")\n",
    "else:\n",
    "    print(\"You can't graduate\")"
   ]
  },
  {
   "cell_type": "code",
   "execution_count": 28,
   "metadata": {},
   "outputs": [
    {
     "name": "stdout",
     "output_type": "stream",
     "text": [
      "How old is your baby? 5\n",
      "파상풍 예방접종 대상자 입니다.\n",
      "폐렴구균 예방접종 대상자 입니다.\n"
     ]
    }
   ],
   "source": [
    "month = int(input(\"How old is your baby? \"))\n",
    "if month==0:\n",
    "    print(\"결핵 예방접종 대상자 입니다.\")\n",
    "    print(\"B형간염 예방접종 대상자 입니다.\")\n",
    "elif month==1:\n",
    "    print(\"B형간염 예방접종 대상자 입니다.\")\n",
    "elif month<15:\n",
    "    print(\"파상풍 예방접종 대상자 입니다.\")\n",
    "    print(\"폐렴구균 예방접종 대상자 입니다.\")\n",
    "else:\n",
    "    print(\"폐렴구균예방접종 대상자 입니다\")\n"
   ]
  },
  {
   "cell_type": "code",
   "execution_count": 30,
   "metadata": {},
   "outputs": [
    {
     "name": "stdout",
     "output_type": "stream",
     "text": [
      "type in the string: string\n",
      "ri\n"
     ]
    }
   ],
   "source": [
    "word = input(\"type in the string: \")\n",
    "val = len(word)//2\n",
    "if len(word)%2==0:\n",
    "    print(word[val-1:val+1])\n",
    "else:\n",
    "    print(word[val])"
   ]
  },
  {
   "cell_type": "code",
   "execution_count": 33,
   "metadata": {},
   "outputs": [
    {
     "name": "stdout",
     "output_type": "stream",
     "text": [
      "Korean score: 40\n",
      "English score: 43\n",
      "History score: 43\n",
      "Subject 1 score: 40\n",
      "Subject 2 score: 50\n",
      "Pass\n"
     ]
    }
   ],
   "source": [
    "kor = int(input(\"Korean score: \"))\n",
    "eng = int(input(\"English score: \"))\n",
    "his = int(input(\"History score: \"))\n",
    "sub1 = int(input(\"Subject 1 score: \"))\n",
    "sub2= int(input(\"Subject 2 score: \"))\n",
    "\n",
    "if kor>=40 and eng>=40 and his>=40 and sub1>=40 and sub2>=40:\n",
    "    print(\"Pass\")\n",
    "else:\n",
    "    print(\"Fail\")"
   ]
  },
  {
   "cell_type": "code",
   "execution_count": 36,
   "metadata": {},
   "outputs": [
    {
     "name": "stdout",
     "output_type": "stream",
     "text": [
      "10\n",
      "<class 'str'>\n",
      "1 string True\n"
     ]
    }
   ],
   "source": [
    "string_a = \"{}\".format(10)\n",
    "print(string_a)\n",
    "print(type(string_a))\n",
    "\n",
    "string_b = \"{} {} {}\".format(1,\"string\", True)\n",
    "print(string_b)\n",
    "\n",
    "#number of aruguments can be more (ignore later ones), but number of {} can't be more\n"
   ]
  },
  {
   "cell_type": "code",
   "execution_count": 41,
   "metadata": {},
   "outputs": [
    {
     "name": "stdout",
     "output_type": "stream",
     "text": [
      "-52\n",
      "+0052\n"
     ]
    }
   ],
   "source": [
    "output_f = \"{:+d}\".format(52)\n",
    "output_f = \"{:+d}\".format(-52)\n",
    "print(output_f)\n",
    "output = \"{:=+05}\".format(52)\n",
    "print(output)"
   ]
  },
  {
   "cell_type": "code",
   "execution_count": 45,
   "metadata": {},
   "outputs": [
    {
     "name": "stdout",
     "output_type": "stream",
     "text": [
      "cider 700\\ coke 800\\ water 1200\\\n",
      "insert money: 3000\n",
      "select 1.cider 2.coke 3.water :3\n",
      "waterout\n",
      "money left:  1800\n"
     ]
    }
   ],
   "source": [
    "print(\"cider 700\\\\ coke 800\\\\ water 1200\\\\\")\n",
    "money = int(input(\"insert money: \"))\n",
    "choice =int(input(\"select 1.cider 2.coke 3.water :\"))\n",
    "cider, coke, water = 700,800,1200\n",
    "if choice == 1:\n",
    "    if(money>=cider):\n",
    "        print(\"cider out\")\n",
    "        money-=cider\n",
    "    else:\n",
    "        print(\"can't get the drink\")\n",
    "elif choice ==2:\n",
    "    if(money>=coke):\n",
    "        print(\"coke out\")\n",
    "        money-=coke\n",
    "    else:\n",
    "        print(\"can't get the drink\")\n",
    "else:\n",
    "    if(money>=water):\n",
    "        print(\"waterout\")\n",
    "        money-=water\n",
    "    else:\n",
    "        print(\"can't get the drink\")\n",
    "print(\"money left: \",money)"
   ]
  },
  {
   "cell_type": "code",
   "execution_count": 54,
   "metadata": {},
   "outputs": [
    {
     "name": "stdout",
     "output_type": "stream",
     "text": [
      "가위 바위 보 중 하나를 선택하시오: 보\n",
      "사용자:  보 컴퓨터:  바위\n",
      "사용자 승리\n"
     ]
    }
   ],
   "source": [
    "import random as rd\n",
    "number = rd.randint(0,2) #0,1,2\n",
    "\n",
    "choice = input(\"가위 바위 보 중 하나를 선택하시오: \")\n",
    "\n",
    "if number == 0:\n",
    "    comp = \"가위\"\n",
    "elif number ==1:\n",
    "    comp = \"바위\"\n",
    "else:\n",
    "    comp = \"보\"\n",
    "\n",
    "print(\"사용자: \", choice, \"컴퓨터: \", comp)\n",
    "\n",
    "if choice == \"가위\":\n",
    "    if comp == \"가위\":\n",
    "        print(\"비겼음\")\n",
    "    elif comp == \"바위\":\n",
    "        print(\"컴퓨터 승리\")\n",
    "    else:\n",
    "        print(\"사용자 승리\")\n",
    "elif choice == \"바위\":\n",
    "    if comp == \"가위\":\n",
    "        print(\"사용자 승리\")\n",
    "    elif comp == \"바위\":\n",
    "        print(\"비겼음\")\n",
    "    else:\n",
    "        print(\"컴퓨터 승리\")\n",
    "else: #보\n",
    "    if comp == \"가위\":\n",
    "        print(\"컴퓨터 승리\")\n",
    "    elif comp == \"바위\":\n",
    "        print(\"사용자 승리\")\n",
    "    else:\n",
    "        print(\"비겼음\")"
   ]
  },
  {
   "cell_type": "code",
   "execution_count": 59,
   "metadata": {},
   "outputs": [
    {
     "name": "stdout",
     "output_type": "stream",
     "text": [
      "+0000000051.343\n",
      "HELLO PYTHON\n",
      "hello python\n",
      "Hello Python\n"
     ]
    }
   ],
   "source": [
    "output = \"{:+015.3f}\".format(51.342534234)\n",
    "print(output)\n",
    "\n",
    "a = \"Hello Python\"\n",
    "print(a.upper())\n",
    "print(a.lower())\n",
    "print(a)"
   ]
  },
  {
   "cell_type": "code",
   "execution_count": 62,
   "metadata": {
    "scrolled": false
   },
   "outputs": [
    {
     "name": "stdout",
     "output_type": "stream",
     "text": [
      "\n",
      "    hello\n",
      "let's see\n",
      "\n",
      "new part\n",
      "hello\n",
      "let's see\n"
     ]
    }
   ],
   "source": [
    "#strip() -> tab new_line space all delete\n",
    "input_a = \"\"\"\n",
    "    hello\n",
    "let's see\n",
    "\"\"\"\n",
    "\n",
    "print(input_a)\n",
    "print(\"new part\")\n",
    "print(input_a.strip())"
   ]
  },
  {
   "cell_type": "code",
   "execution_count": 67,
   "metadata": {
    "scrolled": false
   },
   "outputs": [
    {
     "name": "stdout",
     "output_type": "stream",
     "text": [
      "True\n",
      "False\n",
      "True\n",
      "False\n"
     ]
    }
   ],
   "source": [
    "#checking \n",
    "print(\"TraninA10\".isalnum())\n",
    "print(\"TraninA10\".isalpha())\n",
    "print(\"TraninA10\".isidentifier())\n",
    "print(\"TraninA10\".islower())"
   ]
  }
 ],
 "metadata": {
  "kernelspec": {
   "display_name": "Python 3",
   "language": "python",
   "name": "python3"
  },
  "language_info": {
   "codemirror_mode": {
    "name": "ipython",
    "version": 3
   },
   "file_extension": ".py",
   "mimetype": "text/x-python",
   "name": "python",
   "nbconvert_exporter": "python",
   "pygments_lexer": "ipython3",
   "version": "3.7.6"
  }
 },
 "nbformat": 4,
 "nbformat_minor": 4
}
