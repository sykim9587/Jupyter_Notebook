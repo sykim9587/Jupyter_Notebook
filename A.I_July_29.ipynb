{
 "cells": [
  {
   "cell_type": "code",
   "execution_count": 17,
   "metadata": {},
   "outputs": [
    {
     "name": "stdout",
     "output_type": "stream",
     "text": [
      "epochs 0, a = 27.84, b = 5.43\n",
      "epochs 100, a = 7.074, b = 50.51\n",
      "epochs 200, a = 4.096, b = 68.28\n",
      "epochs 300, a = 2.976, b = 74.97\n",
      "epochs 400, a = 2.554, b = 77.48\n",
      "epochs 500, a = 2.396, b = 78.43\n",
      "epochs 600, a = 2.336, b = 78.79\n",
      "epochs 700, a = 2.314, b = 78.92\n",
      "epochs 800, a = 2.305, b = 78.97\n",
      "epochs 900, a = 2.302, b = 78.99\n",
      "epochs 1000, a = 2.301, b = 79.0\n",
      "epochs 1100, a = 2.3, b = 79.0\n",
      "epochs 1200, a = 2.3, b = 79.0\n",
      "epochs 1300, a = 2.3, b = 79.0\n",
      "epochs 1400, a = 2.3, b = 79.0\n",
      "epochs 1500, a = 2.3, b = 79.0\n",
      "epochs 1600, a = 2.3, b = 79.0\n",
      "epochs 1700, a = 2.3, b = 79.0\n",
      "epochs 1800, a = 2.3, b = 79.0\n",
      "epochs 1900, a = 2.3, b = 79.0\n"
     ]
    },
    {
     "data": {
      "image/png": "[encoded data removed]",
      "text/plain": [
       "<Figure size 576x360 with 1 Axes>"
      ]
     },
     "metadata": {
      "needs_background": "light"
     },
     "output_type": "display_data"
    }
   ],
   "source": [
    "import numpy as np\n",
    "import matplotlib.pyplot as plt\n",
    "\n",
    "data = [[2,81],[4,93],[6,91],[8,97]]\n",
    "x = [i[0] for i in data]\n",
    "y = [i[1] for i in data]\n",
    "\n",
    "plt.figure(figsize = (8,5))\n",
    "#plt.scatter(x,y)\n",
    "#plt.show()\n",
    "\n",
    "x_data = np.array(x)\n",
    "y_data = np.array(y)\n",
    "\n",
    "a = 0\n",
    "b = 0\n",
    "\n",
    "lr = 0.03\n",
    "\n",
    "epochs = 2000\n",
    "\n",
    "for i in range(epochs):\n",
    "    y_hat = a*x_data + b\n",
    "    error = y_data - y_hat\n",
    "    a_diff = -(2/len(x_data))*sum(x_data*(error))\n",
    "    b_diff = -(2/len(x_data))*sum(error)\n",
    "    a = a-lr*a_diff\n",
    "    b = b-lr*b_diff\n",
    "    if i%100 == 0:\n",
    "        print(\"epochs {}, a = {:.04}, b = {:.04}\".format(i,a,b))\n",
    "\n",
    "y_pred = a * x_data + b\n",
    "plt.scatter(x,y)\n",
    "plt.plot([min(x_data),max(x_data)],[min(y_pred),max(y_pred)])\n",
    "plt.show()"
   ]
  },
  {
   "cell_type": "code",
   "execution_count": 26,
   "metadata": {},
   "outputs": [
    {
     "name": "stdout",
     "output_type": "stream",
     "text": [
      "epochs 0, a1 = 9.28, a2 = 4.225, b = 1.81\n",
      "epochs 100, a1 = 9.510956338814555, a2 = 5.027018426233063, b = 22.920461683319775\n",
      "epochs 200, a1 = 7.323827954174448, a2 = 4.294955072797541, b = 37.87505910521539\n",
      "epochs 300, a1 = 5.738057638619613, a2 = 3.7489166578034205, b = 48.75893324300328\n",
      "epochs 400, a1 = 4.584350585543426, a2 = 3.350664098008261, b = 56.68002177530537\n",
      "epochs 500, a1 = 3.7447296153415963, a2 = 3.0607682003770935, b = 62.44483929346368\n",
      "epochs 600, a1 = 3.1336711504844117, a2 = 2.8497839410132944, b = 66.64036322998972\n",
      "epochs 700, a1 = 2.6889545962769894, a2 = 2.6962334034508832, b = 69.69378527432397\n",
      "epochs 800, a1 = 2.3652984043790157, a2 = 2.5844822454588168, b = 71.91600741200855\n",
      "epochs 900, a1 = 2.129747621424263, a2 = 2.5031518900380703, b = 73.5332981622058\n",
      "epochs 1000, a1 = 1.9583182688188616, a2 = 2.443961213535207, b = 74.7103314237758\n",
      "epochs 1100, a1 = 1.8335552662491361, a2 = 2.400883371770125, b = 75.56695370933078\n",
      "epochs 1200, a1 = 1.7427551402855934, a2 = 2.369532142816184, b = 76.19038701752007\n",
      "epochs 1300, a1 = 1.676672546045373, a2 = 2.3467153182808396, b = 76.64410984999121\n",
      "epochs 1400, a1 = 1.6285788984300535, a2 = 2.330109669977832, b = 76.97432064559904\n",
      "epochs 1500, a1 = 1.5935772619546664, a2 = 2.3180243968875267, b = 77.21464174414744\n",
      "epochs 1600, a1 = 1.5681037406748124, a2 = 2.309228966380864, b = 77.38954284119116\n",
      "epochs 1700, a1 = 1.5495645993163287, a2 = 2.3028278203563186, b = 77.51683251293402\n",
      "epochs 1800, a1 = 1.5360721669771225, a2 = 2.2981691887638664, b = 77.60947150037474\n",
      "epochs 1900, a1 = 1.5262526328947152, a2 = 2.2947787258325425, b = 77.67689238281197\n",
      "epochs 2000, a1 = 1.5191061638836916, a2 = 2.2923112117867253, b = 77.72596001096926\n"
     ]
    }
   ],
   "source": [
    "import numpy as np\n",
    "import matplotlib.pyplot as plt\n",
    "import pandas as pd\n",
    "\n",
    "\n",
    "data = [[2,0,81],[4,4,93],[6,2,91],[8,3,97]]\n",
    "x1 = [i[0] for i in data]\n",
    "x2 = [i[1] for i in data]\n",
    "y = [i[2] for i in data]\n",
    "\n",
    "''' \n",
    "# doesn't work in jupyter notebook, but it works in pycharm\n",
    "ax = plt.axes(projection='3d')\n",
    "ax.set_xlabel(\"study_hours\")\n",
    "ax.set_ylabel(\"private_class\")\n",
    "ax.set_zlabel(\"score\")\n",
    "ax.dist = 11\n",
    "ax.scatter(x1,x2, y)\n",
    "plt.show()\n",
    "'''\n",
    "\n",
    "x1_data = np.array(x1)\n",
    "x2_data = np.array(x2)\n",
    "y_data = np.array(y)\n",
    "\n",
    "\n",
    "a1 = 0\n",
    "a2 = 0\n",
    "b = 0\n",
    "\n",
    "lr = 0.01\n",
    "\n",
    "epochs = 2001\n",
    "\n",
    "for i in range(epochs):\n",
    "    y_pred = a1*x1_data + a2*x2_data +b\n",
    "    error = y_data - y_pred\n",
    "    a1_diff = -(2/len(x1_data))*sum(x1_data*error)\n",
    "    a2_diff = -(2 / len(x2_data)) * sum(x2_data * error)\n",
    "    b_diff = -(2/ len(x1_data)) * sum(error)\n",
    "    a1 = a1 - lr*a1_diff\n",
    "    a2 = a2 - lr*a2_diff\n",
    "    b = b-lr*b_diff\n",
    "    if i%100 == 0:\n",
    "        print(\"epochs {}, a1 = {}, a2 = {}, b = {}\".format(i,a1,a2,b))"
   ]
  },
  {
   "cell_type": "markdown",
   "metadata": {},
   "source": [
    "# chap 19_ AI"
   ]
  },
  {
   "cell_type": "code",
   "execution_count": 43,
   "metadata": {},
   "outputs": [
    {
     "name": "stdout",
     "output_type": "stream",
     "text": [
      "[2, 4, 6, 8, 10, 12, 14] [0, 0, 0, 1, 1, 1, 1]\n",
      "epoch = 0, a = 0.2860409628939473, b = -0.0029039133710553225\n",
      "epoch = 1000, a = 1.4984505498747405, b = -9.944028882257157\n",
      "epoch = 2000, a = 1.9068044592233457, b = -12.951253713260089\n",
      "14 1\n"
     ]
    },
    {
     "data": {
      "image/png": "[encoded data removed]",
      "text/plain": [
       "<Figure size 432x288 with 1 Axes>"
      ]
     },
     "metadata": {
      "needs_background": "light"
     },
     "output_type": "display_data"
    }
   ],
   "source": [
    "import numpy as np\n",
    "import matplotlib.pyplot as plt\n",
    "\n",
    "data =[[2,0],[4,0],[6,0],[8,1],[10,1],[12,1],[14,1]]\n",
    "x_data = [i[0] for i in data]\n",
    "y_data = [i[1] for i in data]\n",
    "\n",
    "print(x_data,y_data)\n",
    "plt.scatter(x_data,y_data)\n",
    "a =0\n",
    "b = 0\n",
    "\n",
    "lr = 0.05\n",
    "\n",
    "def sigmoid(x):\n",
    "    return 1/(1+np.e**(-x))\n",
    "\n",
    "for i in range(2001):\n",
    "    for x_data, y_data in data:\n",
    "        a_diff = x_data*(sigmoid(a*x_data +b) - y_data)\n",
    "        b_diff = sigmoid(a*x_data+b)-y_data\n",
    "        a = a-lr*a_diff\n",
    "        b = b-lr*b_diff\n",
    "        \n",
    "    if i%1000 == 0:\n",
    "            print('epoch = {}, a = {}, b = {}'.format(i,a,b))\n",
    "            \n",
    "print(x_data,y_data)\n",
    "plt.xlim(0,15)\n",
    "plt.ylim(-0.1,1.1)\n",
    "x_range=(np.arange(0,15,0.1))\n",
    "plt.plot(x_range,np.array([sigmoid(a*x+b) for x in x_range]))\n",
    "#plt.scatter(x_data,y_data)\n",
    "plt.show()"
   ]
  },
  {
   "cell_type": "code",
   "execution_count": null,
   "metadata": {},
   "outputs": [],
   "source": []
  }
 ],
 "metadata": {
  "kernelspec": {
   "display_name": "Python 3",
   "language": "python",
   "name": "python3"
  },
  "language_info": {
   "codemirror_mode": {
    "name": "ipython",
    "version": 3
   },
   "file_extension": ".py",
   "mimetype": "text/x-python",
   "name": "python",
   "nbconvert_exporter": "python",
   "pygments_lexer": "ipython3",
   "version": "3.7.6"
  }
 },
 "nbformat": 4,
 "nbformat_minor": 4
}
