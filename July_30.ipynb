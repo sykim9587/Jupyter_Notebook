{
 "cells": [
  {
   "cell_type": "code",
   "execution_count": 5,
   "metadata": {},
   "outputs": [
    {
     "name": "stdout",
     "output_type": "stream",
     "text": [
      "division by zero\n",
      "Not divided by 0\n",
      "10.0\n",
      "5.0\n",
      "3.3333333333333335\n",
      "2.5\n",
      "2.0\n",
      "1.6666666666666667\n",
      "1.4285714285714286\n",
      "1.25\n",
      "1.1111111111111112\n"
     ]
    }
   ],
   "source": [
    "# try - except\n",
    "\n",
    "for i in range(10):\n",
    "    try:\n",
    "        print(10/i)\n",
    "    except ZeroDivisionError as e: #these are already defined!\n",
    "        print(e) #prints 'division by zero'!\n",
    "        print(\"Not divided by 0\")"
   ]
  },
  {
   "cell_type": "code",
   "execution_count": 7,
   "metadata": {},
   "outputs": [
    {
     "name": "stdout",
     "output_type": "stream",
     "text": [
      "division by zero\n",
      "10.0\n",
      "5.0\n",
      "3.3333333333333335\n",
      "2.5\n",
      "2.0\n",
      "1.6666666666666667\n",
      "1.4285714285714286\n",
      "1.25\n",
      "1.1111111111111112\n"
     ]
    }
   ],
   "source": [
    "# try - except - else(when there is no error)\n",
    "\n",
    "for i in range(10):\n",
    "    try:\n",
    "        result = 10/i\n",
    "    except ZeroDivisionError as e:\n",
    "        print(e)\n",
    "    else:\n",
    "        print(result)"
   ]
  },
  {
   "cell_type": "code",
   "execution_count": 11,
   "metadata": {},
   "outputs": [
    {
     "name": "stdout",
     "output_type": "stream",
     "text": [
      "10\n",
      "5\n",
      "3\n",
      "2\n",
      "2\n",
      "1\n",
      "1\n",
      "1\n",
      "1\n",
      "finished\n"
     ]
    }
   ],
   "source": [
    "# try - except - finally (when it's finished)\n",
    "\n",
    "try:\n",
    "    for i in range(1,10): # when it's range(0,10), it's finished straight\n",
    "        result = 10 //i\n",
    "        print(result)\n",
    "except ZeroDivisionError as e:\n",
    "    print(e)\n",
    "finally: # no matter how it's finished\n",
    "    print(\"finished\")"
   ]
  },
  {
   "cell_type": "code",
   "execution_count": 13,
   "metadata": {},
   "outputs": [
    {
     "name": "stdout",
     "output_type": "stream",
     "text": [
      "type in the integer10\n",
      "the changed number -  10\n",
      "type in the integerab\n"
     ]
    },
    {
     "ename": "ValueError",
     "evalue": "it's not a number",
     "output_type": "error",
     "traceback": [
      "\u001b[1;31m---------------------------------------------------------------------------\u001b[0m",
      "\u001b[1;31mValueError\u001b[0m                                Traceback (most recent call last)",
      "\u001b[1;32m<ipython-input-13-dac49699beda>\u001b[0m in \u001b[0;36m<module>\u001b[1;34m\u001b[0m\n\u001b[0;32m      4\u001b[0m     \u001b[1;32mfor\u001b[0m \u001b[0mdigit\u001b[0m \u001b[1;32min\u001b[0m \u001b[0mvalue\u001b[0m\u001b[1;33m:\u001b[0m\u001b[1;33m\u001b[0m\u001b[1;33m\u001b[0m\u001b[0m\n\u001b[0;32m      5\u001b[0m         \u001b[1;32mif\u001b[0m \u001b[0mdigit\u001b[0m \u001b[1;32mnot\u001b[0m \u001b[1;32min\u001b[0m \u001b[1;34m\"0123456789\"\u001b[0m\u001b[1;33m:\u001b[0m\u001b[1;33m\u001b[0m\u001b[1;33m\u001b[0m\u001b[0m\n\u001b[1;32m----> 6\u001b[1;33m             \u001b[1;32mraise\u001b[0m \u001b[0mValueError\u001b[0m\u001b[1;33m(\u001b[0m\u001b[1;34m\"it's not a number\"\u001b[0m\u001b[1;33m)\u001b[0m\u001b[1;33m\u001b[0m\u001b[1;33m\u001b[0m\u001b[0m\n\u001b[0m\u001b[0;32m      7\u001b[0m     \u001b[0mprint\u001b[0m\u001b[1;33m(\u001b[0m\u001b[1;34m\"the changed number - \"\u001b[0m\u001b[1;33m,\u001b[0m \u001b[0mint\u001b[0m\u001b[1;33m(\u001b[0m\u001b[0mvalue\u001b[0m\u001b[1;33m)\u001b[0m\u001b[1;33m)\u001b[0m\u001b[1;33m\u001b[0m\u001b[1;33m\u001b[0m\u001b[0m\n",
      "\u001b[1;31mValueError\u001b[0m: it's not a number"
     ]
    }
   ],
   "source": [
    "# raise -> when we need the exception (the user can choose the error message)\n",
    "while True:\n",
    "    value = input(\"type in the integer\")\n",
    "    for digit in value:\n",
    "        if digit not in \"0123456789\":\n",
    "            raise ValueError(\"it's not a number\")\n",
    "    print(\"the changed number - \", int(value))"
   ]
  },
  {
   "cell_type": "code",
   "execution_count": 14,
   "metadata": {},
   "outputs": [
    {
     "name": "stdout",
     "output_type": "stream",
     "text": [
      "0b1010\n"
     ]
    },
    {
     "ename": "AssertionError",
     "evalue": "",
     "output_type": "error",
     "traceback": [
      "\u001b[1;31m---------------------------------------------------------------------------\u001b[0m",
      "\u001b[1;31mAssertionError\u001b[0m                            Traceback (most recent call last)",
      "\u001b[1;32m<ipython-input-14-08a1ba08f9cb>\u001b[0m in \u001b[0;36m<module>\u001b[1;34m\u001b[0m\n\u001b[0;32m      4\u001b[0m \u001b[1;33m\u001b[0m\u001b[0m\n\u001b[0;32m      5\u001b[0m \u001b[0mprint\u001b[0m\u001b[1;33m(\u001b[0m\u001b[0mget_binary\u001b[0m\u001b[1;33m(\u001b[0m\u001b[1;36m10\u001b[0m\u001b[1;33m)\u001b[0m\u001b[1;33m)\u001b[0m\u001b[1;33m\u001b[0m\u001b[1;33m\u001b[0m\u001b[0m\n\u001b[1;32m----> 6\u001b[1;33m \u001b[0mprint\u001b[0m\u001b[1;33m(\u001b[0m\u001b[0mget_binary\u001b[0m\u001b[1;33m(\u001b[0m\u001b[1;34m\"10\"\u001b[0m\u001b[1;33m)\u001b[0m\u001b[1;33m)\u001b[0m\u001b[1;33m\u001b[0m\u001b[1;33m\u001b[0m\u001b[0m\n\u001b[0m",
      "\u001b[1;32m<ipython-input-14-08a1ba08f9cb>\u001b[0m in \u001b[0;36mget_binary\u001b[1;34m(decimal_num)\u001b[0m\n\u001b[0;32m      1\u001b[0m \u001b[1;32mdef\u001b[0m \u001b[0mget_binary\u001b[0m\u001b[1;33m(\u001b[0m\u001b[0mdecimal_num\u001b[0m\u001b[1;33m)\u001b[0m\u001b[1;33m:\u001b[0m\u001b[1;33m\u001b[0m\u001b[1;33m\u001b[0m\u001b[0m\n\u001b[1;32m----> 2\u001b[1;33m     \u001b[1;32massert\u001b[0m \u001b[0misinstance\u001b[0m\u001b[1;33m(\u001b[0m\u001b[0mdecimal_num\u001b[0m\u001b[1;33m,\u001b[0m\u001b[0mint\u001b[0m\u001b[1;33m)\u001b[0m\u001b[1;33m\u001b[0m\u001b[1;33m\u001b[0m\u001b[0m\n\u001b[0m\u001b[0;32m      3\u001b[0m     \u001b[1;32mreturn\u001b[0m \u001b[0mbin\u001b[0m\u001b[1;33m(\u001b[0m\u001b[0mdecimal_num\u001b[0m\u001b[1;33m)\u001b[0m\u001b[1;33m\u001b[0m\u001b[1;33m\u001b[0m\u001b[0m\n\u001b[0;32m      4\u001b[0m \u001b[1;33m\u001b[0m\u001b[0m\n\u001b[0;32m      5\u001b[0m \u001b[0mprint\u001b[0m\u001b[1;33m(\u001b[0m\u001b[0mget_binary\u001b[0m\u001b[1;33m(\u001b[0m\u001b[1;36m10\u001b[0m\u001b[1;33m)\u001b[0m\u001b[1;33m)\u001b[0m\u001b[1;33m\u001b[0m\u001b[1;33m\u001b[0m\u001b[0m\n",
      "\u001b[1;31mAssertionError\u001b[0m: "
     ]
    }
   ],
   "source": [
    "def get_binary(decimal_num):\n",
    "    assert isinstance(decimal_num,int) # checking a is int \n",
    "    return bin(decimal_num)\n",
    "\n",
    "print(get_binary(10))\n",
    "print(get_binary(\"10\"))"
   ]
  },
  {
   "cell_type": "code",
   "execution_count": 2,
   "metadata": {},
   "outputs": [
    {
     "name": "stdout",
     "output_type": "stream",
     "text": [
      "name of the person:h\n",
      "that name is not in the database\n",
      "name of the person:s\n",
      "that name is not in the database\n",
      "name of the person:soyoung\n",
      "1995/08/07\n",
      "name of the person:q\n",
      "that name is not in the database\n"
     ]
    }
   ],
   "source": [
    "# lab 1\n",
    "birth = {'soyoung':'1995/08/07'}\n",
    "a = \"\"\n",
    "\n",
    "while a != 'q':\n",
    "    a = input(\"name of the person:\")\n",
    "    try:\n",
    "        print(birth[a])\n",
    "    except KeyError:\n",
    "        print(\"that name is not in the database\")"
   ]
  },
  {
   "cell_type": "code",
   "execution_count": 19,
   "metadata": {},
   "outputs": [
    {
     "name": "stdout",
     "output_type": "stream",
     "text": [
      "0===Yesterday\n",
      "1===All my troubles seemed so far away\n",
      "2===Now it looks as though they're here to stay\n",
      "3===Oh, I believe in yesterday\n",
      "4===Suddenly\n",
      "5===I'm not half the man I used to be\n",
      "6===There's a shadow hangin' over me\n",
      "7===Oh, yesterday came suddenly\n",
      "8===Why she had to go, I don't know, she wouldn't say\n",
      "9===I said something wrong, now I long for yesterday\n",
      "10===Yesterday\n",
      "11===Love was such an easy game to play\n",
      "12===Now I need a place to hide away\n",
      "13===Oh, I believe in yesterday\n"
     ]
    }
   ],
   "source": [
    "# file read f=open(name,mode), read(),close()\n",
    "# with open() as my_file: -> when indent is done, open() finishes (no close()needed)\n",
    "# readlines -> read lines and put in a list\n",
    "# readline -> just one line!\n",
    "# string.replace(\"\\n\",\"\") -> getting rid of the new line\n",
    "\n",
    "with open(\"lyrics_yesterday.txt\",'r') as my_file:\n",
    "    i=0\n",
    "    while 1:\n",
    "        line = my_file.readline()\n",
    "        if not line:\n",
    "            break\n",
    "        print(str(i)+\"===\"+line.replace('\\n',\"\"))\n",
    "        i = i+1"
   ]
  },
  {
   "cell_type": "code",
   "execution_count": 22,
   "metadata": {},
   "outputs": [
    {
     "name": "stdout",
     "output_type": "stream",
     "text": [
      "*********number of letters: 422\n",
      "Yesterday\n",
      "All my troubles seemed so far away\n",
      "Now it looks as though they're here to stay\n",
      "Oh, I believe in yesterday\n",
      "Suddenly\n",
      "I'm not half the man I used to be\n",
      "There's a shadow hangin' over me\n",
      "Oh, yesterday came suddenly\n",
      "Why she had to go, I don't know, she wouldn't say\n",
      "I said something wrong, now I long for yesterday\n",
      "Yesterday\n",
      "Love was such an easy game to play\n",
      "Now I need a place to hide away\n",
      "Oh, I believe in yesterday\n",
      "*********number of words: 71\n",
      "['Yesterday\\nAll', 'my', 'troubles', 'seemed', 'so', 'far', 'away\\nNow', 'it', 'looks', 'as', 'though', \"they're\", 'here', 'to', 'stay\\nOh,', 'I', 'believe', 'in', \"yesterday\\nSuddenly\\nI'm\", 'not', 'half', 'the', 'man', 'I', 'used', 'to', \"be\\nThere's\", 'a', 'shadow', \"hangin'\", 'over', 'me\\nOh,', 'yesterday', 'came', 'suddenly\\nWhy', 'she', 'had', 'to', 'go,', 'I', \"don't\", 'know,', 'she', \"wouldn't\", 'say\\nI', 'said', 'something', 'wrong,', 'now', 'I', 'long', 'for', 'yesterday\\nYesterday\\nLove', 'was', 'such', 'an', 'easy', 'game', 'to', 'play\\nNow', 'I', 'need', 'a', 'place', 'to', 'hide', 'away\\nOh,', 'I', 'believe', 'in', 'yesterday']\n",
      "*********number of sentences: 14\n",
      "['Yesterday', 'All my troubles seemed so far away', \"Now it looks as though they're here to stay\", 'Oh, I believe in yesterday', 'Suddenly', \"I'm not half the man I used to be\", \"There's a shadow hangin' over me\", 'Oh, yesterday came suddenly', \"Why she had to go, I don't know, she wouldn't say\", 'I said something wrong, now I long for yesterday', 'Yesterday', 'Love was such an easy game to play', 'Now I need a place to hide away', 'Oh, I believe in yesterday']\n"
     ]
    }
   ],
   "source": [
    "with open(\"lyrics_yesterday.txt\",\"r\") as my_file:\n",
    "    contents = my_file.read()\n",
    "    word_list = contents.split(\" \")\n",
    "    line_list = contents.split(\"\\n\")\n",
    "    \n",
    "print(\"*********number of letters:\",len(contents))\n",
    "print(contents)\n",
    "print(\"*********number of words:\",len(word_list))\n",
    "print(word_list)\n",
    "print(\"*********number of sentences:\",len(line_list))\n",
    "print(line_list)"
   ]
  },
  {
   "cell_type": "code",
   "execution_count": 24,
   "metadata": {},
   "outputs": [],
   "source": [
    "# creating long file\n",
    "# whenever it is executed, it adds 10 lines to the log file. \n",
    "import os\n",
    "\n",
    "if not os.path.isdir(\"log\"): # if long directory donesn't excist\n",
    "    os.mkdir(\"log\")\n",
    "if not os.path.exists(\"log/count_log.txt\"):\n",
    "    f=open(\"log/count_log.txt\",'w',encoding = 'utf8')\n",
    "    f.write('기록이 시작된다.\\n')\n",
    "    f.close()\n",
    "\n",
    "with open(\"log/count_log.txt\",'a',encoding = 'utf8') as f:\n",
    "    import random, datetime\n",
    "    for i in range(1,11):\n",
    "        stamp = str(datetime.datetime.now())\n",
    "        value = random.random()*100000\n",
    "        log_line = stamp + '\\t' + str(value) + '값이 생성되었다.\\n'\n",
    "        f.write(log_line)"
   ]
  },
  {
   "cell_type": "code",
   "execution_count": 29,
   "metadata": {},
   "outputs": [
    {
     "name": "stdout",
     "output_type": "stream",
     "text": [
      "25\n"
     ]
    }
   ],
   "source": [
    "# pickle module (not used much)\n",
    "# most of the write and read is done with str, but with pickle is different\n",
    "# save the object and use binary format! can save list variables.\n",
    "\n",
    "class Multiply(object):\n",
    "    def __init__(self, multiplier):\n",
    "        self.multiplier = multiplier\n",
    "    def multiply(self,number):\n",
    "        return number * self.multiplier\n",
    "multiply = Multiply(5)\n",
    "multiply.multiply(10)\n",
    "\n",
    "import pickle\n",
    "\n",
    "# file is in binary form!\n",
    "\n",
    "f = open(\"multiply_object.pickle\",'wb')\n",
    "pickle.dump(multiply,f) #putting multiply object into f file\n",
    "f.close()\n",
    "\n",
    "f = open(\"multiply_object.pickle\",\"rb\")\n",
    "multiply_pickle = pickle.load(f) #load the object from f\n",
    "print(multiply_pickle.multiply(5))"
   ]
  },
  {
   "cell_type": "code",
   "execution_count": 32,
   "metadata": {},
   "outputs": [
    {
     "name": "stdout",
     "output_type": "stream",
     "text": [
      "type in the country:vietnam\n",
      "2\n",
      "type in the country:USA\n",
      "3\n",
      "type in the country:Hong Kong\n",
      "Hong Kong is not on the list. error log\n",
      "type in the country:q\n",
      "q is not on the list. error log\n"
     ]
    }
   ],
   "source": [
    "# lab 2 -> making the log error file\n",
    "country_list = ['korea','rusia','vietnam','USA','UK']\n",
    "\n",
    "ans = \"\"\n",
    "with open(\"country_error_log.txt\",'w') as f:\n",
    "    while ans != 'q':\n",
    "        ans = input(\"type in the country:\")\n",
    "        if ans not in country_list:\n",
    "            print(\"{} is not on the list. error log\".format(ans))\n",
    "            f.write(\"{} is not on the list. error log\\n\".format(ans))\n",
    "        else:\n",
    "            print(country_list.index(ans))\n",
    "        \n",
    "    "
   ]
  },
  {
   "cell_type": "code",
   "execution_count": 1,
   "metadata": {},
   "outputs": [
    {
     "name": "stdout",
     "output_type": "stream",
     "text": [
      "type in the country:korea\n",
      "0\n",
      "type in the country:vietnam\n",
      "2\n",
      "type in the country:Hl\n",
      "'Hl' is not in list hello\n",
      "2\n",
      "type in the country:q\n",
      "'q' is not in list hello\n",
      "2\n"
     ]
    }
   ],
   "source": [
    "country_list = ['korea','rusia','vietnam','USA','UK']\n",
    "\n",
    "ans = \"\"\n",
    "with open(\"country_error_log.txt\",'w') as f:\n",
    "    while ans != 'q':\n",
    "        ans = input(\"type in the country:\")\n",
    "        try:\n",
    "            k = country_list.index(ans)\n",
    "        except ValueError as e:\n",
    "            print(e,\"hello\") #prints 'ans' is not in list\n",
    "        print(k)\n",
    "\n",
    "        "
   ]
  },
  {
   "cell_type": "code",
   "execution_count": 43,
   "metadata": {},
   "outputs": [
    {
     "name": "stdout",
     "output_type": "stream",
     "text": [
      "total sum is 475\n",
      "average is 79\n"
     ]
    }
   ],
   "source": [
    "# lab 3 having the average and sum\n",
    "with open(\"score.txt\",\"r\") as f:\n",
    "    contents = f.read()\n",
    "    nums_list = contents.split(\"\\n\")\n",
    "    nums_list=list(map(int,nums_list))\n",
    "    print(\"total sum is {}\".format(sum(nums_list)))\n",
    "    print(\"average is {:.0f}\".format(sum(nums_list)/len(nums_list)))"
   ]
  },
  {
   "cell_type": "markdown",
   "metadata": {},
   "source": [
    "# chapter 13"
   ]
  },
  {
   "cell_type": "code",
   "execution_count": 6,
   "metadata": {
    "scrolled": true
   },
   "outputs": [
    {
     "name": "stdout",
     "output_type": "stream",
     "text": [
      "122\n",
      "Header: ['customerNumber', 'customerName', 'contactLastName', 'contactFirstName', 'phone', 'addressLine1', 'addressLine2', 'city', 'state', 'postalCode', 'country', 'salesRepEmployeeNumber', 'creditLimit\\n']\n",
      "Data 0 : ['103', 'Atelier graphique', 'Schmitt', 'Carine ', '40.32.2555', '\"54', ' rue Royale\"', 'NULL', 'Nantes', 'NULL', '44000', 'France', '1370', '21000\\n']\n",
      "Data 1 : ['112', 'Signal Gift Stores', 'King', 'Jean', '7025551838', '8489 Strong St.', 'NULL', 'Las Vegas', 'NV', '83030', 'USA', '1166', '71800\\n']\n",
      "Data 2 : ['114', '\"Australian Collectors', ' Co.\"', 'Ferguson', 'Peter', '03 9520 4555', '636 St Kilda Road', 'Level 3', 'Melbourne', 'Victoria', '3004', 'Australia', '1611', '117300\\n']\n",
      "Data 3 : ['119', 'La Rochelle Gifts', 'Labrune', 'Janine ', '40.67.8555', '\"67', ' rue des Cinquante Otages\"', 'NULL', 'Nantes', 'NULL', '44000', 'France', '1370', '118200\\n']\n",
      "Data 4 : ['121', 'Baane Mini Imports', 'Bergulfsen', 'Jonas ', '07-98 9555', 'Erling Skakkes gate 78', 'NULL', 'Stavern', 'NULL', '4110', 'Norway', '1504', '81700\\n']\n",
      "Data 5 : ['124', 'Mini Gifts Distributors Ltd.', 'Nelson', 'Susan', '4155551450', '5677 Strong St.', 'NULL', 'San Rafael', 'CA', '97562', 'USA', '1165', '210500\\n']\n",
      "Data 6 : ['125', 'Havel & Zbyszek Co', 'Piestrzeniewicz', 'Zbyszek ', '(26) 642-7555', 'ul. Filtrowa 68', 'NULL', 'Warszawa', 'NULL', '01-012', 'Poland', 'NULL', '0\\n']\n",
      "Data 7 : ['128', '\"Blauer See Auto', ' Co.\"', 'Keitel', 'Roland', '+49 69 66 90 2555', 'Lyonerstr. 34', 'NULL', 'Frankfurt', 'NULL', '60528', 'Germany', '1504', '59700\\n']\n",
      "Data 8 : ['129', 'Mini Wheels Co.', 'Murphy', 'Julie', '6505555787', '5557 North Pendale Street', 'NULL', 'San Francisco', 'CA', '94217', 'USA', '1165', '64600\\n']\n",
      "Data 9 : ['131', 'Land of Toys Inc.', 'Lee', 'Kwai', '2125557818', '897 Long Airport Avenue', 'NULL', 'NYC', 'NY', '10022', 'USA', '1323', '114900\\n']\n"
     ]
    }
   ],
   "source": [
    "# CSV -> comma seperated value , text file\n",
    "# when open in exel, it's in cells but in text file it is seperated by comma\n",
    "\n",
    "# Field, header (about the info)\n",
    "# row, tuple, instance (data section)\n",
    "\n",
    "#when we save exel file, we need to save it as .csv\n",
    "\n",
    "line_counter = 0\n",
    "data_header = []\n",
    "customer_list = []\n",
    "\n",
    "with open(\"Artificial_Intelligence/Data_set/customers.csv\") as customer_data:\n",
    "    while 1:\n",
    "        data = customer_data.readline()\n",
    "        if not data: break\n",
    "            \n",
    "        if line_counter == 0:\n",
    "            data_header = data.split(\",\")\n",
    "        else:\n",
    "            customer_list.append(data.split(\",\"))\n",
    "        line_counter += 1\n",
    "print(len(customer_list))\n",
    "print(\"Header:\",data_header)\n",
    "for i in range(0,10):\n",
    "    print(\"Data\",i,\":\",customer_list[i])\n",
    "\n",
    "        \n"
   ]
  },
  {
   "cell_type": "code",
   "execution_count": 11,
   "metadata": {},
   "outputs": [
    {
     "name": "stdout",
     "output_type": "stream",
     "text": [
      "34\n",
      "Header: ['customerNumber', 'customerName', 'contactLastName', 'contactFirstName', 'phone', 'addressLine1', 'addressLine2', 'city', 'state', 'postalCode', 'country', 'salesRepEmployeeNumber', 'creditLimit\\n']\n",
      "Data 0 : ['112', 'Signal Gift Stores', 'King', 'Jean', '7025551838', '8489 Strong St.', 'NULL', 'Las Vegas', 'NV', '83030', 'USA', '1166', '71800\\n']\n",
      "Data 1 : ['124', 'Mini Gifts Distributors Ltd.', 'Nelson', 'Susan', '4155551450', '5677 Strong St.', 'NULL', 'San Rafael', 'CA', '97562', 'USA', '1165', '210500\\n']\n",
      "Data 2 : ['129', 'Mini Wheels Co.', 'Murphy', 'Julie', '6505555787', '5557 North Pendale Street', 'NULL', 'San Francisco', 'CA', '94217', 'USA', '1165', '64600\\n']\n",
      "Data 3 : ['131', 'Land of Toys Inc.', 'Lee', 'Kwai', '2125557818', '897 Long Airport Avenue', 'NULL', 'NYC', 'NY', '10022', 'USA', '1323', '114900\\n']\n",
      "Data 4 : ['151', 'Muscle Machine Inc', 'Young', 'Jeff', '2125557413', '4092 Furth Circle', 'Suite 400', 'NYC', 'NY', '10022', 'USA', '1286', '138500\\n']\n",
      "Data 5 : ['157', 'Diecast Classics Inc.', 'Leong', 'Kelvin', '2155551555', '7586 Pompton St.', 'NULL', 'Allentown', 'PA', '70267', 'USA', '1216', '100600\\n']\n",
      "Data 6 : ['161', 'Technics Stores Inc.', 'Hashimoto', 'Juri', '6505556809', '9408 Furth Circle', 'NULL', 'Burlingame', 'CA', '94217', 'USA', '1165', '84600\\n']\n",
      "Data 7 : ['168', 'American Souvenirs Inc', 'Franco', 'Keith', '2035557845', '149 Spinnaker Dr.', 'Suite 101', 'New Haven', 'CT', '97823', 'USA', '1286', '0\\n']\n",
      "Data 8 : ['173', 'Cambridge Collectables Co.', 'Tseng', 'Jerry', '6175555555', '4658 Baden Av.', 'NULL', 'Cambridge', 'MA', '51247', 'USA', '1188', '43400\\n']\n",
      "Data 9 : ['175', 'Gift Depot Inc.', 'King', 'Julie', '2035552570', '25593 South Bay Ln.', 'NULL', 'Bridgewater', 'CT', '97562', 'USA', '1323', '84300\\n']\n",
      "34\n"
     ]
    }
   ],
   "source": [
    "line_counter = 0\n",
    "data_header = []\n",
    "employee = []\n",
    "customer_USA_only_list = []\n",
    "customer = None\n",
    "\n",
    "with open(\"Artificial_Intelligence/Data_set/customers.csv\",'r') as customer_data:\n",
    "    while 1:\n",
    "        data = customer_data.readline()\n",
    "        if not data: break\n",
    "            \n",
    "        if line_counter == 0:\n",
    "            data_header = data.split(\",\")\n",
    "        else:\n",
    "            customer = data.split(\",\")\n",
    "            \n",
    "            if customer[10].upper() == \"USA\":\n",
    "                customer_USA_only_list.append(customer)\n",
    "        line_counter += 1\n",
    "print(len(customer_USA_only_list))\n",
    "print(\"Header:\",data_header)\n",
    "for i in range(0,10):\n",
    "    print(\"Data\",i,\":\",customer_USA_only_list[i])\n",
    "print(len(customer_USA_only_list))\n",
    "\n",
    "with open(\"Artificial_Intelligence/Data_set/customers_USA_only.csv\",'w') as c_usa:\n",
    "    for customer in customer_USA_only_list:\n",
    "        c_usa.write(\",\".join(customer).strip('\\n')+'\\n')"
   ]
  },
  {
   "cell_type": "code",
   "execution_count": 17,
   "metadata": {},
   "outputs": [],
   "source": [
    "# using csv module, reader()\n",
    "# .find(u\"korean\") -> unicode\n",
    "\n",
    "import csv\n",
    "\n",
    "seong_nam_data = []\n",
    "header = []\n",
    "rownum = 0\n",
    "\n",
    "with open(\"Artificial_Intelligence/Data_set/korea_floating_population_data.csv\",\\\n",
    "         \"r\",encoding = \"cp949\") as p_file:\n",
    "    csv_data = csv.reader(p_file)\n",
    "    \n",
    "    for row in csv_data:\n",
    "        if rownum ==0:\n",
    "            header = row\n",
    "        location = row[7]\n",
    "        if location.find(u\"성남시\") != -1:\n",
    "            seong_nam_data.append(row)\n",
    "        \n",
    "        rownum += 1\n",
    "\n",
    "with open(\"Artificial_Intelligence/Data_set/seong_name_data.csv\",'w',encoding='utf8') \\\n",
    "    as s_p_file:\n",
    "    writer = csv.writer(s_p_file,delimiter='\\t',quotechar=\"+\",quoting =csv.QUOTE_ALL)\n",
    "    \n",
    "    writer.writerow(header)\n",
    "    for row in seong_nam_data:\n",
    "        writer.writerow(row)"
   ]
  },
  {
   "cell_type": "markdown",
   "metadata": {},
   "source": [
    "# chapter 5-3"
   ]
  },
  {
   "cell_type": "code",
   "execution_count": 26,
   "metadata": {
    "scrolled": true
   },
   "outputs": [
    {
     "name": "stdout",
     "output_type": "stream",
     "text": [
      "<class 'tuple'>\n"
     ]
    }
   ],
   "source": [
    "# tuple can't be changed\n",
    "list_a = [273]\n",
    "tuple_a = (273,) # comma has to be added -> used a lot in machine learning\n",
    "\n",
    "tuple_check = 10,20,30,40 # this is already a tuple!\n",
    "\n",
    "print(type(tuple_check))"
   ]
  },
  {
   "cell_type": "code",
   "execution_count": 12,
   "metadata": {},
   "outputs": [
    {
     "data": {
      "text/plain": [
       "(2, 17)"
      ]
     },
     "execution_count": 12,
     "metadata": {},
     "output_type": "execute_result"
    }
   ],
   "source": [
    "a,b = 97,40 # using tuple\n",
    "divmod(a,b)"
   ]
  },
  {
   "cell_type": "code",
   "execution_count": 21,
   "metadata": {},
   "outputs": [
    {
     "name": "stdout",
     "output_type": "stream",
     "text": [
      "[1, 2]\n",
      "[1, 2]\n"
     ]
    }
   ],
   "source": [
    "# filter function \n",
    "\n",
    "def under_3(item):\n",
    "    return item<3\n",
    "\n",
    "#or it could be a lambda function\n",
    "under_3_new = lambda x:x<3\n",
    "\n",
    "list_a = [1,2,3,4,5]\n",
    "\n",
    "output_b = filter(under_3_new,list_a) # filters and return only the True values\n",
    "print(list(output_b))\n",
    "\n",
    "# or a better way is\n",
    "print(list(filter(lambda x:x<3,list_a)))"
   ]
  },
  {
   "cell_type": "code",
   "execution_count": null,
   "metadata": {},
   "outputs": [],
   "source": []
  }
 ],
 "metadata": {
  "kernelspec": {
   "display_name": "Python 3",
   "language": "python",
   "name": "python3"
  },
  "language_info": {
   "codemirror_mode": {
    "name": "ipython",
    "version": 3
   },
   "file_extension": ".py",
   "mimetype": "text/x-python",
   "name": "python",
   "nbconvert_exporter": "python",
   "pygments_lexer": "ipython3",
   "version": "3.7.6"
  }
 },
 "nbformat": 4,
 "nbformat_minor": 4
}
