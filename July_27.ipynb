{
 "cells": [
  {
   "cell_type": "code",
   "execution_count": 2,
   "metadata": {},
   "outputs": [
    {
     "name": "stdout",
     "output_type": "stream",
     "text": [
      "<filter object at 0x000001F0D0033A88>\n",
      "[1, 5]\n"
     ]
    }
   ],
   "source": [
    "# i:j for i,j in enumerate(\"hello\").split()\n",
    "# when a,b is a list =? for ae,be in zip(a,b):\n",
    "\n",
    "#filter -> returns boolean\n",
    "\n",
    "def num(a):\n",
    "    return type(a)==int\n",
    "\n",
    "a = [1, 'a', 5, 9.99]\n",
    "print(filter(num,a))\n",
    "print(list(filter(num,a)))"
   ]
  },
  {
   "cell_type": "code",
   "execution_count": null,
   "metadata": {},
   "outputs": [],
   "source": [
    "# compile , eval function 알아보기"
   ]
  },
  {
   "cell_type": "code",
   "execution_count": 2,
   "metadata": {},
   "outputs": [
    {
     "name": "stdout",
     "output_type": "stream",
     "text": [
      "type in the equation:43+0.2\n",
      "43\n"
     ]
    }
   ],
   "source": [
    "#lab2\n",
    "\n",
    "def cal():\n",
    "    str_1 = input(\"type in the equation:\")\n",
    "    result = round(eval(str_1))\n",
    "    if result < 0:\n",
    "        result *= -1\n",
    "  \n",
    "    if result>=ord('A') and result<=ord('z'):\n",
    "        print(chr(result))\n",
    "    else:\n",
    "        print(str(result))\n",
    "cal()"
   ]
  },
  {
   "cell_type": "code",
   "execution_count": 3,
   "metadata": {},
   "outputs": [
    {
     "name": "stdout",
     "output_type": "stream",
     "text": [
      "if all ture: True\n",
      "len of the list: 5\n",
      "max of the list: b\n",
      "sorted:  ['1', '3', '5', 'A', 'b']\n",
      "indexed:  [(0, 1), (1, 3), (2, 5), (3, 'A'), (4, 'b')]\n",
      "[(0, 1), (1, 3), (2, 5), (3, 'A'), (4, 'b')]\n"
     ]
    }
   ],
   "source": [
    "def check(a): #checking with the ascii code\n",
    "    if type(a)==int:\n",
    "        return a\n",
    "    else:\n",
    "        return ord(a)\n",
    "\n",
    "def simul(a):\n",
    "    print(\"if all ture:\",all(a))\n",
    "    print(\"len of the list:\", len(a))\n",
    "    k = list(map(check,a))\n",
    "    \n",
    "    print(\"max of the list:\", a[k.index(max(k))])\n",
    "    j = list(map(str,a))\n",
    "    print(\"sorted: \",sorted(j))\n",
    "    print(\"indexed: \", [(i,j) for i,j in enumerate(a)])\n",
    "    print(list(enumerate(a)))\n",
    "simul([1,3,5,'A','b'])"
   ]
  },
  {
   "cell_type": "markdown",
   "metadata": {},
   "source": [
    "# chap 9"
   ]
  },
  {
   "cell_type": "code",
   "execution_count": 4,
   "metadata": {},
   "outputs": [
    {
     "name": "stdout",
     "output_type": "stream",
     "text": [
      "5\n"
     ]
    }
   ],
   "source": [
    "# lambda function \n",
    "\n",
    "f = lambda x,y: x+y \n",
    "\n",
    "print(f(1,4))"
   ]
  },
  {
   "cell_type": "code",
   "execution_count": 10,
   "metadata": {},
   "outputs": [
    {
     "name": "stdout",
     "output_type": "stream",
     "text": [
      "5.0\n",
      "x coor:3\n",
      "y coor:4\n",
      "5.0\n"
     ]
    }
   ],
   "source": [
    "# lab 1\n",
    "\n",
    "def distance(*a):\n",
    "    if len(a) is not 2:\n",
    "        x = int(input(\"x coor:\"))\n",
    "        y = int(input(\"y coor:\"))\n",
    "    else:\n",
    "        x = a[0]\n",
    "        y = a[1]\n",
    "    dis = (x**2 + y**2)**0.5\n",
    "    print(dis)\n",
    "\n",
    "distance(3,4)\n",
    "distance()"
   ]
  },
  {
   "cell_type": "code",
   "execution_count": 22,
   "metadata": {},
   "outputs": [
    {
     "name": "stdout",
     "output_type": "stream",
     "text": [
      "['A', 'B', 'C', 'D', 'E', 'F', 'G', 'H', 'I', 'J']\n",
      "Member name:soyoung\n",
      "name of the book:1\n",
      "name of the book:2\n",
      "name of the book:3\n",
      "name of the book:q\n",
      "Member name:kim\n",
      "name of the book:5\n",
      "name of the book:8\n",
      "name of the book:q\n",
      "Member name:q\n",
      "current list of borrowed books:\n",
      "{'soyoung': ['A', 'B', 'C'], 'kim': ['E', 'H']}\n"
     ]
    }
   ],
   "source": [
    "#from collections import defaultdict\n",
    "\n",
    "list_book = list(\"ABCDEFGHIJ\")\n",
    "print(list_book)\n",
    "list_mem = dict()\n",
    "\n",
    "while True:\n",
    "    mem_name = input(\"Member name:\")\n",
    "    if mem_name == 'q':\n",
    "        break\n",
    "    list_mem[mem_name]=[]\n",
    "    while True:\n",
    "        book = input(\"name of the book:\")\n",
    "        if book == 'q':\n",
    "            break\n",
    "        else:\n",
    "            book = int(book)\n",
    "        list_mem[mem_name].append(list_book[book-1])\n",
    "        \n",
    "\n",
    "print(\"current list of borrowed books:\")\n",
    "print(list_mem)"
   ]
  },
  {
   "cell_type": "code",
   "execution_count": 35,
   "metadata": {},
   "outputs": [
    {
     "name": "stdout",
     "output_type": "stream",
     "text": [
      "1 2 (3, 4, 5)\n"
     ]
    }
   ],
   "source": [
    "'''\n",
    "def f(*a,b,c): # X \n",
    "    pass\n",
    "f(1,2,3,4,5)\n",
    "\n",
    "'''\n",
    "def f(*a,b=2,c=3): #possible\n",
    "    pass\n",
    "f(1,2,3,4,5)\n",
    "\n",
    "def f(a,b,*c): #possible\n",
    "    pass\n",
    "f(1,2,3,4,5)\n",
    "\n",
    "\n",
    "def f(a = 10,b=2,*c):\n",
    "    print(a,b,c)\n",
    "f(1,2,3,4,5)\n"
   ]
  },
  {
   "cell_type": "code",
   "execution_count": 39,
   "metadata": {},
   "outputs": [
    {
     "name": "stdout",
     "output_type": "stream",
     "text": [
      "[1, 4, 9, 16, 25]\n",
      "[2, 4, 6, 8, 10]\n"
     ]
    },
    {
     "data": {
      "text/plain": [
       "[2, 4, 6, 8, 10]"
      ]
     },
     "execution_count": 39,
     "metadata": {},
     "output_type": "execute_result"
    }
   ],
   "source": [
    "# in pyton 3.x -> map() is now generator, so list(map(f,list)) is needed\n",
    "# better to use list comprehension \n",
    "\n",
    "ex = [1,2,3,4,5]\n",
    "print([x**2 for x in ex])\n",
    "\n",
    "f = lambda x,y:x+y\n",
    "print(list(map(f,ex,ex)))\n",
    "\n",
    "[x+y for x,y in zip(ex,ex)]"
   ]
  },
  {
   "cell_type": "code",
   "execution_count": 41,
   "metadata": {},
   "outputs": [
    {
     "name": "stdout",
     "output_type": "stream",
     "text": [
      "15\n"
     ]
    }
   ],
   "source": [
    "from functools import reduce\n",
    "print(reduce(lambda x,y: x+y,[1,2,3,4,5])) #choosing 1,2 -> then (1+2),3 -> in order"
   ]
  },
  {
   "cell_type": "code",
   "execution_count": 42,
   "metadata": {},
   "outputs": [
    {
     "name": "stdout",
     "output_type": "stream",
     "text": [
      "(1, 3, 5)\n",
      "<class 'tuple'>\n",
      "(2, 4, 6)\n",
      "<class 'tuple'>\n"
     ]
    }
   ],
   "source": [
    "for data in zip(*[[1,2],[3,4],[5,6]]): #unpacking first and then zip -> index \n",
    "    print(data)\n",
    "    print(type(data))"
   ]
  },
  {
   "cell_type": "code",
   "execution_count": 46,
   "metadata": {},
   "outputs": [
    {
     "name": "stdout",
     "output_type": "stream",
     "text": [
      "10 1 2 3\n"
     ]
    }
   ],
   "source": [
    "def ast_test(a,b,c,d): #values are used from dictionary\n",
    "    print(a,b,c,d)\n",
    "    \n",
    "data = {\"b\":1, \"c\":2, \"d\":3}\n",
    "ast_test(10,**data)"
   ]
  },
  {
   "cell_type": "code",
   "execution_count": 47,
   "metadata": {},
   "outputs": [
    {
     "data": {
      "text/plain": [
       "[7.5]"
      ]
     },
     "execution_count": 47,
     "metadata": {},
     "output_type": "execute_result"
    }
   ],
   "source": [
    "def vector_add(*args):\n",
    "    return [sum(t) for t in zip(*args)]\n",
    "\n",
    "row_vectors = [[2,2],[2,3],[3.5]]\n",
    "vector_add(*row_vectors)"
   ]
  },
  {
   "cell_type": "code",
   "execution_count": 50,
   "metadata": {},
   "outputs": [
    {
     "name": "stdout",
     "output_type": "stream",
     "text": [
      "[10, 12, 14]\n"
     ]
    }
   ],
   "source": [
    "u = [1,2,3]\n",
    "v = [4,4,4]\n",
    "alpha = 2\n",
    "result = [alpha *sum(t) for t in zip(u,v)]\n",
    "print(result)"
   ]
  },
  {
   "cell_type": "code",
   "execution_count": 52,
   "metadata": {},
   "outputs": [
    {
     "name": "stdout",
     "output_type": "stream",
     "text": [
      "[[8, 14], [10, 12]]\n"
     ]
    }
   ],
   "source": [
    "# matrix addtion\n",
    "\n",
    "mat_a = [[3,6],[4,5]]\n",
    "mat_b = [[5,8],[6,7]]\n",
    "\n",
    "result =[[sum(row) for row in zip(*t)] for t in zip(mat_a,mat_b)]\n",
    "\n",
    "print(result)"
   ]
  },
  {
   "cell_type": "code",
   "execution_count": 59,
   "metadata": {},
   "outputs": [
    {
     "name": "stdout",
     "output_type": "stream",
     "text": [
      "[True, False, True, False, True, False, True, False]\n",
      "[[True, True], [False, False], [True, True], [False, False]]\n"
     ]
    },
    {
     "data": {
      "text/plain": [
       "True"
      ]
     },
     "execution_count": 59,
     "metadata": {},
     "output_type": "execute_result"
    }
   ],
   "source": [
    "# matrix compare\n",
    "\n",
    "mat_a = [[1,1],[1,1]]\n",
    "mat_b = [[5,8],[6,7]]\n",
    "\n",
    "#get [[1,1],[5.8]] -> [1,5] -> compare 1 with (1 and 5) -> True,False\n",
    "print([row[0]==value for t in zip(mat_a,mat_b) for row in zip(*t) for value in row])\n",
    "all([row[0]==value for t in zip(mat_a,mat_b) for row in zip(*t) for value in row])\n",
    "\n",
    "mat_c = [[1,1],[1,1]]\n",
    "print([[row[0]==value for t in zip(mat_a,mat_c)] for row in zip(*t) for value in row])\n",
    "all([[row[0]==value for t in zip(mat_a,mat_c)] for row in zip(*t) for value in row])"
   ]
  },
  {
   "cell_type": "code",
   "execution_count": 61,
   "metadata": {},
   "outputs": [
    {
     "name": "stdout",
     "output_type": "stream",
     "text": [
      "[[1, 4], [2, 5], [3, 6]]\n"
     ]
    }
   ],
   "source": [
    "# transpose matrix\n",
    "\n",
    "mat_a = [[1,2,3],[4,5,6]]\n",
    "result = [[element for element in t] for t in zip(*mat_a)]\n",
    "print(result)"
   ]
  },
  {
   "cell_type": "code",
   "execution_count": 63,
   "metadata": {},
   "outputs": [
    {
     "name": "stdout",
     "output_type": "stream",
     "text": [
      "[[5, 8], [5, 6]]\n"
     ]
    }
   ],
   "source": [
    "#matrix multiplication\n",
    "\n",
    "mat_a = [[1,1,2],[2,1,1]]\n",
    "mat_b = [[1,1],[2,1],[1,3]]\n",
    "\n",
    "#for row_a in mat_a is the outer  for loop. \n",
    "\n",
    "result = [[sum(a*b for a,b in zip(row_a,col_b)) for col_b in zip(*mat_b)] \\\n",
    "          for row_a in mat_a]\n",
    "print(result)"
   ]
  },
  {
   "cell_type": "markdown",
   "metadata": {},
   "source": [
    "## Lab 3"
   ]
  },
  {
   "cell_type": "code",
   "execution_count": 82,
   "metadata": {},
   "outputs": [
    {
     "name": "stdout",
     "output_type": "stream",
     "text": [
      "Mike\n",
      "Justin\n",
      "Kim\n",
      "May\n",
      "Summer\n",
      "John\n",
      "\n",
      "Tom\n",
      "Jerry\n"
     ]
    }
   ],
   "source": [
    "# program that shows the friends -> mutual friends are also printed\n",
    "\n",
    "fr_info = {\n",
    "    'Summer':['John','Justin','Mike'],\n",
    "    'John':['Summer','Justin'],\n",
    "    'Justin':['John','Summer','Mike','May'],\n",
    "    'Mike':['Summer','Justin'],\n",
    "    'May':['Justin','Kim'],\n",
    "    'Kim':['May'],\n",
    "    'Tom':['Jerry'],\n",
    "    'Jerry':['Tom']\n",
    "    \n",
    "}\n",
    "\n",
    "def print_all_friends(fr_info,name):\n",
    "    qu = []\n",
    "    done = set()\n",
    "    qu.extend(fr_info[name])\n",
    "    done.update(fr_info[name])\n",
    "    while len(qu) != 0:\n",
    "        pop_name = qu.pop(0)\n",
    "        #print(pop_name)\n",
    "        for i in fr_info[pop_name]:\n",
    "            if i not in done:\n",
    "                qu.append(i)\n",
    "                done.add(i)\n",
    "    for i in done:\n",
    "        print(i)\n",
    "\n",
    "print_all_friends(fr_info,'Summer')\n",
    "print()\n",
    "print_all_friends(fr_info,'Jerry')\n"
   ]
  },
  {
   "cell_type": "code",
   "execution_count": 92,
   "metadata": {},
   "outputs": [
    {
     "name": "stdout",
     "output_type": "stream",
     "text": [
      "original: [[1, 2, 3], [4, [5, 6]], 7, [8, 9]]\n",
      "flattened: [1, 2, 3, 4, 5, 6, 7, 8, 9]\n"
     ]
    }
   ],
   "source": [
    "flat = []\n",
    "def flatten(data):\n",
    "\n",
    "    if type(data) == int:\n",
    "        flat.append(data)\n",
    "\n",
    "    else:\n",
    "        for i in data:\n",
    "            flatten(i)\n",
    "    return flat\n",
    "                \n",
    "\n",
    "example = [[1,2,3],[4,[5,6]],7,[8,9]]\n",
    "print(\"original:\",example)\n",
    "print(\"flattened:\",flatten(example))"
   ]
  },
  {
   "cell_type": "code",
   "execution_count": null,
   "metadata": {},
   "outputs": [],
   "source": []
  }
 ],
 "metadata": {
  "kernelspec": {
   "display_name": "Python 3",
   "language": "python",
   "name": "python3"
  },
  "language_info": {
   "codemirror_mode": {
    "name": "ipython",
    "version": 3
   },
   "file_extension": ".py",
   "mimetype": "text/x-python",
   "name": "python",
   "nbconvert_exporter": "python",
   "pygments_lexer": "ipython3",
   "version": "3.7.6"
  }
 },
 "nbformat": 4,
 "nbformat_minor": 4
}
