{
 "cells": [
  {
   "cell_type": "code",
   "execution_count": 1,
   "metadata": {
    "scrolled": true
   },
   "outputs": [
    {
     "data": {
      "text/plain": [
       "'\\nkeep the screen on\\n'"
      ]
     },
     "execution_count": 1,
     "metadata": {},
     "output_type": "execute_result"
    }
   ],
   "source": [
    "import turtle as tu\n",
    "import tkinter\n",
    "\n",
    "tu.color(\"red\")\n",
    "tu.forward(100)\n",
    "tu.left(120)\n",
    "tu.forward(100)\n",
    "tu.left(120)\n",
    "tu.forward(100)\n",
    "tu.left(120)\n",
    "\n",
    "tu.color(\"green\")\n",
    "tu.pensize(3)\n",
    "tu.forward(100)\n",
    "tu.left(90)\n",
    "tu.forward(100)\n",
    "tu.left(90)\n",
    "tu.forward(100)\n",
    "tu.left(90)\n",
    "tu.forward(100)\n",
    "tu.left(90)\n",
    "\n",
    "tu.color(\"blue\")\n",
    "tu.pensize(5)\n",
    "tu.circle(50)\n",
    "\n",
    "tu.done()\n",
    "'''\n",
    "keep the screen on\n",
    "'''\n",
    "# keep it on"
   ]
  },
  {
   "cell_type": "markdown",
   "metadata": {},
   "source": []
  },
  {
   "cell_type": "code",
   "execution_count": null,
   "metadata": {},
   "outputs": [],
   "source": []
  }
 ],
 "metadata": {
  "kernelspec": {
   "display_name": "Python 3",
   "language": "python",
   "name": "python3"
  },
  "language_info": {
   "codemirror_mode": {
    "name": "ipython",
    "version": 3
   },
   "file_extension": ".py",
   "mimetype": "text/x-python",
   "name": "python",
   "nbconvert_exporter": "python",
   "pygments_lexer": "ipython3",
   "version": "3.7.6"
  }
 },
 "nbformat": 4,
 "nbformat_minor": 4
}
