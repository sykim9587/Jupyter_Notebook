{
 "cells": [
  {
   "cell_type": "markdown",
   "metadata": {},
   "source": [
    "# labs"
   ]
  },
  {
   "cell_type": "code",
   "execution_count": 4,
   "metadata": {},
   "outputs": [],
   "source": [
    "# chaning the values\n",
    "x=10\n",
    "y=20\n",
    "x,y=y,x"
   ]
  },
  {
   "cell_type": "code",
   "execution_count": 2,
   "metadata": {},
   "outputs": [
    {
     "data": {
      "text/plain": [
       "20"
      ]
     },
     "execution_count": 2,
     "metadata": {},
     "output_type": "execute_result"
    }
   ],
   "source": [
    "x"
   ]
  },
  {
   "cell_type": "code",
   "execution_count": 3,
   "metadata": {},
   "outputs": [
    {
     "data": {
      "text/plain": [
       "10"
      ]
     },
     "execution_count": 3,
     "metadata": {},
     "output_type": "execute_result"
    }
   ],
   "source": [
    "y"
   ]
  },
  {
   "cell_type": "code",
   "execution_count": 13,
   "metadata": {},
   "outputs": [
    {
     "name": "stdout",
     "output_type": "stream",
     "text": [
      "485\n"
     ]
    }
   ],
   "source": [
    "#potatoes\n",
    "\n",
    "pot = 20 + (30)*52 - 3*365\n",
    "print(pot)"
   ]
  },
  {
   "cell_type": "code",
   "execution_count": 14,
   "metadata": {},
   "outputs": [
    {
     "name": "stdout",
     "output_type": "stream",
     "text": [
      "1.57\n"
     ]
    }
   ],
   "source": [
    "#cycling\n",
    "# from math import * -> don't need to write math. \n",
    "import math\n",
    "\n",
    "time_taken = 18/20 + (math.sqrt(3**2 + 4**2))/10 + (math.sqrt(3**2 + 4**2))/30\n",
    "\n",
    "time_taken = round(time_taken,2)\n",
    "print(time_taken)"
   ]
  },
  {
   "cell_type": "markdown",
   "metadata": {},
   "source": [
    "## questions"
   ]
  },
  {
   "cell_type": "code",
   "execution_count": 6,
   "metadata": {},
   "outputs": [
    {
     "name": "stdout",
     "output_type": "stream",
     "text": [
      "41\n",
      "80\n"
     ]
    }
   ],
   "source": [
    "myMoney = 5000\n",
    "candyPrice =120\n",
    "\n",
    "#maximum candy number\n",
    "numCandies = myMoney//candyPrice\n",
    "print(numCandies)\n",
    "\n",
    "#money left\n",
    "change = myMoney %candyPrice\n",
    "print(change)"
   ]
  },
  {
   "cell_type": "code",
   "execution_count": 1,
   "metadata": {},
   "outputs": [],
   "source": [
    "import turtle as t\n",
    "d=100\n",
    "a=120\n",
    "t.forward(d)\n",
    "t.left(a)\n",
    "t.forward(d)\n",
    "t.left(a)\n",
    "t.forward(d)\n",
    "t.left(a)\n",
    "\n",
    "t.done()"
   ]
  },
  {
   "cell_type": "code",
   "execution_count": 3,
   "metadata": {},
   "outputs": [
    {
     "data": {
      "text/plain": [
       "111442737812.28842"
      ]
     },
     "execution_count": 3,
     "metadata": {},
     "output_type": "execute_result"
    }
   ],
   "source": [
    "init_money=24\n",
    "interest=0.06\n",
    "years=382\n",
    "\n",
    "init_money*(1+interest)**years"
   ]
  },
  {
   "cell_type": "code",
   "execution_count": 7,
   "metadata": {},
   "outputs": [
    {
     "name": "stdout",
     "output_type": "stream",
     "text": [
      "4.227972264501945\n"
     ]
    }
   ],
   "source": [
    "speed = 3000000\n",
    "distance = 400000000000000\n",
    "secs = distance/speed\n",
    "light_year = secs/(60*60*24*365)\n",
    "print(light_year)"
   ]
  },
  {
   "cell_type": "markdown",
   "metadata": {},
   "source": [
    "# chapter 3"
   ]
  },
  {
   "cell_type": "code",
   "execution_count": 18,
   "metadata": {},
   "outputs": [
    {
     "name": "stdout",
     "output_type": "stream",
     "text": [
      "two numbers: 23,34\n",
      "57\n"
     ]
    }
   ],
   "source": [
    "a,b = map(int, input(\"two numbers: \").split(','))\n",
    "\n",
    "print(a+b)"
   ]
  },
  {
   "cell_type": "code",
   "execution_count": 21,
   "metadata": {},
   "outputs": [
    {
     "name": "stdout",
     "output_type": "stream",
     "text": [
      "fist number: 1\n",
      "second number: 3\n",
      "13\n"
     ]
    }
   ],
   "source": [
    "a = input(\"fist number: \")\n",
    "b = input(\"second number: \")\n",
    "\n",
    "print(a+b)"
   ]
  },
  {
   "cell_type": "code",
   "execution_count": 22,
   "metadata": {},
   "outputs": [
    {
     "name": "stdout",
     "output_type": "stream",
     "text": [
      "fist number: 1\n",
      "second number: 3\n",
      "4\n"
     ]
    }
   ],
   "source": [
    "a = int(input(\"fist number: \"))\n",
    "b = int(input(\"second number: \"))\n",
    "\n",
    "print(a+b)"
   ]
  },
  {
   "cell_type": "code",
   "execution_count": 25,
   "metadata": {},
   "outputs": [
    {
     "name": "stdout",
     "output_type": "stream",
     "text": [
      "two letters: 3 2\n",
      "5\n"
     ]
    }
   ],
   "source": [
    "a,b = input('two letters: ').split()\n",
    "\n",
    "print(int(a)+int(b))"
   ]
  },
  {
   "cell_type": "code",
   "execution_count": null,
   "metadata": {},
   "outputs": [],
   "source": []
  }
 ],
 "metadata": {
  "kernelspec": {
   "display_name": "Python 3",
   "language": "python",
   "name": "python3"
  },
  "language_info": {
   "codemirror_mode": {
    "name": "ipython",
    "version": 3
   },
   "file_extension": ".py",
   "mimetype": "text/x-python",
   "name": "python",
   "nbconvert_exporter": "python",
   "pygments_lexer": "ipython3",
   "version": "3.7.6"
  }
 },
 "nbformat": 4,
 "nbformat_minor": 4
}
