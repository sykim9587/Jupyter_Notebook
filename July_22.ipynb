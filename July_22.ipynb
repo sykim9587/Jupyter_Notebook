{
 "cells": [
  {
   "cell_type": "code",
   "execution_count": 2,
   "metadata": {},
   "outputs": [
    {
     "name": "stdout",
     "output_type": "stream",
     "text": [
      "hello\n",
      "hello\n",
      "hello\n",
      "hello\n",
      "hello\n",
      "hello\n",
      "hello\n",
      "hello\n",
      "hello\n",
      "hello\n"
     ]
    }
   ],
   "source": [
    "for i in reversed(range(10)):\n",
    "    print(\"hello\")"
   ]
  },
  {
   "cell_type": "code",
   "execution_count": 8,
   "metadata": {},
   "outputs": [
    {
     "name": "stdout",
     "output_type": "stream",
     "text": [
      "[3, 2, 1]\n",
      "[3, 2, 1]\n"
     ]
    }
   ],
   "source": [
    "a=[1,2,3]\n",
    "a.reverse() #changes the value\n",
    "print(a)\n",
    "reversed(a) #doesns't change the value\n",
    "print(a)"
   ]
  },
  {
   "cell_type": "code",
   "execution_count": 11,
   "metadata": {},
   "outputs": [
    {
     "name": "stdout",
     "output_type": "stream",
     "text": [
      "up to what degree: 220\n",
      "gap: 20\n",
      "0 -> -17.78\n",
      "20 -> -6.67\n",
      "40 -> 4.44\n",
      "60 -> 15.56\n",
      "80 -> 26.67\n",
      "100 -> 37.78\n",
      "120 -> 48.89\n",
      "140 -> 60.0\n",
      "160 -> 71.11\n",
      "180 -> 82.22\n",
      "200 -> 93.33\n",
      "220 -> 104.44\n"
     ]
    }
   ],
   "source": [
    "max_tem = int(input(\"up to what degree: \"))\n",
    "gap = int(input(\"gap: \"))\n",
    "for i in range(0,max_tem+gap-1,gap):\n",
    "    cel = (i-32)* (5/9)\n",
    "    print(i,\"->\",round(cel,2))\n",
    "    "
   ]
  },
  {
   "cell_type": "code",
   "execution_count": 15,
   "metadata": {},
   "outputs": [
    {
     "name": "stdout",
     "output_type": "stream",
     "text": [
      "['10', '20', '30', '40']\n"
     ]
    },
    {
     "data": {
      "text/plain": [
       "'42'"
      ]
     },
     "execution_count": 15,
     "metadata": {},
     "output_type": "execute_result"
    }
   ],
   "source": [
    "a = \"10 20 30 40\".split(\" \")\n",
    "print(a) #now a list\n",
    "\n",
    "\"{}\".format(42,32) # having more arguments is okay\n",
    "#\"{} {}\".format(43) #this doesn't work"
   ]
  },
  {
   "cell_type": "code",
   "execution_count": 17,
   "metadata": {},
   "outputs": [
    {
     "name": "stdout",
     "output_type": "stream",
     "text": [
      "hello\n",
      "HELLO\n"
     ]
    }
   ],
   "source": [
    "string = \"hello\"\n",
    "\n",
    "string.upper()\n",
    "print(string) #doesn't change the original string\n",
    "\n",
    "print(string.upper())"
   ]
  },
  {
   "cell_type": "code",
   "execution_count": 18,
   "metadata": {},
   "outputs": [
    {
     "name": "stdout",
     "output_type": "stream",
     "text": [
      "1-100 3의 배수 합 1683 입니다.\n"
     ]
    }
   ],
   "source": [
    "sum = 0\n",
    "number = 1\n",
    "\n",
    "while number <= 100:\n",
    "    if number%3 ==0:\n",
    "        sum = sum+number\n",
    "    number +=1\n",
    "print(\"1-100 3의 배수 합 %d 입니다.\"% sum)"
   ]
  },
  {
   "cell_type": "code",
   "execution_count": 33,
   "metadata": {},
   "outputs": [
    {
     "name": "stdout",
     "output_type": "stream",
     "text": [
      "number :12312313\n",
      "sum of all digits is 16\n"
     ]
    }
   ],
   "source": [
    "string = input(\"number :\")\n",
    "length = len(string)\n",
    "\n",
    "i=0\n",
    "sum = 0\n",
    "while i<length:\n",
    "    sum += int(string[i])\n",
    "    i+=1\n",
    "print(\"sum of all digits is %d\"% sum)"
   ]
  },
  {
   "cell_type": "code",
   "execution_count": 36,
   "metadata": {},
   "outputs": [
    {
     "name": "stdout",
     "output_type": "stream",
     "text": [
      "number :1233123\n",
      "sum of all digits is 15\n"
     ]
    }
   ],
   "source": [
    "str_2 = int(input(\"number :\"))\n",
    "digit = 1\n",
    "sum = 0\n",
    "while str_2>0:\n",
    "    digit = str_2%10\n",
    "    sum += digit\n",
    "    str_2 = str_2//10\n",
    "print(\"sum of all digits is %d\"% sum)"
   ]
  },
  {
   "cell_type": "code",
   "execution_count": 26,
   "metadata": {},
   "outputs": [
    {
     "name": "stdout",
     "output_type": "stream",
     "text": [
      "uoy evol I\n"
     ]
    }
   ],
   "source": [
    "# how to reverse the string with for loop, remember!\n",
    "sentense = \"I love you\"\n",
    "reverse_sen = \"\"\n",
    "for char in sentense:\n",
    "    reverse_sen = char + reverse_sen\n",
    "print(reverse_sen)"
   ]
  },
  {
   "cell_type": "code",
   "execution_count": 1,
   "metadata": {},
   "outputs": [
    {
     "name": "stdout",
     "output_type": "stream",
     "text": [
      "1010\n"
     ]
    }
   ],
   "source": [
    "decimal = 10\n",
    "result = ''\n",
    "while decimal >0:\n",
    "    remainder = decimal%2\n",
    "    decimal = decimal//2\n",
    "    result = str(remainder)+result\n",
    "print(result)"
   ]
  },
  {
   "cell_type": "code",
   "execution_count": 3,
   "metadata": {},
   "outputs": [
    {
     "name": "stdout",
     "output_type": "stream",
     "text": [
      "guess the number 1-100: 50\n",
      "it's too big\n",
      "guess the number30\n",
      "it's too small\n",
      "guess the number40\n",
      "it's too small\n",
      "guess the number45\n",
      "That's correct, the nuber was 45 and your guess is 45\n"
     ]
    }
   ],
   "source": [
    "import random as rd\n",
    "a= rd.randint(1,100)\n",
    "guess = int(input(\"guess the number 1-100: \"))\n",
    "while(guess != a):\n",
    "    if(guess >a):\n",
    "        print(\"it's too big\")\n",
    "    else:\n",
    "        print(\"it's too small\")\n",
    "    guess = int(input(\"guess the number\"))\n",
    "print(\"That's correct, the nuber was {} and your guess is {}\".format(a,guess))"
   ]
  },
  {
   "cell_type": "code",
   "execution_count": 4,
   "metadata": {
    "scrolled": false
   },
   "outputs": [
    {
     "name": "stdout",
     "output_type": "stream",
     "text": [
      "구구단 몇 단을 계산할까요(1-9)?:3\n",
      "구구단 3단을 계산합니다.\n",
      "3 x 1 = 3\n",
      "3 x 2 = 6\n",
      "3 x 3 = 9\n",
      "3 x 4 = 12\n",
      "3 x 5 = 15\n",
      "3 x 6 = 18\n",
      "3 x 7 = 21\n",
      "3 x 8 = 24\n",
      "3 x 9 = 27\n",
      "구구단 몇 단을 계산할까요(1-9)?:4\n",
      "구구단 4단을 계산합니다.\n",
      "4 x 1 = 4\n",
      "4 x 2 = 8\n",
      "4 x 3 = 12\n",
      "4 x 4 = 16\n",
      "4 x 5 = 20\n",
      "4 x 6 = 24\n",
      "4 x 7 = 28\n",
      "4 x 8 = 32\n",
      "4 x 9 = 36\n",
      "구구단 몇 단을 계산할까요(1-9)?:2\n",
      "구구단 2단을 계산합니다.\n",
      "2 x 1 = 2\n",
      "2 x 2 = 4\n",
      "2 x 3 = 6\n",
      "2 x 4 = 8\n",
      "2 x 5 = 10\n",
      "2 x 6 = 12\n",
      "2 x 7 = 14\n",
      "2 x 8 = 16\n",
      "2 x 9 = 18\n",
      "구구단 몇 단을 계산할까요(1-9)?:0\n",
      "구구단 게임을 종료합니다.\n"
     ]
    }
   ],
   "source": [
    "num = int(input(\"구구단 몇 단을 계산할까요(1-9)?:\"))\n",
    "while(num>0):\n",
    "    print(\"구구단 {}단을 계산합니다.\".format(num))\n",
    "    for i in range(1,10):\n",
    "        print(num, \"x\",i,\"=\",i*num)\n",
    "    num = int(input(\"구구단 몇 단을 계산할까요(1-9)?:\"))\n",
    "print(\"구구단 게임을 종료합니다.\")   \n"
   ]
  },
  {
   "cell_type": "code",
   "execution_count": 7,
   "metadata": {},
   "outputs": [
    {
     "name": "stdout",
     "output_type": "stream",
     "text": [
      "year 2020\n",
      "summer\n"
     ]
    }
   ],
   "source": [
    "import datetime\n",
    "\n",
    "now = datetime.datetime.now()\n",
    "\n",
    "print(\"year\",now.year)\n",
    "\n",
    "if 3<= now.month <= 5:\n",
    "    print(\"spring\")\n",
    "if 6<= now.month <= 8:\n",
    "    print(\"summer\")"
   ]
  },
  {
   "cell_type": "code",
   "execution_count": 10,
   "metadata": {},
   "outputs": [
    {
     "name": "stdout",
     "output_type": "stream",
     "text": [
      "number : 348734\n",
      "even num\n"
     ]
    }
   ],
   "source": [
    "number = input(\"number : \")\n",
    "last_char = number[-1]\n",
    "\n",
    "if last_char in \"02468\":\n",
    "    print(\"even num\")\n",
    "if last_char in \"13579\":\n",
    "    print(\"odd num\")\n",
    "    \n",
    "#however, always faster to use numbers! number%2 ==0 pr number%2 ==1"
   ]
  },
  {
   "cell_type": "code",
   "execution_count": 1,
   "metadata": {},
   "outputs": [
    {
     "name": "stdout",
     "output_type": "stream",
     "text": [
      "15\n",
      "50\n",
      "25.0\n"
     ]
    }
   ],
   "source": [
    "import trapezium_area\n"
   ]
  },
  {
   "cell_type": "code",
   "execution_count": 2,
   "metadata": {},
   "outputs": [
    {
     "name": "stdout",
     "output_type": "stream",
     "text": [
      "[0, 1, 2, 3, 4, 5, 6, 7, 8, 9]\n"
     ]
    }
   ],
   "source": [
    "print(list(range(10))) #from 0 to 9"
   ]
  },
  {
   "cell_type": "code",
   "execution_count": 5,
   "metadata": {},
   "outputs": [
    {
     "data": {
      "text/plain": [
       "[1, 2, 3]"
      ]
     },
     "execution_count": 5,
     "metadata": {},
     "output_type": "execute_result"
    }
   ],
   "source": [
    "a = [1.2, 2.4, 3.4]\n",
    "a = list(map(int,a)) #list has to be done, without it, it is just map object\n",
    "a"
   ]
  },
  {
   "cell_type": "code",
   "execution_count": 9,
   "metadata": {},
   "outputs": [
    {
     "name": "stdout",
     "output_type": "stream",
     "text": [
      "2 3\n",
      "2\n"
     ]
    }
   ],
   "source": [
    "x = input().split()\n",
    "m = map(int,x) #not changing from float to int, it's chaning from string to int\n",
    "a,b = m # has to have two values\n",
    "print(a)"
   ]
  },
  {
   "cell_type": "code",
   "execution_count": 10,
   "metadata": {},
   "outputs": [
    {
     "name": "stdout",
     "output_type": "stream",
     "text": [
      "[(3, 4, 5), (5, 12, 13), (6, 8, 10), (7, 24, 25), (8, 15, 17), (9, 12, 15), (10, 24, 26), (12, 16, 20), (15, 20, 25), (20, 21, 29)]\n"
     ]
    }
   ],
   "source": [
    "new_list = [(x,y,z) for x in range(1,30) for y in range(x,30) for z in range(y,30) \\\n",
    "           if x**2 + y**2 == z**2]\n",
    "print(new_list)"
   ]
  },
  {
   "cell_type": "code",
   "execution_count": 5,
   "metadata": {},
   "outputs": [
    {
     "name": "stdout",
     "output_type": "stream",
     "text": [
      "-----------------\n",
      "1.List of friends\n",
      "2.Add a friend\n",
      "3.Delete a friend\n",
      "4.Change the name\n",
      "9.end\n",
      "choose the menu:1\n",
      "[]\n",
      "-----------------\n",
      "1.List of friends\n",
      "2.Add a friend\n",
      "3.Delete a friend\n",
      "4.Change the name\n",
      "9.end\n",
      "choose the menu:2\n",
      "name: 홍길동\n",
      "-----------------\n",
      "1.List of friends\n",
      "2.Add a friend\n",
      "3.Delete a friend\n",
      "4.Change the name\n",
      "9.end\n",
      "choose the menu:2\n",
      "name: 김소영\n",
      "-----------------\n",
      "1.List of friends\n",
      "2.Add a friend\n",
      "3.Delete a friend\n",
      "4.Change the name\n",
      "9.end\n",
      "choose the menu:1\n",
      "['홍길동', '김소영']\n",
      "-----------------\n",
      "1.List of friends\n",
      "2.Add a friend\n",
      "3.Delete a friend\n",
      "4.Change the name\n",
      "9.end\n",
      "choose the menu:3\n",
      "name: 선미\n",
      "name not found\n",
      "-----------------\n",
      "1.List of friends\n",
      "2.Add a friend\n",
      "3.Delete a friend\n",
      "4.Change the name\n",
      "9.end\n",
      "choose the menu:4\n",
      "name: 선미\n",
      "name not found\n",
      "-----------------\n",
      "1.List of friends\n",
      "2.Add a friend\n",
      "3.Delete a friend\n",
      "4.Change the name\n",
      "9.end\n",
      "choose the menu:4\n",
      "name: 홍길동\n",
      "new name:김김\n",
      "-----------------\n",
      "1.List of friends\n",
      "2.Add a friend\n",
      "3.Delete a friend\n",
      "4.Change the name\n",
      "9.end\n",
      "choose the menu:1\n",
      "['김김', '김소영']\n",
      "-----------------\n",
      "1.List of friends\n",
      "2.Add a friend\n",
      "3.Delete a friend\n",
      "4.Change the name\n",
      "9.end\n",
      "choose the menu:9\n"
     ]
    }
   ],
   "source": [
    "# contact list program\n",
    "f_list = []\n",
    "while True:\n",
    "    print(\"-----------------\")\n",
    "    print(\"1.List of friends\\n2.Add a friend\\n3.Delete a friend\\n4.Change the name\\n\\\n",
    "9.end\")\n",
    "    choice = int(input(\"choose the menu:\"))\n",
    "    if choice ==9: break\n",
    "    elif choice == 1:\n",
    "        print(f_list)\n",
    "    elif choice == 2:\n",
    "        name = input(\"name: \")\n",
    "        f_list.append(name)\n",
    "    elif choice == 3:\n",
    "        name = input(\"name: \")\n",
    "        if name in f_list:\n",
    "            f_list.remove(name)\n",
    "        else:\n",
    "            print(\"name not found\")\n",
    "    elif choice ==4:\n",
    "        name = input(\"name: \")\n",
    "        if name in f_list:\n",
    "            idx = f_list.index(name)\n",
    "            name = input(\"new name:\")\n",
    "            f_list[idx] = name\n",
    "        else:\n",
    "            print(\"name not found\")\n",
    "    else:\n",
    "        print(\"Wrong input, choose again\")\n"
   ]
  },
  {
   "cell_type": "code",
   "execution_count": 4,
   "metadata": {},
   "outputs": [
    {
     "name": "stdout",
     "output_type": "stream",
     "text": [
      "[5, 4, 2]\n",
      "Random three numbers generated, type in three numbers\n",
      "First number:3\n",
      "Second number:4\n",
      "third number7\n",
      "1S 0B\n",
      "First number:3\n",
      "Second number:2\n",
      "third number9\n",
      "0S 1B\n",
      "First number:5\n",
      "Second number:4\n",
      "third number2\n",
      "3S 0B\n",
      "Game finish!\n"
     ]
    }
   ],
   "source": [
    "#baseball game\n",
    "import random as rd\n",
    "\n",
    "ran_list = []\n",
    "while True:\n",
    "    a = rd.randint(0,9)\n",
    "    if a not in ran_list:\n",
    "        ran_list.append(a)\n",
    "    if len(ran_list)==3:\n",
    "        break\n",
    "\n",
    "print(ran_list)\n",
    "\n",
    "print(\"Random three numbers generated, type in three numbers\")\n",
    "while True:\n",
    "    num1 = int(input(\"First number:\"))\n",
    "    num2 = int(input(\"Second number:\"))\n",
    "    num3 = int(input(\"third number\"))\n",
    "    check_list = [num1, num2, num3]\n",
    "    strike = 0\n",
    "    ball = 0\n",
    "    if num1 in ran_list:\n",
    "        if ran_list[0]==num1:\n",
    "            strike+=1\n",
    "        else:\n",
    "            ball+=1\n",
    "    if num2 in ran_list:\n",
    "        if ran_list[1]==num2:\n",
    "            strike+=1\n",
    "        else:\n",
    "            ball+=1\n",
    "    if num3 in ran_list:\n",
    "        if ran_list[2]==num3:\n",
    "            strike+=1\n",
    "        else:\n",
    "            ball+=1\n",
    "        \n",
    "    print(\"{}S {}B\".format(strike, ball))\n",
    "    if strike == 3:\n",
    "        print(\"Game finish!\")\n",
    "        break\n"
   ]
  },
  {
   "cell_type": "code",
   "execution_count": 16,
   "metadata": {},
   "outputs": [
    {
     "name": "stdout",
     "output_type": "stream",
     "text": [
      "[1, 2, 3, 4]\n",
      "[[1, 2], 1, 2, 3, 4]\n",
      "[[1, 2], 1, 2, 3, 4, 1, 2, 3]\n",
      "[[1, 2], 1, 2, 3, 4, 1, 2, 3, [1, 2], 1, 2, 3, 4, 1, 2, 3]\n"
     ]
    }
   ],
   "source": [
    "list_a = [1,2,3]\n",
    "list_a.append(4)\n",
    "print(list_a)\n",
    "list_a.insert(0,[1,2]) #index, value \n",
    "print(list_a)\n",
    "list_a.extend([1,2,3]) #adding a list\n",
    "print(list_a)\n",
    "list_a.extend(list_a) #adding the list itself\n",
    "print(list_a)"
   ]
  },
  {
   "cell_type": "code",
   "execution_count": 2,
   "metadata": {},
   "outputs": [
    {
     "name": "stdout",
     "output_type": "stream",
     "text": [
      "3\n"
     ]
    }
   ],
   "source": [
    "numbers = [237, 34,1]\n",
    "num = numbers[0]\n",
    "count = 0\n",
    "while(num>0):\n",
    "    count+=1\n",
    "    num = num//10\n",
    "print(count)\n",
    "\n"
   ]
  },
  {
   "cell_type": "code",
   "execution_count": 5,
   "metadata": {},
   "outputs": [
    {
     "name": "stdout",
     "output_type": "stream",
     "text": [
      "[[1, 4, 7], [2, 5, 8], [3, 6, 9]]\n"
     ]
    }
   ],
   "source": [
    "numbers = [1,2,3,4,5,6,7,8,9]\n",
    "output = [[],[],[]]\n",
    "\n",
    "for number in numbers:\n",
    "    index = number%3\n",
    "    if index ==0: index =2\n",
    "    elif index ==1: index = 0\n",
    "    else: index = 1\n",
    "    output[index].append(number)\n",
    "print(output)"
   ]
  },
  {
   "cell_type": "markdown",
   "metadata": {},
   "source": [
    "## lecture chapter 5 & book chap 4"
   ]
  },
  {
   "cell_type": "code",
   "execution_count": 7,
   "metadata": {},
   "outputs": [
    {
     "name": "stdout",
     "output_type": "stream",
     "text": [
      "Fah temp: 32\n",
      "0.0\n"
     ]
    }
   ],
   "source": [
    "def FtoC(temp_f):\n",
    "    temp_c = (5.0 * (temp_f - 32.0))/9.0;\n",
    "    return temp_c;\n",
    "\n",
    "temp_f = float(input(\"Fah temp: \"))\n",
    "\n",
    "print(FtoC(temp_f))"
   ]
  },
  {
   "cell_type": "code",
   "execution_count": 21,
   "metadata": {},
   "outputs": [
    {
     "name": "stdout",
     "output_type": "stream",
     "text": [
      "number: 2\n",
      "True\n"
     ]
    }
   ],
   "source": [
    "def is_prime(number):\n",
    "    for i in range(2,number+1):\n",
    "        if number%i == 0: break\n",
    "    if i==number: return True\n",
    "    else: return False\n",
    "    \n",
    "\n",
    "num = int(input(\"number: \"))\n",
    "print(is_prime(num))"
   ]
  },
  {
   "cell_type": "code",
   "execution_count": 17,
   "metadata": {},
   "outputs": [
    {
     "name": "stdout",
     "output_type": "stream",
     "text": [
      "movie\n",
      "['a', 'b', 'c']\n"
     ]
    }
   ],
   "source": [
    "dict_a = {\n",
    "    \"name\":\"movie\",\n",
    "    \"type\":\"action\",\n",
    "    \"cast\":[\"a\",\"b\",\"c\"]\n",
    "}\n",
    "print(dict_a[\"name\"])\n",
    "print(dict_a[\"cast\"])\n",
    "\n",
    "# {} for dictionary"
   ]
  },
  {
   "cell_type": "code",
   "execution_count": 20,
   "metadata": {},
   "outputs": [
    {
     "data": {
      "text/plain": [
       "{'name_movie': 'aveng', type: 'fun'}"
      ]
     },
     "execution_count": 20,
     "metadata": {},
     "output_type": "execute_result"
    }
   ],
   "source": [
    "name = \"name_movie\"\n",
    "dict_key = {\n",
    "    name:\"aveng\", #if not want \"\" then declare it first\n",
    "    type:\"fun\" #type is a keyward already \n",
    "}\n",
    "\n",
    "dict_key"
   ]
  },
  {
   "cell_type": "code",
   "execution_count": 37,
   "metadata": {},
   "outputs": [
    {
     "name": "stdout",
     "output_type": "stream",
     "text": [
      "4 2\n"
     ]
    }
   ],
   "source": [
    "import random as rd\n",
    "a=rd.randint(0,10)\n",
    "b=rd.randrange(0,10)\n",
    "print(a,b)"
   ]
  },
  {
   "cell_type": "code",
   "execution_count": null,
   "metadata": {},
   "outputs": [],
   "source": [
    "r1a_x = int(input(\"first rec r1a.x =\"))\n",
    "r1a_y = int(input(\"first rec r1a.y =\"))\n",
    "r1b_x = int(input(\"first rec r1b.x =\"))\n",
    "r1b_y = int(input(\"first rec r1b.y =\"))\n",
    "\n",
    "if r1b_x > r1a_x:\n",
    "    r1a_x,r1a_y,r1b_x,r1b_y = r1b_x,r1b_y,r1a_x,r1a_y\n",
    "\n",
    "r2a_x = int(input(\"second rec r2a.x =\"))\n",
    "r2a_y = int(input(\"second rec r2a.y =\"))\n",
    "r2b_x = int(input(\"second rec r2b.x =\"))\n",
    "r2b_y = int(input(\"second rec r2b.y =\"))\n",
    "\n",
    "if r2b_x > r2a_x:\n",
    "    r2a_x,r2a_y,r2b_x,r2b_y = r2b_x,r2b_y,r2a_x,r2a_y\n",
    "\n",
    "#need to sort out the order which is bigger\n",
    "\n",
    "\n",
    "if r1a_x<r2a_x<r1b_x or r1a_x<r2b_x<r1b_x:\n",
    "    if r1a_x<r2a_x<r1b_x:\n",
    "        if r1a_y<r2a_y<r1b_y:\n",
    "            print(\"겹침\")\n",
    "    if r1a_x<r2b_x<r1b_x:\n",
    "        if r1a_y<r2b_y<r1b_y:\n",
    "            print(\"겹침\") \n",
    "else:\n",
    "    print(\"안겹칩\")\n",
    "            \n",
    "    "
   ]
  },
  {
   "cell_type": "code",
   "execution_count": null,
   "metadata": {},
   "outputs": [],
   "source": []
  }
 ],
 "metadata": {
  "kernelspec": {
   "display_name": "Python 3",
   "language": "python",
   "name": "python3"
  },
  "language_info": {
   "codemirror_mode": {
    "name": "ipython",
    "version": 3
   },
   "file_extension": ".py",
   "mimetype": "text/x-python",
   "name": "python",
   "nbconvert_exporter": "python",
   "pygments_lexer": "ipython3",
   "version": "3.7.6"
  }
 },
 "nbformat": 4,
 "nbformat_minor": 4
}
